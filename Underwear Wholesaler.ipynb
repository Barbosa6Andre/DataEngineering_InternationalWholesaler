{
 "cells": [
  {
   "cell_type": "markdown",
   "metadata": {
    "application/vnd.databricks.v1+cell": {
     "cellMetadata": {
      "byteLimit": 2048000,
      "rowLimit": 10000
     },
     "inputWidgets": {},
     "nuid": "2253efc6-ba41-46a1-b38e-3835156420b9",
     "showTitle": false,
     "tableResultSettingsMap": {},
     "title": ""
    }
   },
   "source": [
    "# 📌 Project Overview: Sales & Operations Analytics for an Underwear Wholesaler\n",
    "\n",
    "Welcome to the end-to-end analytics pipeline designed for a wholesale clothing distributor specializing in intimate apparel. This project simulates the real-world process of extracting insights from a raw operational dataset by applying cloud-based data engineering and analytics techniques using **Apache Spark** and **Databricks**.\n",
    "\n",
    "Through a series of structured steps — from data ingestion and quality checks to schema modeling and business intelligence queries — building a solid analytical foundation that supports decision-making across departments like product, sales, customer success, operations, and logistics.\n",
    "\n",
    "---\n",
    "\n",
    "## 🎯 Objective\n",
    "\n",
    "The primary objective of this project is to **build a robust and scalable data pipeline** capable of:\n",
    "\n",
    "- Modeling a retail business using a **star schema**;\n",
    "- Enriching and cleaning raw datasets into **analysis-ready structures**;\n",
    "- **Answering business-critical questions** using SQL-based queries on Spark tables;\n",
    "- Supporting insights generation with a focus on **revenue optimization**, **customer segmentation**, and **sales performance**.\n",
    "\n",
    "---\n",
    "\n",
    "## ❓ Key Business Questions Answered\n",
    "\n",
    "This project explores a variety of business-critical topics, including:\n",
    "\n",
    "- What are the company’s top revenue-generating **products**, **categories**, and **regions**?\n",
    "- Which **customer segments** and **acquisition channels** drive the most revenue?\n",
    "- How does **employee performance** vary and which reps generate the most value?\n",
    "- What is the **geographic distribution** of sales and which cities offer growth opportunities?\n",
    "- How does **customer loyalty** contribute to sustained revenue?\n",
    "- What can we learn from **shipping patterns**, **payment coverage**, and **churn behavior**?\n",
    "\n",
    "Each of these questions is addressed through clearly defined queries and visual breakdowns throughout the notebook.\n",
    "\n",
    "---\n",
    "\n",
    "## 🗂️ Project Structure Overview\n",
    "\n",
    "Below is a complete breakdown of the sections and subsections covered throughout this project:\n",
    "\n",
    "---\n",
    "\n",
    "### 0 – 🧰 Project Initialization\n",
    "- **0.1 – 🖥️ Environment Setup**\n",
    "- **0.2 – 🌐 Accessing and Listing Remote Files from GitHub**\n",
    "\n",
    "---\n",
    "\n",
    "### 1 – ⚙️ Data Loading & Initial Fixes\n",
    "- **1.0 – 💾 Downloading and Loading CSV Files into Spark**\n",
    "- **1.1 – ⚠️ Fixing Encoding Issues in customers_df**\n",
    "- **1.2 – ⚠️ Fixing Encoding Issues in employees_df**\n",
    "\n",
    "---\n",
    "\n",
    "### 2 – 🧹 Initial Data Quality Checks\n",
    "- **2.1 – 🔍 Quick Data Quality Audit (Nulls, Duplicates & Uniqueness)**\n",
    "- **2.2 – 🧼 Null Value Analysis & Data Cleaning Decisions**\n",
    "\n",
    "---\n",
    "\n",
    "### 3 – 🧱 Building the Enriched Fact Table\n",
    "- **3.1 – 📦 Create Base Fact Table (Orders + Order Details)**\n",
    "- **3.2 – 👥 Enrich Fact Table with Customer and Employee Information**\n",
    "- **3.3 – 🚚 Enrich Fact Table with Product and Shipping Information**\n",
    "- **3.4 – 💳 Enrich Fact Table with Payment Information**\n",
    "\n",
    "---\n",
    "\n",
    "### 4 – ⭐ Building the Star Schema: Dimensions & Fact Table\n",
    "- **4.1 – 🧑‍💼 Create `dim_customers`: Customer Dimension Table**\n",
    "- **4.2 – 🛍️ Create `dim_products`: Product Dimension Table**\n",
    "- **4.3 – 👤 Create `dim_employees`: Employee Dimension Table**\n",
    "- **4.4 – 🚚 Create `dim_shipping_methods`: Shipping Method Dimension**\n",
    "- **4.5 – 💳 Create `dim_payments`: Payment Dimension Table**\n",
    "- **4.6 – 📅 Create `dim_date`: Date Dimension Table**\n",
    "- **4.7 – 🧾 Create Final `fact_sales` Table**\n",
    "- ⭐ **Star Schema Completed**\n",
    "\n",
    "---\n",
    "\n",
    "### 5 – 📊 Business Questions & Strategic Insights\n",
    "- **5.0 – 🧠 Registering Temp Views for SQL Queries**\n",
    "- **5.1 – 🧾 Sales Orders vs. Paid Orders**\n",
    "- **5.2 – 🧍 Revenue by Product Gender**\n",
    "- **5.3 – 🩲 Revenue by Product Category**\n",
    "- **5.4 – 🌍 Regional Revenue Breakdown — Top 10 Cities by Total Revenue**\n",
    "- **5.5 – 🔍 Revenue by Lead Source**\n",
    "- **5.6 – 🧩 Revenue by Customer Class**\n",
    "- **5.7 – 🔁 Revenue by Customer Status (Active vs. Discontinued)**\n",
    "- **5.8 – 🏆 Top 10 Customers – Performance Deep Dive**\n",
    "- **5.9 – 🧑‍💼 Employee Performance Analysis**\n",
    "- **5.10 – 📆 Revenue Trend Over Time**\n",
    "- **5.11 – 💰 Average Order Value (AOV) by Customer Class**\n",
    "- **5.12 – 🔁 Revenue by Customer Loyalty**\n",
    "- **5.13 – 🚚 Shipping Method Overview**\n",
    "\n",
    "---\n",
    "\n",
    "### 6 – ✅ Final Considerations\n",
    "- Summary of findings, data quality remarks, business takeaways, and suggestions for future work."
   ]
  },
  {
   "cell_type": "markdown",
   "metadata": {
    "application/vnd.databricks.v1+cell": {
     "cellMetadata": {},
     "inputWidgets": {},
     "nuid": "e2384431-89ec-4b34-84dc-a8ea3d5aa467",
     "showTitle": false,
     "tableResultSettingsMap": {},
     "title": ""
    }
   },
   "source": [
    "## 0 – 🧰 Project Initialization\n",
    "\n",
    "This section sets the stage for the entire project by preparing the technical environment and retrieving references to the remote data.\n",
    "\n",
    "### Subsections:\n",
    "\n",
    "- **0.1 – 💻 Environment Setup**  \n",
    "- **0.2 – 🌐 Accessing and Listing Remote Files**  "
   ]
  },
  {
   "cell_type": "markdown",
   "metadata": {
    "application/vnd.databricks.v1+cell": {
     "cellMetadata": {},
     "inputWidgets": {},
     "nuid": "2d5e8c23-6427-4c58-a956-fd52f87e467e",
     "showTitle": false,
     "tableResultSettingsMap": {},
     "title": ""
    }
   },
   "source": [
    "### 0.1 - 💻 Environment Setup\n",
    "\n",
    "This section prepares the project environment by importing necessary libraries and initializing the Spark session. These setup steps enable interaction with the Databricks file system, HTTP requests to GitHub, and large-scale data processing with PySpark."
   ]
  },
  {
   "cell_type": "code",
   "execution_count": 0,
   "metadata": {
    "application/vnd.databricks.v1+cell": {
     "cellMetadata": {
      "byteLimit": 2048000,
      "rowLimit": 10000
     },
     "inputWidgets": {},
     "nuid": "f1225c68-989b-491c-a7ca-512d3a8d7bbb",
     "showTitle": false,
     "tableResultSettingsMap": {},
     "title": ""
    }
   },
   "outputs": [],
   "source": [
    "# Core Libraries\n",
    "import requests\n",
    "\n",
    "# Databricks Utilities\n",
    "from pyspark.sql import SparkSession\n",
    "from pyspark.sql.functions import col, year, month, dayofmonth, dayofweek, weekofyear, quarter, date_format, trim, regexp_replace\n",
    "\n",
    "# Create Spark Session (if not already created)\n",
    "spark = SparkSession.builder.appName(\"GitHub_CSV_Loading\").getOrCreate()\n",
    "\n",
    "# File System Utilities\n",
    "import os\n",
    "import shutil\n"
   ]
  },
  {
   "cell_type": "markdown",
   "metadata": {
    "application/vnd.databricks.v1+cell": {
     "cellMetadata": {},
     "inputWidgets": {},
     "nuid": "589ba69e-3df6-41b2-b850-466f2cb5fa4c",
     "showTitle": false,
     "tableResultSettingsMap": {},
     "title": ""
    }
   },
   "source": [
    "###0.2 – 🌐 Accessing and Listing Remote Files from GitHub\n",
    "\n",
    "After preparing the environment, this step uses the GitHub API to dynamically retrieve the list of CSV files to be used in the project. This avoids hardcoding file paths and ensures a scalable and automated ingestion process."
   ]
  },
  {
   "cell_type": "code",
   "execution_count": 0,
   "metadata": {
    "application/vnd.databricks.v1+cell": {
     "cellMetadata": {
      "byteLimit": 2048000,
      "rowLimit": 10000
     },
     "inputWidgets": {},
     "nuid": "40306a96-1b28-472f-a526-7f19b2f748cf",
     "showTitle": false,
     "tableResultSettingsMap": {},
     "title": ""
    }
   },
   "outputs": [
    {
     "output_type": "stream",
     "name": "stdout",
     "output_type": "stream",
     "text": [
      "File: customers.csv - URL: https://raw.githubusercontent.com/Barbosa6Andre/underwearWholesaling/main/Underwear%20wholesaler/customers.csv\nFile: employees.csv - URL: https://raw.githubusercontent.com/Barbosa6Andre/underwearWholesaling/main/Underwear%20wholesaler/employees.csv\nFile: inventory_transactions.csv - URL: https://raw.githubusercontent.com/Barbosa6Andre/underwearWholesaling/main/Underwear%20wholesaler/inventory_transactions.csv\nFile: order_details.csv - URL: https://raw.githubusercontent.com/Barbosa6Andre/underwearWholesaling/main/Underwear%20wholesaler/order_details.csv\nFile: orders.csv - URL: https://raw.githubusercontent.com/Barbosa6Andre/underwearWholesaling/main/Underwear%20wholesaler/orders.csv\nFile: payment_methods.csv - URL: https://raw.githubusercontent.com/Barbosa6Andre/underwearWholesaling/main/Underwear%20wholesaler/payment_methods.csv\nFile: payments.csv - URL: https://raw.githubusercontent.com/Barbosa6Andre/underwearWholesaling/main/Underwear%20wholesaler/payments.csv\nFile: products.csv - URL: https://raw.githubusercontent.com/Barbosa6Andre/underwearWholesaling/main/Underwear%20wholesaler/products.csv\nFile: purchase_orders.csv - URL: https://raw.githubusercontent.com/Barbosa6Andre/underwearWholesaling/main/Underwear%20wholesaler/purchase_orders.csv\nFile: shipping_methods.csv - URL: https://raw.githubusercontent.com/Barbosa6Andre/underwearWholesaling/main/Underwear%20wholesaler/shipping_methods.csv\nFile: suppliers.csv - URL: https://raw.githubusercontent.com/Barbosa6Andre/underwearWholesaling/main/Underwear%20wholesaler/suppliers.csv\n"
     ]
    }
   ],
   "source": [
    "# GitHub API URL for the folder\n",
    "GITHUB_API_URL = \"https://api.github.com/repos/Barbosa6Andre/underwearWholesaling/contents/Underwear%20wholesaler\"\n",
    "\n",
    "# Send a GET request to GitHub API\n",
    "response = requests.get(GITHUB_API_URL)\n",
    "\n",
    "# Check if request was successful\n",
    "if response.status_code == 200:\n",
    "    files = response.json()\n",
    "    # Extract file names and raw download URLs\n",
    "    file_list = [{\"name\": file[\"name\"], \"url\": file[\"download_url\"]} for file in files if \"download_url\" in file]\n",
    "    \n",
    "    # Print the file list\n",
    "    for file in file_list:\n",
    "        print(f\"File: {file['name']} - URL: {file['url']}\")\n",
    "else:\n",
    "    print(f\"Error: Unable to fetch files (Status Code: {response.status_code})\")\n"
   ]
  },
  {
   "cell_type": "code",
   "execution_count": 0,
   "metadata": {
    "application/vnd.databricks.v1+cell": {
     "cellMetadata": {
      "byteLimit": 2048000,
      "rowLimit": 10000
     },
     "inputWidgets": {},
     "nuid": "cd602912-9139-4286-8296-6bdde4d86557",
     "showTitle": false,
     "tableResultSettingsMap": {},
     "title": ""
    }
   },
   "outputs": [
    {
     "output_type": "stream",
     "name": "stdout",
     "output_type": "stream",
     "text": [
      "[{'name': 'customers.csv', 'url': 'https://raw.githubusercontent.com/Barbosa6Andre/underwearWholesaling/main/Underwear%20wholesaler/customers.csv'}, {'name': 'employees.csv', 'url': 'https://raw.githubusercontent.com/Barbosa6Andre/underwearWholesaling/main/Underwear%20wholesaler/employees.csv'}, {'name': 'inventory_transactions.csv', 'url': 'https://raw.githubusercontent.com/Barbosa6Andre/underwearWholesaling/main/Underwear%20wholesaler/inventory_transactions.csv'}, {'name': 'order_details.csv', 'url': 'https://raw.githubusercontent.com/Barbosa6Andre/underwearWholesaling/main/Underwear%20wholesaler/order_details.csv'}, {'name': 'orders.csv', 'url': 'https://raw.githubusercontent.com/Barbosa6Andre/underwearWholesaling/main/Underwear%20wholesaler/orders.csv'}, {'name': 'payment_methods.csv', 'url': 'https://raw.githubusercontent.com/Barbosa6Andre/underwearWholesaling/main/Underwear%20wholesaler/payment_methods.csv'}, {'name': 'payments.csv', 'url': 'https://raw.githubusercontent.com/Barbosa6Andre/underwearWholesaling/main/Underwear%20wholesaler/payments.csv'}, {'name': 'products.csv', 'url': 'https://raw.githubusercontent.com/Barbosa6Andre/underwearWholesaling/main/Underwear%20wholesaler/products.csv'}, {'name': 'purchase_orders.csv', 'url': 'https://raw.githubusercontent.com/Barbosa6Andre/underwearWholesaling/main/Underwear%20wholesaler/purchase_orders.csv'}, {'name': 'shipping_methods.csv', 'url': 'https://raw.githubusercontent.com/Barbosa6Andre/underwearWholesaling/main/Underwear%20wholesaler/shipping_methods.csv'}, {'name': 'suppliers.csv', 'url': 'https://raw.githubusercontent.com/Barbosa6Andre/underwearWholesaling/main/Underwear%20wholesaler/suppliers.csv'}]\n"
     ]
    }
   ],
   "source": [
    "#check if all files are in the list\n",
    "print(file_list)"
   ]
  },
  {
   "cell_type": "markdown",
   "metadata": {
    "application/vnd.databricks.v1+cell": {
     "cellMetadata": {},
     "inputWidgets": {},
     "nuid": "5420c7a0-064e-4490-a308-d18919198d01",
     "showTitle": false,
     "tableResultSettingsMap": {},
     "title": ""
    }
   },
   "source": [
    "## 1 – ⚙️ Data Loading & Initial Fixes\n",
    "\n",
    "This section focuses on the first critical step of the pipeline: **retrieving, loading, and validating the raw CSV files** that will form the foundation of our star schema.\n",
    "\n",
    "### Subsections:\n",
    "\n",
    "- **1.0 – 💾 Downloading and Loading CSV Files into Spark**  \n",
    "- **1.1 – ⚠️ Fixing Encoding Issues in `customers_df`** \n",
    "- **1.2 – ⚠️ Fixing Encoding Issues in `employees_df`**  \n",
    "\n",
    "These steps ensure that all base DataFrames are accessible, readable, and ready for early quality checks."
   ]
  },
  {
   "cell_type": "markdown",
   "metadata": {
    "application/vnd.databricks.v1+cell": {
     "cellMetadata": {},
     "inputWidgets": {},
     "nuid": "f1bf40f0-c5ba-42a4-9f0d-3cbfb4f1efcd",
     "showTitle": false,
     "tableResultSettingsMap": {},
     "title": ""
    }
   },
   "source": [
    "### 1.0 - 💾 Downloading and Loading CSV Files into Spark\n",
    "\n",
    "This step handles the full data ingestion process:\n",
    "\n",
    "- Creates a directory in the Databricks File System (DBFS) to store CSV files.\n",
    "- Downloads the CSV files from the GitHub repository using their raw URLs.\n",
    "- Loads each CSV into Spark DataFrames with automatic schema inference.\n",
    "- Stores all DataFrames in a dictionary and assigns them to individual variables for ease of use.\n",
    "- Prepares two key lists: `all_dfs` (with DataFrames) and `all_dfs_names` (with their labels) that will be reused throughout the notebook for looping, checking, and tracking."
   ]
  },
  {
   "cell_type": "code",
   "execution_count": 0,
   "metadata": {
    "application/vnd.databricks.v1+cell": {
     "cellMetadata": {
      "byteLimit": 2048000,
      "rowLimit": 10000
     },
     "inputWidgets": {},
     "nuid": "3d7f66b8-d2fc-4862-aaf0-ca98fe2d9940",
     "showTitle": false,
     "tableResultSettingsMap": {},
     "title": ""
    }
   },
   "outputs": [
    {
     "output_type": "stream",
     "name": "stdout",
     "output_type": "stream",
     "text": [
      "✅ Saved: customers.csv\n✅ Saved: employees.csv\n✅ Saved: inventory_transactions.csv\n✅ Saved: order_details.csv\n✅ Saved: orders.csv\n✅ Saved: payment_methods.csv\n✅ Saved: payments.csv\n✅ Saved: products.csv\n✅ Saved: purchase_orders.csv\n✅ Saved: shipping_methods.csv\n✅ Saved: suppliers.csv\n"
     ]
    }
   ],
   "source": [
    "# Define DBFS and local OS path\n",
    "folder_name = \"tmp/github_csv\"\n",
    "os_path = f\"/dbfs/{folder_name}\"  # For open()\n",
    "dbfs_path = f\"/{folder_name}\"     # For dbutils\n",
    "\n",
    "# Ensure the folder exists at the OS level\n",
    "os.makedirs(os_path, exist_ok=True)  # This is the key fix\n",
    "\n",
    "# Base URL\n",
    "github_base_url = \"https://raw.githubusercontent.com/Barbosa6Andre/underwearWholesaling/main/Underwear%20wholesaler/\"\n",
    "\n",
    "# Dictionary to store DataFrames\n",
    "dfs = {}\n",
    "\n",
    "for f in file_list:\n",
    "    file_name = f[\"name\"]\n",
    "    file_url = f[\"url\"]\n",
    "    file_path = os.path.join(os_path, file_name)  # OS-level path to save\n",
    "\n",
    "    try:\n",
    "        response = requests.get(file_url)\n",
    "        response.raise_for_status()\n",
    "\n",
    "        # Save file to /dbfs/ via local OS-level path\n",
    "        with open(file_path, \"wb\") as f:\n",
    "            f.write(response.content)\n",
    "\n",
    "        print(f\"✅ Saved: {file_name}\")\n",
    "\n",
    "        # Load into Spark DataFrame\n",
    "        df = spark.read.option(\"header\", \"true\").option(\"inferSchema\", \"true\").csv(f\"file://{file_path}\")\n",
    "        dfs[file_name] = df\n",
    "\n",
    "    except Exception as e:\n",
    "        print(f\"❌ Error with {file_name}: {e}\")"
   ]
  },
  {
   "cell_type": "code",
   "execution_count": 0,
   "metadata": {
    "application/vnd.databricks.v1+cell": {
     "cellMetadata": {
      "byteLimit": 2048000,
      "rowLimit": 10000
     },
     "inputWidgets": {},
     "nuid": "1229122e-29c2-4caf-a64b-28e5a7cae24c",
     "showTitle": false,
     "tableResultSettingsMap": {},
     "title": ""
    }
   },
   "outputs": [
    {
     "output_type": "stream",
     "name": "stdout",
     "output_type": "stream",
     "text": [
      "Out[5]: dict_keys(['customers.csv', 'employees.csv', 'inventory_transactions.csv', 'order_details.csv', 'orders.csv', 'payment_methods.csv', 'payments.csv', 'products.csv', 'purchase_orders.csv', 'shipping_methods.csv', 'suppliers.csv'])"
     ]
    }
   ],
   "source": [
    "#check if all files were properly saved in the dict\n",
    "dfs.keys()"
   ]
  },
  {
   "cell_type": "code",
   "execution_count": 0,
   "metadata": {
    "application/vnd.databricks.v1+cell": {
     "cellMetadata": {
      "byteLimit": 2048000,
      "rowLimit": 10000
     },
     "inputWidgets": {},
     "nuid": "66fad6d6-c4df-411c-bacf-de45a0d8be9b",
     "showTitle": false,
     "tableResultSettingsMap": {},
     "title": ""
    }
   },
   "outputs": [],
   "source": [
    "#Establish each of the saved files as a variable to simplify the code\n",
    "customers_df = dfs['customers.csv']\n",
    "employees_df = dfs['employees.csv']\n",
    "inventory_transactions_df = dfs['inventory_transactions.csv']\n",
    "order_details_df = dfs['order_details.csv']\n",
    "orders_df = dfs['orders.csv']\n",
    "payment_methods_df = dfs['payment_methods.csv']\n",
    "payments_df = dfs['payments.csv']\n",
    "products_df = dfs['products.csv']\n",
    "purchase_orders_df = dfs['purchase_orders.csv']\n",
    "shipping_methods_df = dfs['shipping_methods.csv']\n",
    "suppliers_df = dfs['suppliers.csv']\n",
    "\n",
    "all_dfs = [customers_df, employees_df, inventory_transactions_df, order_details_df, orders_df, payment_methods_df, payments_df, products_df, purchase_orders_df, shipping_methods_df, suppliers_df]\n",
    "all_dfs_names = ['customers_df', 'employees_df', 'inventory_transactions_df', 'order_details_df', 'orders_df', 'payment_methods_df', 'payments_df', 'products_df', 'purchase_orders_df', 'shipping_methods_df', 'suppliers_df']"
   ]
  },
  {
   "cell_type": "markdown",
   "metadata": {
    "application/vnd.databricks.v1+cell": {
     "cellMetadata": {},
     "inputWidgets": {},
     "nuid": "59ff2727-215b-4861-8d80-b938d6858ecf",
     "showTitle": false,
     "tableResultSettingsMap": {},
     "title": ""
    }
   },
   "source": [
    "### 1.1 - ⚠️ Fixing Encoding Issues in customers_df\n",
    "\n",
    "The initial import of the `customers.csv` file revealed character encoding issues in the column names. To resolve this, we reload the dataset with UTF-8 encoding and drop malformed rows using Spark's data reading options. We also define a clean schema manually and apply it to ensure that all downstream operations reference valid and readable columns."
   ]
  },
  {
   "cell_type": "code",
   "execution_count": 0,
   "metadata": {
    "application/vnd.databricks.v1+cell": {
     "cellMetadata": {
      "byteLimit": 2048000,
      "rowLimit": 10000
     },
     "inputWidgets": {},
     "nuid": "bf20a1fa-cb59-475f-ac21-2f3c91091df1",
     "showTitle": false,
     "tableResultSettingsMap": {},
     "title": ""
    }
   },
   "outputs": [
    {
     "output_type": "stream",
     "name": "stdout",
     "output_type": "stream",
     "text": [
      "+----------+------------+------+------------------+-------------+--------------------+--------------------+------------+\n|CustomerID|CustomerName|Region|           Country|PriceCategory|       CustomerClass|          LeadSource|Discontinued|\n+----------+------------+------+------------------+-------------+--------------------+--------------------+------------+\n|         1|          C1|Moscow|Russian Federation|            1|Large-Scale Whole...|Referral by the C...|           0|\n|         2|          C2|Moscow|Russian Federation|            1|Large-Scale Whole...|Referral by the C...|           0|\n|         3|          C3|Moscow|Russian Federation|            1|Large-Scale Whole...|Referral by the C...|           1|\n|         4|          C4|Moscow|Russian Federation|            4|Large-Scale Whole...|Referral by the C...|           1|\n|         5|          C5|Moscow|Russian Federation|            1|Large-Scale Whole...|Referral by the C...|           0|\n+----------+------------+------+------------------+-------------+--------------------+--------------------+------------+\nonly showing top 5 rows\n\n"
     ]
    }
   ],
   "source": [
    "customers_df.show(5)"
   ]
  },
  {
   "cell_type": "code",
   "execution_count": 0,
   "metadata": {
    "application/vnd.databricks.v1+cell": {
     "cellMetadata": {
      "byteLimit": 2048000,
      "rowLimit": 10000
     },
     "inputWidgets": {},
     "nuid": "d79bba3c-105b-4439-b253-b65c40bfe9e1",
     "showTitle": false,
     "tableResultSettingsMap": {},
     "title": ""
    }
   },
   "outputs": [],
   "source": [
    "clean_columns_customers = [\n",
    "    \"CustomerID\", \"CustomerName\", \"Region\", \"Country\", \n",
    "    \"PriceCategory\", \"CustomerClass\", \"LeadSource\", \"Discontinued\"\n",
    "]"
   ]
  },
  {
   "cell_type": "code",
   "execution_count": 0,
   "metadata": {
    "application/vnd.databricks.v1+cell": {
     "cellMetadata": {
      "byteLimit": 2048000,
      "rowLimit": 10000
     },
     "inputWidgets": {},
     "nuid": "ef0f4f66-3959-472a-8127-2c01577cf71e",
     "showTitle": false,
     "tableResultSettingsMap": {},
     "title": ""
    }
   },
   "outputs": [],
   "source": [
    "# Reload raw data with encoding handling\n",
    "raw_customers_df = spark.read \\\n",
    "    .format(\"csv\") \\\n",
    "    .option(\"header\", \"true\") \\\n",
    "    .option(\"inferSchema\", \"true\") \\\n",
    "    .option(\"encoding\", \"UTF-8\") \\\n",
    "    .option(\"multiLine\", \"true\") \\\n",
    "    .option(\"mode\", \"DROPMALFORMED\") \\\n",
    "    .load(\"file:/dbfs/tmp/github_csv/customers.csv\")"
   ]
  },
  {
   "cell_type": "code",
   "execution_count": 0,
   "metadata": {
    "application/vnd.databricks.v1+cell": {
     "cellMetadata": {
      "byteLimit": 2048000,
      "rowLimit": 10000
     },
     "inputWidgets": {},
     "nuid": "8a3db06c-8184-431c-9998-4217d0ca3893",
     "showTitle": false,
     "tableResultSettingsMap": {},
     "title": ""
    }
   },
   "outputs": [
    {
     "output_type": "stream",
     "name": "stdout",
     "output_type": "stream",
     "text": [
      "root\n |-- CustomerID: integer (nullable = true)\n |-- CustomerName: string (nullable = true)\n |-- Region: string (nullable = true)\n |-- Country: string (nullable = true)\n |-- PriceCategory: integer (nullable = true)\n |-- CustomerClass: string (nullable = true)\n |-- LeadSource: string (nullable = true)\n |-- Discontinued: integer (nullable = true)\n\n+----------+------------+------+------------------+-------------+--------------------+--------------------+------------+\n|CustomerID|CustomerName|Region|           Country|PriceCategory|       CustomerClass|          LeadSource|Discontinued|\n+----------+------------+------+------------------+-------------+--------------------+--------------------+------------+\n|         1|          C1|Moscow|Russian Federation|            1|Large-Scale Whole...|Referral by the C...|           0|\n|         2|          C2|Moscow|Russian Federation|            1|Large-Scale Whole...|Referral by the C...|           0|\n|         3|          C3|Moscow|Russian Federation|            1|Large-Scale Whole...|Referral by the C...|           1|\n|         4|          C4|Moscow|Russian Federation|            4|Large-Scale Whole...|Referral by the C...|           1|\n|         5|          C5|Moscow|Russian Federation|            1|Large-Scale Whole...|Referral by the C...|           0|\n+----------+------------+------+------------------+-------------+--------------------+--------------------+------------+\nonly showing top 5 rows\n\n"
     ]
    }
   ],
   "source": [
    "customers_df = raw_customers_df.toDF(*clean_columns_customers)\n",
    "customers_df.printSchema()\n",
    "customers_df.show(5)"
   ]
  },
  {
   "cell_type": "markdown",
   "metadata": {
    "application/vnd.databricks.v1+cell": {
     "cellMetadata": {},
     "inputWidgets": {},
     "nuid": "6dd4a9b8-1ce6-4f70-a9cb-50bd6e8d897f",
     "showTitle": false,
     "tableResultSettingsMap": {},
     "title": ""
    }
   },
   "source": [
    "### 1.2 - ⚠️ Fixing Encoding Issues in employees_df\n",
    "\n",
    "Similar to `customers_df`, the employee dataset contained improperly encoded characters and malformed values. In this step, we reload the CSV with the appropriate encoding and define a clean schema manually. We also apply string cleaning and type casting functions to ensure IDs are usable integers and names are clean. This prepares the DataFrame for integration into the star schema."
   ]
  },
  {
   "cell_type": "code",
   "execution_count": 0,
   "metadata": {
    "application/vnd.databricks.v1+cell": {
     "cellMetadata": {
      "byteLimit": 2048000,
      "rowLimit": 10000
     },
     "inputWidgets": {},
     "nuid": "f9031033-e872-4fbe-9c52-2a1c678f817f",
     "showTitle": false,
     "tableResultSettingsMap": {},
     "title": ""
    }
   },
   "outputs": [
    {
     "output_type": "stream",
     "name": "stdout",
     "output_type": "stream",
     "text": [
      "+--------------------------+-----------------------------+\n|��\"\u0000E\u0000m\u0000p\u0000l\u0000o\u0000y\u0000e\u0000e\u0000I\u0000D\u0000\"\u0000|\u0000\"\u0000E\u0000m\u0000p\u0000l\u0000o\u0000y\u0000e\u0000e\u0000N\u0000a\u0000m\u0000e\u0000\"\u0000|\n+--------------------------+-----------------------------+\n|                       \u00001\u0000|                    \u0000\"\u0000E\u00001\u0000\"\u0000|\n|                       \u00002\u0000|                    \u0000\"\u0000E\u00002\u0000\"\u0000|\n|                       \u00003\u0000|                    \u0000\"\u0000E\u00003\u0000\"\u0000|\n|                       \u00005\u0000|                    \u0000\"\u0000E\u00004\u0000\"\u0000|\n|                       \u00006\u0000|                    \u0000\"\u0000E\u00005\u0000\"\u0000|\n+--------------------------+-----------------------------+\nonly showing top 5 rows\n\n"
     ]
    }
   ],
   "source": [
    "employees_df.show(5)"
   ]
  },
  {
   "cell_type": "code",
   "execution_count": 0,
   "metadata": {
    "application/vnd.databricks.v1+cell": {
     "cellMetadata": {
      "byteLimit": 2048000,
      "rowLimit": 10000
     },
     "inputWidgets": {},
     "nuid": "9878f633-0130-4512-8646-e6b261183535",
     "showTitle": false,
     "tableResultSettingsMap": {},
     "title": ""
    }
   },
   "outputs": [],
   "source": [
    "clean_columns_employees = [\n",
    "    \"EmployeeID\", \"EmployeeName\"\n",
    "]"
   ]
  },
  {
   "cell_type": "code",
   "execution_count": 0,
   "metadata": {
    "application/vnd.databricks.v1+cell": {
     "cellMetadata": {
      "byteLimit": 2048000,
      "rowLimit": 10000
     },
     "inputWidgets": {},
     "nuid": "18cd4910-5415-4695-a394-d9aa77d93fcd",
     "showTitle": false,
     "tableResultSettingsMap": {},
     "title": ""
    }
   },
   "outputs": [],
   "source": [
    "raw_employees_df = spark.read \\\n",
    "    .format(\"csv\") \\\n",
    "    .option(\"header\", \"true\") \\\n",
    "    .option(\"inferSchema\", \"true\") \\\n",
    "    .option(\"encoding\", \"UTF-8\") \\\n",
    "    .option(\"multiLine\", \"true\") \\\n",
    "    .option(\"mode\", \"DROPMALFORMED\") \\\n",
    "    .load(\"file:/dbfs/tmp/github_csv/employees.csv\")"
   ]
  },
  {
   "cell_type": "code",
   "execution_count": 0,
   "metadata": {
    "application/vnd.databricks.v1+cell": {
     "cellMetadata": {
      "byteLimit": 2048000,
      "rowLimit": 10000
     },
     "inputWidgets": {},
     "nuid": "4bbe56d7-eefb-4188-bc17-9bf464c806e6",
     "showTitle": false,
     "tableResultSettingsMap": {},
     "title": ""
    }
   },
   "outputs": [
    {
     "output_type": "stream",
     "name": "stdout",
     "output_type": "stream",
     "text": [
      "root\n |-- EmployeeID: integer (nullable = true)\n |-- EmployeeName: string (nullable = true)\n\n+----------+------------+\n|EmployeeID|EmployeeName|\n+----------+------------+\n|         1|     \u0000\u0000E\u00001\u0000\u0000|\n|         2|     \u0000\u0000E\u00002\u0000\u0000|\n|         3|     \u0000\u0000E\u00003\u0000\u0000|\n|         5|     \u0000\u0000E\u00004\u0000\u0000|\n|         6|     \u0000\u0000E\u00005\u0000\u0000|\n+----------+------------+\nonly showing top 5 rows\n\n"
     ]
    }
   ],
   "source": [
    "employees_df = raw_employees_df.toDF(*clean_columns_employees)\n",
    "\n",
    "# Clean up potential encoding artifacts in employee columns\n",
    "employees_df = employees_df.select(\n",
    "    regexp_replace(trim(col(\"EmployeeID\").cast(\"string\")), r'[^0-9]', \"\").cast(\"int\").alias(\"EmployeeID\"),\n",
    "    regexp_replace(trim(col(\"EmployeeName\")), '\"', \"\").alias(\"EmployeeName\")\n",
    ")\n",
    "\n",
    "employees_df.printSchema()\n",
    "employees_df.show(5)"
   ]
  },
  {
   "cell_type": "markdown",
   "metadata": {
    "application/vnd.databricks.v1+cell": {
     "cellMetadata": {},
     "inputWidgets": {},
     "nuid": "0babb948-425b-4583-9d10-042ff0fa2655",
     "showTitle": false,
     "tableResultSettingsMap": {},
     "title": ""
    }
   },
   "source": [
    "## 🧹 2. – Initial Data Quality Checks\n",
    "\n",
    "Before diving into modeling, we begin with an early evaluation of the raw data to ensure its reliability and consistency. These checks help us make informed decisions when shaping our pipeline.\n",
    "\n",
    "---\n",
    "\n",
    "###Subsections:\n",
    "\n",
    "- **2.1 – 🔍 Quick Data Quality Audit:** Assesses nulls, duplicates, and column uniqueness across all datasets.\n",
    "- **2.2 – 🧼 Null Value Analysis & Data Cleaning:** Reviews missing values in detail and documents decisions on drops, transformations, or retention based on business logic."
   ]
  },
  {
   "cell_type": "markdown",
   "metadata": {
    "application/vnd.databricks.v1+cell": {
     "cellMetadata": {},
     "inputWidgets": {},
     "nuid": "40160ef4-4533-4e49-bbf4-dd714f96055e",
     "showTitle": false,
     "tableResultSettingsMap": {},
     "title": ""
    }
   },
   "source": [
    "### 2.1 - 🔍 Quick Data Quality Audit (Nulls, Duplicates & Uniqueness)\n",
    "\n",
    "We define a helper function to automatically review key quality indicators across each dataset:\n",
    "- Total number of rows\n",
    "- Number of duplicate rows\n",
    "- Null value count per column\n",
    "- Number of distinct values per column\n",
    "\n",
    "This gives a clear diagnostic of the integrity of each file before we begin our data cleaning strategy."
   ]
  },
  {
   "cell_type": "code",
   "execution_count": 0,
   "metadata": {
    "application/vnd.databricks.v1+cell": {
     "cellMetadata": {
      "byteLimit": 2048000,
      "rowLimit": 10000
     },
     "inputWidgets": {},
     "nuid": "d9f8968e-7059-46eb-8cbc-815938000032",
     "showTitle": false,
     "tableResultSettingsMap": {},
     "title": ""
    }
   },
   "outputs": [
    {
     "output_type": "stream",
     "name": "stdout",
     "output_type": "stream",
     "text": [
      "\n📊 Quality Check for: customers_df\n--------------------------------------------------\nTotal Rows: 225\nDuplicate Rows: 0\n\n🔹 Column: CustomerID\n   - Nulls: 0\n   - Distinct Values: 225\n------------------------------\n🔹 Column: CustomerName\n   - Nulls: 0\n   - Distinct Values: 225\n------------------------------\n🔹 Column: Region\n   - Nulls: 0\n   - Distinct Values: 87\n------------------------------\n🔹 Column: Country\n   - Nulls: 0\n   - Distinct Values: 2\n------------------------------\n🔹 Column: PriceCategory\n   - Nulls: 0\n   - Distinct Values: 7\n------------------------------\n🔹 Column: CustomerClass\n   - Nulls: 0\n   - Distinct Values: 7\n------------------------------\n🔹 Column: LeadSource\n   - Nulls: 4\n   - Distinct Values: 9\n------------------------------\n🔹 Column: Discontinued\n   - Nulls: 0\n   - Distinct Values: 2\n------------------------------\n\n📊 Quality Check for: employees_df\n--------------------------------------------------\nTotal Rows: 15\nDuplicate Rows: 0\n\n🔹 Column: ��\"\u0000E\u0000m\u0000p\u0000l\u0000o\u0000y\u0000e\u0000e\u0000I\u0000D\u0000\"\u0000\n   - Nulls: 0\n   - Distinct Values: 15\n------------------------------\n🔹 Column: \u0000\"\u0000E\u0000m\u0000p\u0000l\u0000o\u0000y\u0000e\u0000e\u0000N\u0000a\u0000m\u0000e\u0000\"\u0000\n   - Nulls: 0\n   - Distinct Values: 15\n------------------------------\n\n📊 Quality Check for: inventory_transactions_df\n--------------------------------------------------\nTotal Rows: 20951\nDuplicate Rows: 0\n\n🔹 Column: TransactionID\n   - Nulls: 0\n   - Distinct Values: 20951\n------------------------------\n🔹 Column: ProductID\n   - Nulls: 0\n   - Distinct Values: 4140\n------------------------------\n🔹 Column: PurchaseOrderID\n   - Nulls: 3345\n   - Distinct Values: 233\n------------------------------\n🔹 Column: MissingID\n   - Nulls: 18757\n   - Distinct Values: 28\n------------------------------\n🔹 Column: TransactionDate\n   - Nulls: 1\n   - Distinct Values: 181\n------------------------------\n🔹 Column: UnitPurchasePrice\n   - Nulls: 1151\n   - Distinct Values: 253\n------------------------------\n🔹 Column: QuantityOrdered\n   - Nulls: 2195\n   - Distinct Values: 269\n------------------------------\n🔹 Column: QuantityReceived\n   - Nulls: 2227\n   - Distinct Values: 269\n------------------------------\n🔹 Column: QuantityMissing\n   - Nulls: 18757\n   - Distinct Values: 94\n------------------------------\n\n📊 Quality Check for: order_details_df\n--------------------------------------------------\nTotal Rows: 105757\nDuplicate Rows: 0\n\n🔹 Column: OrderDetailID\n   - Nulls: 0\n   - Distinct Values: 105757\n------------------------------\n🔹 Column: OrderID\n   - Nulls: 0\n   - Distinct Values: 2286\n------------------------------\n🔹 Column: ProductID\n   - Nulls: 0\n   - Distinct Values: 4042\n------------------------------\n🔹 Column: QuantitySold\n   - Nulls: 0\n   - Distinct Values: 165\n------------------------------\n🔹 Column: UnitSalesPrice\n   - Nulls: 0\n   - Distinct Values: 237\n------------------------------\n\n📊 Quality Check for: orders_df\n--------------------------------------------------\nTotal Rows: 2286\nDuplicate Rows: 0\n\n🔹 Column: OrderID\n   - Nulls: 0\n   - Distinct Values: 2286\n------------------------------\n🔹 Column: CustomerID\n   - Nulls: 0\n   - Distinct Values: 222\n------------------------------\n🔹 Column: EmployeeID\n   - Nulls: 0\n   - Distinct Values: 10\n------------------------------\n🔹 Column: ShippingMethodID\n   - Nulls: 8\n   - Distinct Values: 3\n------------------------------\n🔹 Column: OrderDate\n   - Nulls: 0\n   - Distinct Values: 746\n------------------------------\n🔹 Column: ShipDate\n   - Nulls: 0\n   - Distinct Values: 755\n------------------------------\n🔹 Column: FreightCharge\n   - Nulls: 0\n   - Distinct Values: 34\n------------------------------\n\n📊 Quality Check for: payment_methods_df\n--------------------------------------------------\nTotal Rows: 3\nDuplicate Rows: 0\n\n🔹 Column: PaymentMethodID\n   - Nulls: 0\n   - Distinct Values: 3\n------------------------------\n🔹 Column: PaymentMethod\n   - Nulls: 0\n   - Distinct Values: 3\n------------------------------\n\n📊 Quality Check for: payments_df\n--------------------------------------------------\nTotal Rows: 686\nDuplicate Rows: 0\n\n🔹 Column: PaymentID\n   - Nulls: 0\n   - Distinct Values: 686\n------------------------------\n🔹 Column: OrderID\n   - Nulls: 0\n   - Distinct Values: 658\n------------------------------\n🔹 Column: PaymentMethodID\n   - Nulls: 1\n   - Distinct Values: 3\n------------------------------\n🔹 Column: PaymentDate\n   - Nulls: 0\n   - Distinct Values: 225\n------------------------------\n🔹 Column: PaymentAmount\n   - Nulls: 1\n   - Distinct Values: 673\n------------------------------\n\n📊 Quality Check for: products_df\n--------------------------------------------------\nTotal Rows: 4183\nDuplicate Rows: 0\n\n🔹 Column: ProductID\n   - Nulls: 0\n   - Distinct Values: 4183\n------------------------------\n🔹 Column: ProductName\n   - Nulls: 0\n   - Distinct Values: 4183\n------------------------------\n🔹 Column: Color\n   - Nulls: 4107\n   - Distinct Values: 19\n------------------------------\n🔹 Column: ModelDescription\n   - Nulls: 10\n   - Distinct Values: 106\n------------------------------\n🔹 Column: FabricDescription\n   - Nulls: 13\n   - Distinct Values: 335\n------------------------------\n🔹 Column: Category\n   - Nulls: 0\n   - Distinct Values: 10\n------------------------------\n🔹 Column: Gender\n   - Nulls: 0\n   - Distinct Values: 12\n------------------------------\n🔹 Column: ProductLine\n   - Nulls: 0\n   - Distinct Values: 2\n------------------------------\n🔹 Column: Weight\n   - Nulls: 0\n   - Distinct Values: 705\n------------------------------\n🔹 Column: Size\n   - Nulls: 14\n   - Distinct Values: 25\n------------------------------\n🔹 Column: PackSize\n   - Nulls: 0\n   - Distinct Values: 2\n------------------------------\n🔹 Column: Status\n   - Nulls: 0\n   - Distinct Values: 2\n------------------------------\n🔹 Column: InventoryDate\n   - Nulls: 0\n   - Distinct Values: 112\n------------------------------\n🔹 Column: PurchasePrice\n   - Nulls: 0\n   - Distinct Values: 231\n------------------------------\n\n📊 Quality Check for: purchase_orders_df\n--------------------------------------------------\nTotal Rows: 232\nDuplicate Rows: 0\n\n🔹 Column: PurchaseOrderID\n   - Nulls: 0\n   - Distinct Values: 232\n------------------------------\n🔹 Column: SupplierID\n   - Nulls: 0\n   - Distinct Values: 2\n------------------------------\n🔹 Column: EmployeeID\n   - Nulls: 0\n   - Distinct Values: 6\n------------------------------\n🔹 Column: ShippingMethodID\n   - Nulls: 5\n   - Distinct Values: 4\n------------------------------\n🔹 Column: OrderDate\n   - Nulls: 0\n   - Distinct Values: 138\n------------------------------\n\n📊 Quality Check for: shipping_methods_df\n--------------------------------------------------\nTotal Rows: 4\nDuplicate Rows: 0\n\n🔹 Column: ShippingMethodID\n   - Nulls: 0\n   - Distinct Values: 4\n------------------------------\n🔹 Column: ShippingMethod\n   - Nulls: 0\n   - Distinct Values: 4\n------------------------------\n\n📊 Quality Check for: suppliers_df\n--------------------------------------------------\nTotal Rows: 2\nDuplicate Rows: 0\n\n🔹 Column: SupplierID\n   - Nulls: 0\n   - Distinct Values: 2\n------------------------------\n🔹 Column: SupplierName\n   - Nulls: 0\n   - Distinct Values: 2\n------------------------------\n"
     ]
    }
   ],
   "source": [
    "def quick_check_all(df, df_name=\"Unnamed DataFrame\"):\n",
    "    print(f\"\\n📊 Quality Check for: {df_name}\")\n",
    "    print(\"-\" * 50)\n",
    "    \n",
    "    total_rows = df.count()\n",
    "    print(f\"Total Rows: {total_rows}\")\n",
    "    \n",
    "    # Check for duplicate full rows\n",
    "    duplicate_rows = total_rows - df.dropDuplicates().count()\n",
    "    print(f\"Duplicate Rows: {duplicate_rows}\\n\")\n",
    "    \n",
    "    for col_name in df.columns:\n",
    "        nulls = df.filter(col(col_name).isNull()).count()\n",
    "        distinct_vals = df.select(col_name).distinct().count()\n",
    "        \n",
    "        print(f\"🔹 Column: {col_name}\")\n",
    "        print(f\"   - Nulls: {nulls}\")\n",
    "        print(f\"   - Distinct Values: {distinct_vals}\")\n",
    "        print(\"-\" * 30)\n",
    "\n",
    "for i in range(len(all_dfs)):\n",
    "    quick_check_all(all_dfs[i], all_dfs_names[i])\n"
   ]
  },
  {
   "cell_type": "markdown",
   "metadata": {
    "application/vnd.databricks.v1+cell": {
     "cellMetadata": {},
     "inputWidgets": {},
     "nuid": "56c198e3-3392-4266-b386-1b1dee3bf6a7",
     "showTitle": false,
     "tableResultSettingsMap": {},
     "title": ""
    }
   },
   "source": [
    "### 2.2 - 🧼 Null Value Analysis & Data Cleaning Decisions\n",
    "\n",
    "This section identifies columns across all datasets that contain null values. We present the total number of nulls, their percentage relative to the dataset, and the number of distinct (non-null) values for additional context.\n",
    "\n",
    "Each case is briefly analyzed to determine whether nulls are tolerable (e.g., due to business logic) or problematic (e.g., in foreign key columns), helping guide our cleaning decisions and what to drop in the next step.\n",
    "\n",
    "---\n",
    "\n",
    "#### 📦 `orders_df`\n",
    "- **ShippingMethodID**  \n",
    "  - 🔸 Nulls: 8 out of 2,286 rows  \n",
    "  - 🔸 Distinct values (non-null): 3  \n",
    "  - 🧠 This is a very small portion of the dataset (~0.35%). These nulls likely indicate incomplete records. Since `ShippingMethodID` is a foreign key used for joins, we'll drop these 8 rows — doing so won't meaningfully impact the overall data quality or analysis.\n",
    "\n",
    "\n",
    "---\n",
    "\n",
    "#### 📦 `purchase_orders_df`\n",
    "- **ShippingMethodID**  \n",
    "  - 🔸 Nulls: 5 out of 232 rows  \n",
    "  - 🔸 Distinct values (non-null): 4  \n",
    "  - 🧠 These nulls represent just over 2% of the dataset. We'll also drop these rows to ensure clean joins with shipping method information, maintaining consistency across the pipeline.\n",
    "\n",
    "---\n",
    "\n",
    "#### 📦 `payments_df`\n",
    "- **PaymentMethodID**  \n",
    "  - 🔸 Nulls: 1 out of 686 rows  \n",
    "  - 🔸 Distinct values: 3  \n",
    "- **PaymentAmount**  \n",
    "  - 🔸 Nulls: 1 out of 686 rows  \n",
    "  - 🔸 Distinct values: 673  \n",
    "  - 🧠 Both of these fields are essential: the payment method identifies how the transaction was made, and the payment amount represents its value. Rows with nulls in either field are incomplete and unusable, and will be dropped.\n",
    "\n",
    "---\n",
    "\n",
    "#### 📦 `products_df`\n",
    "- **Color**  \n",
    "  - 🔸 Nulls: 4,107 out of 4,183 rows (!!)  \n",
    "  - 🔸 Distinct values: 19  \n",
    "  - 🧠 This column is clearly not maintained — over 98% of values are missing. It offers no reliable insight and the column will be dropped entirely. For future color analysis, this field would need to be properly populated.\n",
    "- **Size**  \n",
    "  - 🔸 Nulls: 14 out of 4,183 rows  \n",
    "  - 🔸 Distinct values: 25  \n",
    "  - 🧠 While not as extreme as `Color`, this is still a small number of missing values. Since we don’t have a strong reason to preserve these specific rows, we'll drop them to maintain integrity for size-based queries.\n",
    "- **ModelDescription**  \n",
    "  - 🔸 Nulls: 10 out of 4,183 rows  \n",
    "  - 🔸 Distinct values (non-null): 106  \n",
    "- **FabricDescription**  \n",
    "  - 🔸 Nulls: 13 out of 4,183 rows  \n",
    "  - 🔸 Distinct values (non-null): 335  \n",
    "  - 🧠 These columns appear to be optional descriptive fields, and the number of nulls is very small. We'll keep them for now as they could enrich analysis, especially for product descriptions or marketing insights.\n",
    "\n",
    "---\n",
    "\n",
    "#### 📦 `inventory_transactions_df`\n",
    "- **TransactionDate**  \n",
    "  - 🔸 Nulls: 1 out of 20,951 rows  \n",
    "  - 🔸 Distinct values: 181  \n",
    "  - 🧠 The single null should be removed.\n",
    "- **UnitPurchasePrice**  \n",
    "  - 🔸 Nulls: 1,151  \n",
    "  - 🔸 Distinct values: 253  \n",
    "  - 🧠 This value only applies to purchase transactions — it's the cost per unit bought. Other transaction types (like transfers or corrections) don’t involve purchases, so the field is left blank on purpose. These nulls are expected and will be retained.\n",
    "- **QuantityOrdered**  \n",
    "  - 🔸 Nulls: 2,195 out of 20,951 rows  \n",
    "  - 🔸 Distinct values (non-null): 269  \n",
    "- **QuantityReceived**  \n",
    "  - 🔸 Nulls: 2,227 out of 20,951 rows  \n",
    "  - 🔸 Distinct values (non-null): 269  \n",
    "  - 🧠 Like `UnitPurchasePrice`, these fields are only meaningful in a subset of transactions. Their null presence reflects business logic, not missing data, so we will retain them.\n",
    "- **MissingID**  \n",
    "  - 🔸 Nulls: 18,757 out of 20,951 rows  \n",
    "  - 🔸 Distinct values (non-null): 28  \n",
    "- **QuantityMissing**  \n",
    "  - 🔸 Nulls: 18,757 out of 20,951 rows  \n",
    "  - 🔸 Distinct values (non-null): 94  \n",
    "  - 🧠 These two fields are specific to loss/missing item transactions and are only populated when relevant. Their high null count is expected and does not indicate a data quality issue. We'll keep them.\n",
    "\n",
    "---\n",
    "\n",
    "> 🧹 **Next Step:** Based on the findings above, the next code cell applies our cleaning strategy by dropping specific rows or columns where null values are not acceptable.\n"
   ]
  },
  {
   "cell_type": "code",
   "execution_count": 0,
   "metadata": {
    "application/vnd.databricks.v1+cell": {
     "cellMetadata": {
      "byteLimit": 2048000,
      "rowLimit": 10000
     },
     "inputWidgets": {},
     "nuid": "82fb296f-a47d-437c-9f81-0ea7a487622a",
     "showTitle": false,
     "tableResultSettingsMap": {},
     "title": ""
    }
   },
   "outputs": [
    {
     "output_type": "stream",
     "name": "stdout",
     "output_type": "stream",
     "text": [
      "orders_df → Dropped 8 rows (0.35%)\npurchase_orders_df → Dropped 5 rows (2.16%)\npayments_df → Dropped 2 rows (0.29%)\nproducts_df → Dropped 14 rows (0.33%)\ninventory_transactions_df → Dropped 1 rows (0.00%)\n"
     ]
    }
   ],
   "source": [
    "#Cleaning the dataframes as mentioned above:\n",
    "\n",
    "# ---------------------------------------------\n",
    "# 📦 Cleaning: orders_df\n",
    "# Drop rows with null ShippingMethodID\n",
    "# ---------------------------------------------\n",
    "initial = orders_df.count()\n",
    "orders_df = orders_df.na.drop(subset=[\"ShippingMethodID\"])\n",
    "final = orders_df.count()\n",
    "print(f\"orders_df → Dropped {initial - final} rows ({(initial - final)/initial:.2%})\")\n",
    "\n",
    "# ---------------------------------------------\n",
    "# 📦 Cleaning: purchase_orders_df\n",
    "# Drop rows with null ShippingMethodID\n",
    "# ---------------------------------------------\n",
    "initial = purchase_orders_df.count()\n",
    "purchase_orders_df = purchase_orders_df.na.drop(subset=[\"ShippingMethodID\"])\n",
    "final = purchase_orders_df.count()\n",
    "print(f\"purchase_orders_df → Dropped {initial - final} rows ({(initial - final)/initial:.2%})\")\n",
    "\n",
    "# ---------------------------------------------\n",
    "# 📦 Cleaning: payments_df\n",
    "# Drop rows with null PaymentMethodID or PaymentAmount\n",
    "# ---------------------------------------------\n",
    "initial = payments_df.count()\n",
    "payments_df = payments_df.na.drop(subset=[\"PaymentMethodID\", \"PaymentAmount\"])\n",
    "final = payments_df.count()\n",
    "print(f\"payments_df → Dropped {initial - final} rows ({(initial - final)/initial:.2%})\")\n",
    "\n",
    "# ---------------------------------------------\n",
    "# 📦 Cleaning: products_df\n",
    "# Drop 'Color' column (too many nulls)\n",
    "# Drop rows with null Size or FabricDescription\n",
    "# ---------------------------------------------\n",
    "products_df = products_df.drop(\"Color\")  # Drop the column\n",
    "initial = products_df.count()\n",
    "products_df = products_df.na.drop(subset=[\"Size\", \"FabricDescription\"])\n",
    "final = products_df.count()\n",
    "print(f\"products_df → Dropped {initial - final} rows ({(initial - final)/initial:.2%})\")\n",
    "\n",
    "# ---------------------------------------------\n",
    "# 📦 Cleaning: inventory_transactions_df\n",
    "# Drop row with null TransactionDate (only 1 row)\n",
    "# ---------------------------------------------\n",
    "initial = inventory_transactions_df.count()\n",
    "inventory_transactions_df = inventory_transactions_df.na.drop(subset=[\"TransactionDate\"])\n",
    "final = inventory_transactions_df.count()\n",
    "print(f\"inventory_transactions_df → Dropped {initial - final} rows ({(initial - final)/initial:.2%})\")"
   ]
  },
  {
   "cell_type": "markdown",
   "metadata": {
    "application/vnd.databricks.v1+cell": {
     "cellMetadata": {},
     "inputWidgets": {},
     "nuid": "59adb8d4-1e62-4752-aa4b-6c1ebf4bd44b",
     "showTitle": false,
     "tableResultSettingsMap": {},
     "title": ""
    }
   },
   "source": [
    "## 🧱 3. – Building the Enriched Fact Table\n",
    "\n",
    "With the cleaned datasets prepared in the previous section, we now begin constructing the core **transactional table** that will later become our fact table in the star schema.\n",
    "\n",
    "This process involves:\n",
    "\n",
    "- **Merging the `orders` and `order_details` tables** to bring together general order info with item-level purchase data.\n",
    "- **Enriching the combined dataset** (`fact_sales_df`) with relevant contextual attributes by joining it with other DataFrames: customers, products, employees, shipping methods, and payment-related information.\n",
    "- Ensuring we **preserve all valid sales transactions**, even when some dimensions have missing or incomplete data, by using appropriate `left joins`.\n",
    "\n",
    "By the end of this step, we will have a single, fully enriched DataFrame (`fact_sales_df`) containing all the relevant fields needed to support both analytical queries and the construction of a clean, modular star schema.\n",
    "\n",
    "Each enrichment join is carefully structured and documented for transparency and scalability.\n",
    "\n",
    "---\n",
    "\n",
    "### Subsections:\n",
    "\n",
    "- **3.1 – 📦 Create Base Fact Table (Orders + Order Details)**\n",
    "- **3.2 – 👥 Enrich Fact Table with Customer and Employee Information**\n",
    "- **3.3 – 🚚 Enrich Fact Table with Product and Shipping Information**\n",
    "- **3.4 – 💳 Enrich Fact Table with Payment Information**"
   ]
  },
  {
   "cell_type": "markdown",
   "metadata": {
    "application/vnd.databricks.v1+cell": {
     "cellMetadata": {},
     "inputWidgets": {},
     "nuid": "761d5234-e3f3-47af-98fa-cef323365770",
     "showTitle": false,
     "tableResultSettingsMap": {},
     "title": ""
    }
   },
   "source": [
    "### 3.1 – 📦 Create Base Fact Table (Orders + Order Details)\n",
    "\n",
    "In this step, we begin constructing the central **fact table** for the sales star schema. We perform an inner join between `orders_df` and `order_details_df` using the shared key `OrderID`.\n",
    "\n",
    "This merge allows us to combine general order-level data (like customer, employee, shipping, and dates) with product-specific metrics (like quantity sold and unit sales price). The resulting table forms the foundation for revenue analysis and future joins with dimension tables."
   ]
  },
  {
   "cell_type": "code",
   "execution_count": 0,
   "metadata": {
    "application/vnd.databricks.v1+cell": {
     "cellMetadata": {
      "byteLimit": 2048000,
      "rowLimit": 10000
     },
     "inputWidgets": {},
     "nuid": "eec830f6-5ffa-478c-b9c4-d44605d5711f",
     "showTitle": false,
     "tableResultSettingsMap": {},
     "title": ""
    }
   },
   "outputs": [
    {
     "output_type": "stream",
     "name": "stdout",
     "output_type": "stream",
     "text": [
      "root\n |-- OrderID: integer (nullable = true)\n |-- CustomerID: integer (nullable = true)\n |-- EmployeeID: integer (nullable = true)\n |-- ShippingMethodID: integer (nullable = true)\n |-- OrderDate: date (nullable = true)\n |-- ShipDate: date (nullable = true)\n |-- FreightCharge: double (nullable = true)\n |-- OrderDetailID: integer (nullable = true)\n |-- ProductID: integer (nullable = true)\n |-- QuantitySold: integer (nullable = true)\n |-- UnitSalesPrice: double (nullable = true)\n\n+-------+----------+----------+----------------+----------+----------+-------------+-------------+---------+------------+--------------+\n|OrderID|CustomerID|EmployeeID|ShippingMethodID| OrderDate|  ShipDate|FreightCharge|OrderDetailID|ProductID|QuantitySold|UnitSalesPrice|\n+-------+----------+----------+----------------+----------+----------+-------------+-------------+---------+------------+--------------+\n|      2|         1|         1|               1|2003-07-10|2003-07-10|          0.0|            2|      955|           5|           7.5|\n|      2|         1|         1|               1|2003-07-10|2003-07-10|          0.0|            3|      958|           5|           8.5|\n|      2|         1|         1|               1|2003-07-10|2003-07-10|          0.0|            5|      959|           5|           8.5|\n|      4|         2|         2|               1|2003-07-11|2003-07-11|          0.0|            6|       72|          50|           3.0|\n|      4|         2|         2|               1|2003-07-11|2003-07-11|          0.0|            7|        9|          50|           3.2|\n+-------+----------+----------+----------------+----------+----------+-------------+-------------+---------+------------+--------------+\nonly showing top 5 rows\n\n✅ fact_sales_df created with 105270 rows\n"
     ]
    }
   ],
   "source": [
    "# -----------------------------------------------\n",
    "# 📦 Join orders_df and order_details_df\n",
    "# Purpose: Combine general order info with product-level sales details\n",
    "# -----------------------------------------------\n",
    "\n",
    "fact_sales_df = orders_df.join(\n",
    "    order_details_df,\n",
    "    on=\"OrderID\",  # shared key\n",
    "    how=\"inner\"    # inner join keeps only matching records\n",
    ")\n",
    "\n",
    "# Check the result\n",
    "fact_sales_df.printSchema()\n",
    "fact_sales_df.show(5)\n",
    "print(f\"✅ fact_sales_df created with {fact_sales_df.count()} rows\")\n"
   ]
  },
  {
   "cell_type": "markdown",
   "metadata": {
    "application/vnd.databricks.v1+cell": {
     "cellMetadata": {},
     "inputWidgets": {},
     "nuid": "8b3a161e-781c-413d-adce-22157645de36",
     "showTitle": false,
     "tableResultSettingsMap": {},
     "title": ""
    }
   },
   "source": [
    "### 3.2 – 👥 Enrich Fact Table with Customer and Employee Information\n",
    "\n",
    "We continue building the `fact_sales_df` by performing `left joins` to add customer and employee metadata from their respective dimension tables.\n",
    "\n",
    "- Joining with `customers_df` via `CustomerID` allows us to bring in attributes like region, lead source, and customer class.\n",
    "- Joining with `employees_df` via `EmployeeID` associates each order with the salesperson responsible.\n",
    "\n",
    "These additions enable deeper segmentation and performance analysis across clients and internal teams while preserving all order-level records in the fact table."
   ]
  },
  {
   "cell_type": "code",
   "execution_count": 0,
   "metadata": {
    "application/vnd.databricks.v1+cell": {
     "cellMetadata": {
      "byteLimit": 2048000,
      "rowLimit": 10000
     },
     "inputWidgets": {},
     "nuid": "d7876317-bcdb-4c05-9cde-c09b5ee608a1",
     "showTitle": false,
     "tableResultSettingsMap": {},
     "title": ""
    }
   },
   "outputs": [
    {
     "output_type": "stream",
     "name": "stdout",
     "output_type": "stream",
     "text": [
      "root\n |-- EmployeeID: integer (nullable = true)\n |-- CustomerID: integer (nullable = true)\n |-- OrderID: integer (nullable = true)\n |-- ShippingMethodID: integer (nullable = true)\n |-- OrderDate: date (nullable = true)\n |-- ShipDate: date (nullable = true)\n |-- FreightCharge: double (nullable = true)\n |-- OrderDetailID: integer (nullable = true)\n |-- ProductID: integer (nullable = true)\n |-- QuantitySold: integer (nullable = true)\n |-- UnitSalesPrice: double (nullable = true)\n |-- CustomerName: string (nullable = true)\n |-- Region: string (nullable = true)\n |-- Country: string (nullable = true)\n |-- PriceCategory: integer (nullable = true)\n |-- CustomerClass: string (nullable = true)\n |-- LeadSource: string (nullable = true)\n |-- Discontinued: integer (nullable = true)\n |-- EmployeeName: string (nullable = true)\n\n+----------+----------+-------+----------------+----------+----------+-------------+-------------+---------+------------+--------------+------------+------+------------------+-------------+------------------------+------------------------------+------------+------------+\n|EmployeeID|CustomerID|OrderID|ShippingMethodID|OrderDate |ShipDate  |FreightCharge|OrderDetailID|ProductID|QuantitySold|UnitSalesPrice|CustomerName|Region|Country           |PriceCategory|CustomerClass           |LeadSource                    |Discontinued|EmployeeName|\n+----------+----------+-------+----------------+----------+----------+-------------+-------------+---------+------------+--------------+------------+------+------------------+-------------+------------------------+------------------------------+------------+------------+\n|1         |1         |2      |1               |2003-07-10|2003-07-10|0.0          |2            |955      |5           |7.5           |C1          |Moscow|Russian Federation|1            |Large-Scale Wholesaler-1|Referral by the Central Office|0           |\u0000\u0000E\u00001\u0000\u0000     |\n|1         |1         |2      |1               |2003-07-10|2003-07-10|0.0          |3            |958      |5           |8.5           |C1          |Moscow|Russian Federation|1            |Large-Scale Wholesaler-1|Referral by the Central Office|0           |\u0000\u0000E\u00001\u0000\u0000     |\n|1         |1         |2      |1               |2003-07-10|2003-07-10|0.0          |5            |959      |5           |8.5           |C1          |Moscow|Russian Federation|1            |Large-Scale Wholesaler-1|Referral by the Central Office|0           |\u0000\u0000E\u00001\u0000\u0000     |\n|2         |2         |4      |1               |2003-07-11|2003-07-11|0.0          |6            |72       |50          |3.0           |C2          |Moscow|Russian Federation|1            |Large-Scale Wholesaler-1|Referral by the Central Office|0           |\u0000\u0000E\u00002\u0000\u0000     |\n|2         |2         |4      |1               |2003-07-11|2003-07-11|0.0          |7            |9        |50          |3.2           |C2          |Moscow|Russian Federation|1            |Large-Scale Wholesaler-1|Referral by the Central Office|0           |\u0000\u0000E\u00002\u0000\u0000     |\n+----------+----------+-------+----------------+----------+----------+-------------+-------------+---------+------------+--------------+------------+------+------------------+-------------+------------------------+------------------------------+------------+------------+\nonly showing top 5 rows\n\n✅ fact_sales_df updated with customer and product details. Total rows: 105270\n"
     ]
    }
   ],
   "source": [
    "# ----------------------------------------------------\n",
    "# 📦 Join fact_sales_df with customers_df (on CustomerID)\n",
    "# ----------------------------------------------------\n",
    "fact_sales_df = fact_sales_df.join(\n",
    "    customers_df,           # Dimension table\n",
    "    on=\"CustomerID\",        # Foreign key in fact table\n",
    "    how=\"left\"              # Preserve all sales, even if no customer info\n",
    ")\n",
    "\n",
    "# ----------------------------------------------------\n",
    "# 📦 Join fact_sales_df with employees_df (on EmployeeID)\n",
    "# ----------------------------------------------------\n",
    "fact_sales_df = fact_sales_df.join(\n",
    "    employees_df,           # Dimension table\n",
    "    on=\"EmployeeID\",        # Foreign key in fact table\n",
    "    how=\"left\"              # Preserve all sales, even if no employee info\n",
    ")\n",
    "\n",
    "# ✅ Preview the updated fact table\n",
    "fact_sales_df.printSchema()\n",
    "fact_sales_df.show(5, truncate=False)\n",
    "print(f\"✅ fact_sales_df updated with customer and product details. Total rows: {fact_sales_df.count()}\")\n"
   ]
  },
  {
   "cell_type": "markdown",
   "metadata": {
    "application/vnd.databricks.v1+cell": {
     "cellMetadata": {},
     "inputWidgets": {},
     "nuid": "fd8d34bb-2033-4393-94c5-5aa7726feeca",
     "showTitle": false,
     "tableResultSettingsMap": {},
     "title": ""
    }
   },
   "source": [
    "### 3.3 – 🚚 Enrich Fact Table with Product and Shipping Information\n",
    "\n",
    "In this step, we continue enriching the `fact_sales_df` by joining additional contextual data:\n",
    "\n",
    "- The `products_df` is joined via `ProductID`, adding valuable attributes such as category, gender, model description, and size. This enhances product-level sales analysis and segmentation.\n",
    "- The `shipping_methods_df` is joined using `ShippingMethodID`, allowing us to evaluate logistics and shipping preferences at scale.\n",
    "\n",
    "These enrichments help us analyze performance not just by customer or employee, but also by product attributes and delivery methods."
   ]
  },
  {
   "cell_type": "code",
   "execution_count": 0,
   "metadata": {
    "application/vnd.databricks.v1+cell": {
     "cellMetadata": {
      "byteLimit": 2048000,
      "rowLimit": 10000
     },
     "inputWidgets": {},
     "nuid": "b7678b12-9029-4c34-ba99-96de2287dca3",
     "showTitle": false,
     "tableResultSettingsMap": {},
     "title": ""
    }
   },
   "outputs": [
    {
     "output_type": "stream",
     "name": "stdout",
     "output_type": "stream",
     "text": [
      "root\n |-- ShippingMethodID: integer (nullable = true)\n |-- ProductID: integer (nullable = true)\n |-- EmployeeID: integer (nullable = true)\n |-- CustomerID: integer (nullable = true)\n |-- OrderID: integer (nullable = true)\n |-- OrderDate: date (nullable = true)\n |-- ShipDate: date (nullable = true)\n |-- FreightCharge: double (nullable = true)\n |-- OrderDetailID: integer (nullable = true)\n |-- QuantitySold: integer (nullable = true)\n |-- UnitSalesPrice: double (nullable = true)\n |-- CustomerName: string (nullable = true)\n |-- Region: string (nullable = true)\n |-- Country: string (nullable = true)\n |-- PriceCategory: integer (nullable = true)\n |-- CustomerClass: string (nullable = true)\n |-- LeadSource: string (nullable = true)\n |-- Discontinued: integer (nullable = true)\n |-- EmployeeName: string (nullable = true)\n |-- ProductName: string (nullable = true)\n |-- ModelDescription: string (nullable = true)\n |-- FabricDescription: string (nullable = true)\n |-- Category: string (nullable = true)\n |-- Gender: string (nullable = true)\n |-- ProductLine: string (nullable = true)\n |-- Weight: integer (nullable = true)\n |-- Size: string (nullable = true)\n |-- PackSize: string (nullable = true)\n |-- Status: string (nullable = true)\n |-- InventoryDate: date (nullable = true)\n |-- PurchasePrice: double (nullable = true)\n |-- ShippingMethod: string (nullable = true)\n\n+----------------+---------+----------+----------+-------+----------+----------+-------------+-------------+------------+--------------+------------+------+------------------+-------------+------------------------+------------------------------+------------+------------+-----------+----------------+-----------------+--------+---------------+-----------+------+----+--------+-------------+-------------+-------------+--------------+\n|ShippingMethodID|ProductID|EmployeeID|CustomerID|OrderID|OrderDate |ShipDate  |FreightCharge|OrderDetailID|QuantitySold|UnitSalesPrice|CustomerName|Region|Country           |PriceCategory|CustomerClass           |LeadSource                    |Discontinued|EmployeeName|ProductName|ModelDescription|FabricDescription|Category|Gender         |ProductLine|Weight|Size|PackSize|Status       |InventoryDate|PurchasePrice|ShippingMethod|\n+----------------+---------+----------+----------+-------+----------+----------+-------------+-------------+------------+--------------+------------+------+------------------+-------------+------------------------+------------------------------+------------+------------+-----------+----------------+-----------------+--------+---------------+-----------+------+----+--------+-------------+-------------+-------------+--------------+\n|1               |955      |1         |1         |2      |2003-07-10|2003-07-10|0.0          |2            |5           |7.5           |C1          |Moscow|Russian Federation|1            |Large-Scale Wholesaler-1|Referral by the Central Office|0           |\u0000\u0000E\u00001\u0000\u0000     |XXL-PCL29  |PCL             |29               |Drawers |Women's Panties|Underwear  |997   |XXL |Dozen   |In Production|2003-07-10   |7.15         |Ex Works      |\n|1               |958      |1         |1         |2      |2003-07-10|2003-07-10|0.0          |3            |5           |8.5           |C1          |Moscow|Russian Federation|1            |Large-Scale Wholesaler-1|Referral by the Central Office|0           |\u0000\u0000E\u00001\u0000\u0000     |XXL-PCL31S |PCL             |31               |Drawers |Women's Panties|Underwear  |1110  |XXL |Dozen   |In Production|2003-07-10   |8.3          |Ex Works      |\n|1               |959      |1         |1         |2      |2003-07-10|2003-07-10|0.0          |5            |5           |8.5           |C1          |Moscow|Russian Federation|1            |Large-Scale Wholesaler-1|Referral by the Central Office|0           |\u0000\u0000E\u00001\u0000\u0000     |XXL-PCL31T |PCL             |31               |Drawers |Women's Panties|Underwear  |1055  |XXL |Dozen   |In Production|2003-07-10   |7.2          |Ex Works      |\n|1               |72       |2         |2         |4      |2003-07-11|2003-07-11|0.0          |6            |50          |3.0           |C2          |Moscow|Russian Federation|1            |Large-Scale Wholesaler-1|Referral by the Central Office|0           |\u0000\u0000E\u00002\u0000\u0000     |2-ERK61    |ERK             |61               |Briefs  |Boys' Briefs   |Underwear  |233   |2   |Dozen   |In Production|2003-07-10   |2.5          |Ex Works      |\n|1               |9        |2         |2         |4      |2003-07-11|2003-07-11|0.0          |7            |50          |3.2           |C2          |Moscow|Russian Federation|1            |Large-Scale Wholesaler-1|Referral by the Central Office|0           |\u0000\u0000E\u00002\u0000\u0000     |3-ERK61    |ERK             |61               |Briefs  |Boys' Briefs   |Underwear  |325   |3   |Dozen   |In Production|2003-07-10   |2.7          |Ex Works      |\n+----------------+---------+----------+----------+-------+----------+----------+-------------+-------------+------------+--------------+------------+------+------------------+-------------+------------------------+------------------------------+------------+------------+-----------+----------------+-----------------+--------+---------------+-----------+------+----+--------+-------------+-------------+-------------+--------------+\nonly showing top 5 rows\n\n✅ fact_sales_df fully enriched with employees and shipping info. Total rows: 105270\n"
     ]
    }
   ],
   "source": [
    "# ----------------------------------------------------\n",
    "# 📦 Join fact_sales_df with products_df (on ProductID)\n",
    "# ----------------------------------------------------\n",
    "fact_sales_df = fact_sales_df.join(\n",
    "    products_df,            # Dimension table\n",
    "    on=\"ProductID\",         # Foreign key in fact table\n",
    "    how=\"left\"              # Preserve all sales, even if no product info\n",
    ")\n",
    "\n",
    "# ---------------------------------------------------------------\n",
    "# 📦 Join fact_sales_df with shipping_methods_df (on ShippingMethodID)\n",
    "# ---------------------------------------------------------------\n",
    "fact_sales_df = fact_sales_df.join(\n",
    "    shipping_methods_df,    # Dimension table\n",
    "    on=\"ShippingMethodID\",  # Foreign key in fact table\n",
    "    how=\"left\"              # Preserve all sales, even if no shipping info\n",
    ")\n",
    "\n",
    "# ✅ Preview the final enriched fact table\n",
    "fact_sales_df.printSchema()\n",
    "fact_sales_df.show(5, truncate=False)\n",
    "print(f\"✅ fact_sales_df fully enriched with employees and shipping info. Total rows: {fact_sales_df.count()}\")\n"
   ]
  },
  {
   "cell_type": "markdown",
   "metadata": {
    "application/vnd.databricks.v1+cell": {
     "cellMetadata": {},
     "inputWidgets": {},
     "nuid": "886edde7-a5f0-495e-b347-1a8e11f37e16",
     "showTitle": false,
     "tableResultSettingsMap": {},
     "title": ""
    }
   },
   "source": [
    "### 3.4 – 💳 Enrich Fact Table with Payment Information\n",
    "\n",
    "In this step, we finalize the enrichment of the `fact_sales_df` by incorporating payment-related data:\n",
    "\n",
    "- First, we join `payments_df` via `OrderID` to bring in payment-specific records. This allows us to understand which sales have associated payment information.\n",
    "- Then, we join `payment_methods_df` using `PaymentMethodID` to map each payment to its respective method (e.g. card, transfer, etc.).\n",
    "\n",
    "These joins support financial analysis and can help assess how different payment methods impact revenue or order behavior."
   ]
  },
  {
   "cell_type": "code",
   "execution_count": 0,
   "metadata": {
    "application/vnd.databricks.v1+cell": {
     "cellMetadata": {
      "byteLimit": 2048000,
      "rowLimit": 10000
     },
     "inputWidgets": {},
     "nuid": "782f1c47-7af7-4e2d-a5c0-401df01a1be3",
     "showTitle": false,
     "tableResultSettingsMap": {},
     "title": ""
    }
   },
   "outputs": [
    {
     "output_type": "stream",
     "name": "stdout",
     "output_type": "stream",
     "text": [
      "root\n |-- PaymentMethodID: integer (nullable = true)\n |-- OrderID: integer (nullable = true)\n |-- ShippingMethodID: integer (nullable = true)\n |-- ProductID: integer (nullable = true)\n |-- EmployeeID: integer (nullable = true)\n |-- CustomerID: integer (nullable = true)\n |-- OrderDate: date (nullable = true)\n |-- ShipDate: date (nullable = true)\n |-- FreightCharge: double (nullable = true)\n |-- OrderDetailID: integer (nullable = true)\n |-- QuantitySold: integer (nullable = true)\n |-- UnitSalesPrice: double (nullable = true)\n |-- CustomerName: string (nullable = true)\n |-- Region: string (nullable = true)\n |-- Country: string (nullable = true)\n |-- PriceCategory: integer (nullable = true)\n |-- CustomerClass: string (nullable = true)\n |-- LeadSource: string (nullable = true)\n |-- Discontinued: integer (nullable = true)\n |-- EmployeeName: string (nullable = true)\n |-- ProductName: string (nullable = true)\n |-- ModelDescription: string (nullable = true)\n |-- FabricDescription: string (nullable = true)\n |-- Category: string (nullable = true)\n |-- Gender: string (nullable = true)\n |-- ProductLine: string (nullable = true)\n |-- Weight: integer (nullable = true)\n |-- Size: string (nullable = true)\n |-- PackSize: string (nullable = true)\n |-- Status: string (nullable = true)\n |-- InventoryDate: date (nullable = true)\n |-- PurchasePrice: double (nullable = true)\n |-- ShippingMethod: string (nullable = true)\n |-- PaymentID: integer (nullable = true)\n |-- PaymentDate: date (nullable = true)\n |-- PaymentAmount: string (nullable = true)\n |-- PaymentMethod: string (nullable = true)\n\n+---------------+-------+----------------+---------+----------+----------+----------+----------+-------------+-------------+------------+--------------+------------+------+------------------+-------------+------------------------+------------------------------+------------+------------+-----------+----------------+-----------------+--------+---------------+-----------+------+----+--------+-------------+-------------+-------------+--------------+---------+-----------+-------------+-------------+\n|PaymentMethodID|OrderID|ShippingMethodID|ProductID|EmployeeID|CustomerID|OrderDate |ShipDate  |FreightCharge|OrderDetailID|QuantitySold|UnitSalesPrice|CustomerName|Region|Country           |PriceCategory|CustomerClass           |LeadSource                    |Discontinued|EmployeeName|ProductName|ModelDescription|FabricDescription|Category|Gender         |ProductLine|Weight|Size|PackSize|Status       |InventoryDate|PurchasePrice|ShippingMethod|PaymentID|PaymentDate|PaymentAmount|PaymentMethod|\n+---------------+-------+----------------+---------+----------+----------+----------+----------+-------------+-------------+------------+--------------+------------+------+------------------+-------------+------------------------+------------------------------+------------+------------+-----------+----------------+-----------------+--------+---------------+-----------+------+----+--------+-------------+-------------+-------------+--------------+---------+-----------+-------------+-------------+\n|1              |2      |1               |955      |1         |1         |2003-07-10|2003-07-10|0.0          |2            |5           |7.5           |C1          |Moscow|Russian Federation|1            |Large-Scale Wholesaler-1|Referral by the Central Office|0           |\u0000\u0000E\u00001\u0000\u0000     |XXL-PCL29  |PCL             |29               |Drawers |Women's Panties|Underwear  |997   |XXL |Dozen   |In Production|2003-07-10   |7.15         |Ex Works      |1        |2003-07-10 |603.50       |Cash         |\n|1              |2      |1               |958      |1         |1         |2003-07-10|2003-07-10|0.0          |3            |5           |8.5           |C1          |Moscow|Russian Federation|1            |Large-Scale Wholesaler-1|Referral by the Central Office|0           |\u0000\u0000E\u00001\u0000\u0000     |XXL-PCL31S |PCL             |31               |Drawers |Women's Panties|Underwear  |1110  |XXL |Dozen   |In Production|2003-07-10   |8.3          |Ex Works      |1        |2003-07-10 |603.50       |Cash         |\n|1              |2      |1               |959      |1         |1         |2003-07-10|2003-07-10|0.0          |5            |5           |8.5           |C1          |Moscow|Russian Federation|1            |Large-Scale Wholesaler-1|Referral by the Central Office|0           |\u0000\u0000E\u00001\u0000\u0000     |XXL-PCL31T |PCL             |31               |Drawers |Women's Panties|Underwear  |1055  |XXL |Dozen   |In Production|2003-07-10   |7.2          |Ex Works      |1        |2003-07-10 |603.50       |Cash         |\n|1              |4      |1               |72       |2         |2         |2003-07-11|2003-07-11|0.0          |6            |50          |3.0           |C2          |Moscow|Russian Federation|1            |Large-Scale Wholesaler-1|Referral by the Central Office|0           |\u0000\u0000E\u00002\u0000\u0000     |2-ERK61    |ERK             |61               |Briefs  |Boys' Briefs   |Underwear  |233   |2   |Dozen   |In Production|2003-07-10   |2.5          |Ex Works      |2        |2003-07-12 |1,288.00     |Cash         |\n|1              |4      |1               |9        |2         |2         |2003-07-11|2003-07-11|0.0          |7            |50          |3.2           |C2          |Moscow|Russian Federation|1            |Large-Scale Wholesaler-1|Referral by the Central Office|0           |\u0000\u0000E\u00002\u0000\u0000     |3-ERK61    |ERK             |61               |Briefs  |Boys' Briefs   |Underwear  |325   |3   |Dozen   |In Production|2003-07-10   |2.7          |Ex Works      |2        |2003-07-12 |1,288.00     |Cash         |\n+---------------+-------+----------------+---------+----------+----------+----------+----------+-------------+-------------+------------+--------------+------------+------+------------------+-------------+------------------------+------------------------------+------------+------------+-----------+----------------+-----------------+--------+---------------+-----------+------+----+--------+-------------+-------------+-------------+--------------+---------+-----------+-------------+-------------+\nonly showing top 5 rows\n\n✅ fact_sales_df fully enriched with employees and shipping info. Total rows: 106641\n"
     ]
    }
   ],
   "source": [
    "# ------------------------------------------------------------\n",
    "# 📦 Join fact_sales_df with payments_df (on OrderID)\n",
    "# (to retrieve PaymentMethodID from payments)\n",
    "# ------------------------------------------------------------\n",
    "fact_sales_df = fact_sales_df.join(\n",
    "    payments_df,            # Dimension table \n",
    "    on=\"OrderID\", \n",
    "    how=\"left\"              # Preserve all sales, even if no payment info\n",
    ")\n",
    "\n",
    "# ----------------------------------------------------------------------\n",
    "# 📦 Join fact_sales_df with payment_methods_df (on PaymentMethodID)\n",
    "# ----------------------------------------------------------------------\n",
    "fact_sales_df = fact_sales_df.join(\n",
    "    payment_methods_df,      # Dimension table\n",
    "    on=\"PaymentMethodID\",    # Foreign key now present from previous join\n",
    "    how=\"left\"               # Preserve all sales, even if no payment method info\n",
    ")\n",
    "\n",
    "# ✅ Preview the final enriched fact table\n",
    "fact_sales_df.printSchema()\n",
    "fact_sales_df.show(5, truncate=False)\n",
    "print(f\"✅ fact_sales_df fully enriched with employees and shipping info. Total rows: {fact_sales_df.count()}\")"
   ]
  },
  {
   "cell_type": "markdown",
   "metadata": {
    "application/vnd.databricks.v1+cell": {
     "cellMetadata": {},
     "inputWidgets": {},
     "nuid": "bd6d30fb-087a-4f0c-b8ea-65fe9bb7950b",
     "showTitle": false,
     "tableResultSettingsMap": {},
     "title": ""
    }
   },
   "source": [
    "## 4. – ⭐ Building the Star Schema: Dimensions & Fact Table\n",
    "\n",
    "With the enriched `fact_sales_df` fully prepared, we now transition from our exploratory format to a formal **star schema**. This modeling approach is essential for efficient querying, data warehousing, and BI tool integration.\n",
    "\n",
    "In this step, we will:\n",
    "- Extract and clean **dimension tables** from `fact_sales_df`\n",
    "- Create a compact, analytical **fact table** with only numerical measures and foreign keys\n",
    "- Ensure schema consistency across all joins\n",
    "\n",
    "---\n",
    "\n",
    "### 🧱 Star Schema Overview\n",
    "\n",
    "The structure consists of one central **fact table** and multiple supporting **dimension tables**, each focused on a key aspect of the business.\n",
    "\n",
    "Each dimension captures a specific **descriptive entity** involved in the sales process — such as customers, products, employees, or shipping methods. These tables reduce redundancy and bring context for filtering, aggregation, and slicing in downstream queries.\n",
    "\n",
    "| Table Name             | Type       | Description                                                              |\n",
    "|------------------------|------------|--------------------------------------------------------------------------|\n",
    "| `fact_sales`           | Fact        | Central table storing transaction-level data: foreign keys + numerical measures |\n",
    "| `dim_customers`        | Dimension   | Describes each customer, including region, class, price category, and more |\n",
    "| `dim_products`         | Dimension   | Details each product, including category, size, material, and status     |\n",
    "| `dim_employees`        | Dimension   | Identifies the employee linked to the sale                               |\n",
    "| `dim_shipping_methods` | Dimension   | Describes how the order was delivered                                    |\n",
    "| `dim_payments`         | Dimension   | Records payment transaction metadata including method and amount         |\n",
    "| `dim_date`             | Dimension   | A calendar dimension used for time-based analysis                        |\n",
    "\n",
    "---\n",
    "\n",
    "### 🛠 Methodology for Dimension Creation\n",
    "\n",
    "Each dimension follows a standardized creation process:\n",
    "- Select the relevant attributes from `fact_sales_df` or staging DataFrames\n",
    "- Drop duplicate records using the primary identifier\n",
    "- Sort for clarity and consistency\n",
    "- Track rows removed for transparency\n",
    "- Preview a sample of the results\n",
    "\n",
    "---\n",
    "\n",
    "### ✅ Final Step: Fact Table Creation\n",
    "\n",
    "Once all dimension tables are complete, we reduce `fact_sales_df` to a **clean analytical fact table**, preserving only:\n",
    "- **Foreign keys** pointing to the dimensions\n",
    "- **Quantitative measures** like quantity sold, sales price, and freight charges\n",
    "- **Date keys** that allow time-series aggregation\n",
    "\n",
    "This results in a fully structured **star schema** ready for SQL queries and business insight extraction.\n",
    "\n",
    "---\n",
    "\n",
    "### Subsections:\n",
    "\n",
    "- **4.1 – 🧑‍💼 Create `dim_customers`: Customer Dimension Table**  \n",
    "- **4.2 – 🛍️ Create `dim_products`: Product Dimension Table**  \n",
    "- **4.3 – 👤 Create `dim_employees`: Employees Dimension Table**  \n",
    "- **4.4 – 🚚 Create `dim_shipping_methods`: Shipping Methods Dimension Table**  \n",
    "- **4.5 – 💳 Create `dim_payments`: Payments Dimension Table**  \n",
    "- **4.6 – 📅 Create `dim_date`: Date Dimension Table**  \n",
    "- **4.7 – 🧾 Create Final `fact_sales`: Fact Table**\n",
    "\n",
    "> Once complete, the star schema will serve as the foundation for all business questions and advanced SQL analysis in the next phase."
   ]
  },
  {
   "cell_type": "markdown",
   "metadata": {
    "application/vnd.databricks.v1+cell": {
     "cellMetadata": {},
     "inputWidgets": {},
     "nuid": "5547d52e-c767-45a2-908d-54a81b6e106e",
     "showTitle": false,
     "tableResultSettingsMap": {},
     "title": ""
    }
   },
   "source": [
    "### 4.1 – 🧑‍💼 Create `dim_customers`: Customer Dimension Table\n",
    "\n",
    "In this step, we extract unique customer-related information from the `fact_sales_df` to create the `dim_customers` table. This dimension captures key attributes about each customer that can be used to analyze behavior, segment the client base, and inform strategic decisions.\n",
    "\n",
    "The dimension is created by selecting only relevant columns, removing duplicates based on `CustomerID`, and sorting for readability.\n",
    "\n",
    "| Attribute       | Type     | Description                                               |\n",
    "|----------------|----------|-----------------------------------------------------------|\n",
    "| CustomerID     | Integer  | Unique identifier for each customer                       |\n",
    "| CustomerName   | String   | Name or label assigned to the customer                    |\n",
    "| Region         | String   | Geographical region of the customer                       |\n",
    "| Country        | String   | Country where the customer operates                       |\n",
    "| PriceCategory  | Integer  | Pricing tier applied to the customer                      |\n",
    "| CustomerClass  | String   | Type or profile of customer                               |\n",
    "| LeadSource     | String   | Origin of the customer relationship                       |\n",
    "| Discontinued   | Integer  | 0 = active customer, 1 = discontinued or inactive         |\n",
    "\n",
    "This structure will support future customer-level insights."
   ]
  },
  {
   "cell_type": "code",
   "execution_count": 0,
   "metadata": {
    "application/vnd.databricks.v1+cell": {
     "cellMetadata": {
      "byteLimit": 2048000,
      "rowLimit": 10000
     },
     "inputWidgets": {},
     "nuid": "a43e2982-08af-4dab-bd3c-779c89ce7b24",
     "showTitle": false,
     "tableResultSettingsMap": {},
     "title": ""
    }
   },
   "outputs": [
    {
     "output_type": "stream",
     "name": "stdout",
     "output_type": "stream",
     "text": [
      "🧹 dim_customers → 0 duplicate rows dropped based on CustomerID\nroot\n |-- CustomerID: integer (nullable = true)\n |-- CustomerName: string (nullable = true)\n |-- Region: string (nullable = true)\n |-- Country: string (nullable = true)\n |-- PriceCategory: integer (nullable = true)\n |-- CustomerClass: string (nullable = true)\n |-- LeadSource: string (nullable = true)\n |-- Discontinued: integer (nullable = true)\n\n+----------+------------+------+------------------+-------------+------------------------+------------------------------+------------+\n|CustomerID|CustomerName|Region|Country           |PriceCategory|CustomerClass           |LeadSource                    |Discontinued|\n+----------+------------+------+------------------+-------------+------------------------+------------------------------+------------+\n|1         |C1          |Moscow|Russian Federation|1            |Large-Scale Wholesaler-1|Referral by the Central Office|0           |\n|2         |C2          |Moscow|Russian Federation|1            |Large-Scale Wholesaler-1|Referral by the Central Office|0           |\n|3         |C3          |Moscow|Russian Federation|1            |Large-Scale Wholesaler-1|Referral by the Central Office|1           |\n|4         |C4          |Moscow|Russian Federation|4            |Large-Scale Wholesaler-1|Referral by the Central Office|1           |\n|5         |C5          |Moscow|Russian Federation|1            |Large-Scale Wholesaler-1|Referral by the Central Office|0           |\n+----------+------------+------+------------------+-------------+------------------------+------------------------------+------------+\nonly showing top 5 rows\n\n✅ dim_customers created with 222 unique customers.\n"
     ]
    }
   ],
   "source": [
    "# -----------------------------------------------\n",
    "# 📦 Create dim_customers from fact_sales_df\n",
    "# -----------------------------------------------\n",
    "dim_customers = fact_sales_df.select(\n",
    "    \"CustomerID\",          # Unique customer identifier\n",
    "    \"CustomerName\",        # Name of customer\n",
    "    \"Region\",              # Geographical region\n",
    "    \"Country\",             # Country of origin\n",
    "    \"PriceCategory\",       # Pricing tier\n",
    "    \"CustomerClass\",       # Type/category of customer\n",
    "    \"LeadSource\",          # How customer was acquired\n",
    "    \"Discontinued\"         # If the customer account is still active\n",
    ").dropDuplicates([\"CustomerID\"])\n",
    "\n",
    "# Sort for readability\n",
    "dim_customers = dim_customers.orderBy(\"CustomerID\")\n",
    "\n",
    "# Track dropped rows\n",
    "dropped = fact_sales_df.select(\"CustomerID\").distinct().count() - dim_customers.count()\n",
    "print(f\"🧹 dim_customers → {dropped} duplicate rows dropped based on CustomerID\")\n",
    "\n",
    "\n",
    "# ✅ Preview the result\n",
    "dim_customers.printSchema()\n",
    "dim_customers.show(5, truncate=False)\n",
    "print(f\"✅ dim_customers created with {dim_customers.count()} unique customers.\")"
   ]
  },
  {
   "cell_type": "markdown",
   "metadata": {
    "application/vnd.databricks.v1+cell": {
     "cellMetadata": {},
     "inputWidgets": {},
     "nuid": "2f2978de-5698-4364-9736-b3481f344b98",
     "showTitle": false,
     "tableResultSettingsMap": {},
     "title": ""
    }
   },
   "source": [
    "### 4.2 – 🛍️ Create `dim_products`: Product Dimension Table\n",
    "\n",
    "This step extracts unique product details from the `fact_sales_df` to construct the `dim_products` dimension. Each entry represents a distinct product and includes attributes that support analysis across product type, target audience, pricing, and lifecycle status.\n",
    "\n",
    "| Attribute         | Type     | Description                                                     |\n",
    "|------------------|----------|-----------------------------------------------------------------|\n",
    "| ProductID        | Integer  | Unique identifier for the product                               |\n",
    "| ProductName      | String   | Internal code or name for the product                           |\n",
    "| ModelDescription | String   | Short model-level label or design code                          |\n",
    "| FabricDescription| String   | Description of the material/fabric                              |\n",
    "| Category         | String   | Category like briefs, undershirts, socks, etc.                  |\n",
    "| Gender           | String   | Target audience by gender and age                               |\n",
    "| ProductLine      | String   | Sub-brand or product family                                     |\n",
    "| Weight           | Integer  | Weight of a unit in grams                                       |\n",
    "| Size             | String   | Size label                                                      |\n",
    "| PackSize         | String   | Units per sales pack                                            |\n",
    "| Status           | String   | Lifecycle status                                                |\n",
    "| InventoryDate    | Date     | Date the item was added to inventory                            |\n",
    "| PurchasePrice    | Double   | Internal cost to purchase the item                              |\n",
    "\n",
    "The product dimension enables product-level filtering and comparison across fabric types, sizes, gender targeting, and lifecycle stages."
   ]
  },
  {
   "cell_type": "code",
   "execution_count": 0,
   "metadata": {
    "application/vnd.databricks.v1+cell": {
     "cellMetadata": {
      "byteLimit": 2048000,
      "rowLimit": 10000
     },
     "inputWidgets": {},
     "nuid": "743fc8a2-2a4f-45e8-a1b4-5a50a1cd1d9e",
     "showTitle": false,
     "tableResultSettingsMap": {},
     "title": ""
    }
   },
   "outputs": [
    {
     "output_type": "stream",
     "name": "stdout",
     "output_type": "stream",
     "text": [
      "🧹 dim_products → 0 duplicate rows dropped based on ProductID\nroot\n |-- ProductID: integer (nullable = true)\n |-- ProductName: string (nullable = true)\n |-- ModelDescription: string (nullable = true)\n |-- FabricDescription: string (nullable = true)\n |-- Category: string (nullable = true)\n |-- Gender: string (nullable = true)\n |-- ProductLine: string (nullable = true)\n |-- Weight: integer (nullable = true)\n |-- Size: string (nullable = true)\n |-- PackSize: string (nullable = true)\n |-- Status: string (nullable = true)\n |-- InventoryDate: date (nullable = true)\n |-- PurchasePrice: double (nullable = true)\n\n+---------+-----------+----------------+-----------------+-----------+------------------+-----------+------+----+--------+-----------------+-------------+-------------+\n|ProductID|ProductName|ModelDescription|FabricDescription|Category   |Gender            |ProductLine|Weight|Size|PackSize|Status           |InventoryDate|PurchasePrice|\n+---------+-----------+----------------+-----------------+-----------+------------------+-----------+------+----+--------+-----------------+-------------+-------------+\n|1        |3-182      |AT              |182              |Undershirts|Girls' Undershirts|Underwear  |822   |3   |Dozen   |In Production    |2003-07-10   |6.6          |\n|2        |3-183      |AT              |183              |Undershirts|Girls' Undershirts|Underwear  |620   |3   |Dozen   |Out of Production|2003-07-10   |5.6          |\n|3        |3-184      |AT              |184              |Undershirts|Girls' Undershirts|Underwear  |718   |3   |Dozen   |In Production    |2003-07-10   |6.3          |\n|4        |3-185      |AT              |185              |Undershirts|Boys' Undershirts |Underwear  |820   |3   |Dozen   |In Production    |2003-07-10   |5.6          |\n|5        |3-A30N     |A               |30               |Briefs     |Girls' Panties    |Underwear  |214   |3   |Dozen   |Out of Production|2003-08-06   |3.3          |\n+---------+-----------+----------------+-----------------+-----------+------------------+-----------+------+----+--------+-----------------+-------------+-------------+\nonly showing top 5 rows\n\n✅ dim_products created with 4041 unique products.\n"
     ]
    }
   ],
   "source": [
    "# -----------------------------------------------\n",
    "# 📦 Create dim_products from fact_sales_df\n",
    "# -----------------------------------------------\n",
    "dim_products = fact_sales_df.select(\n",
    "    \"ProductID\",          # Unique product identifier\n",
    "    \"ProductName\",        # Product name\n",
    "    \"ModelDescription\",   # Model-level descriptor\n",
    "    \"FabricDescription\",  # Fabric type or quality\n",
    "    \"Category\",           # Underwear, sock, etc.\n",
    "    \"Gender\",             # Target gender\n",
    "    \"ProductLine\",        # Sub-brand or series\n",
    "    \"Weight\",             # Weight of product\n",
    "    \"Size\",               # Size variant\n",
    "    \"PackSize\",           # Units per pack\n",
    "    \"Status\",             # Active/Inactive\n",
    "    \"InventoryDate\",      # When it was stocked\n",
    "    \"PurchasePrice\"       # Internal purchase cost\n",
    ").dropDuplicates([\"ProductID\"])\n",
    "\n",
    "# Optional: sort for visual clarity\n",
    "dim_products = dim_products.orderBy(\"ProductID\")\n",
    "\n",
    "# Track duplicate drops\n",
    "dropped = fact_sales_df.select(\"ProductID\").distinct().count() - dim_products.count()\n",
    "print(f\"🧹 dim_products → {dropped} duplicate rows dropped based on ProductID\")\n",
    "\n",
    "# ✅ Preview\n",
    "dim_products.printSchema()\n",
    "dim_products.show(5, truncate=False)\n",
    "print(f\"✅ dim_products created with {dim_products.count()} unique products.\")"
   ]
  },
  {
   "cell_type": "markdown",
   "metadata": {
    "application/vnd.databricks.v1+cell": {
     "cellMetadata": {},
     "inputWidgets": {},
     "nuid": "1916ee0f-abe2-4b5d-8f39-6bc5add5818b",
     "showTitle": false,
     "tableResultSettingsMap": {},
     "title": ""
    }
   },
   "source": [
    "### 4.3 – 👤 Create Dimension Table: Employees\n",
    "\n",
    "The `dim_employees` table stores information about the employees involved in sales operations. It is created by selecting distinct employee records from the cleaned `employees_df`.\n",
    "\n",
    "This dimension allows us to attribute sales performance to individual employees and support future analyses on workforce impact and operational structure.\n",
    "\n",
    "| Attribute      | Type   | Description                          |\n",
    "|----------------|--------|--------------------------------------|\n",
    "| EmployeeID     | integer| Unique identifier for employee       |\n",
    "| EmployeeName   | string | Internal code/name                   |"
   ]
  },
  {
   "cell_type": "code",
   "execution_count": 0,
   "metadata": {
    "application/vnd.databricks.v1+cell": {
     "cellMetadata": {
      "byteLimit": 2048000,
      "rowLimit": 10000
     },
     "inputWidgets": {},
     "nuid": "127de31a-d1da-48e2-a70d-5b00312807f1",
     "showTitle": false,
     "tableResultSettingsMap": {},
     "title": ""
    }
   },
   "outputs": [
    {
     "output_type": "stream",
     "name": "stdout",
     "output_type": "stream",
     "text": [
      "🧹 dim_employees → 0 duplicate rows dropped based on EmployeeID\nroot\n |-- EmployeeID: integer (nullable = true)\n |-- EmployeeName: string (nullable = true)\n\n+----------+------------+\n|EmployeeID|EmployeeName|\n+----------+------------+\n|1         |\u0000\u0000E\u00001\u0000\u0000     |\n|2         |\u0000\u0000E\u00002\u0000\u0000     |\n|3         |\u0000\u0000E\u00003\u0000\u0000     |\n|5         |\u0000\u0000E\u00004\u0000\u0000     |\n|6         |\u0000\u0000E\u00005\u0000\u0000     |\n+----------+------------+\nonly showing top 5 rows\n\n✅ dim_employees created with 16 unique employees.\n"
     ]
    }
   ],
   "source": [
    "# -----------------------------------------------\n",
    "# 👤 Create dim_employees from employees_df\n",
    "# -----------------------------------------------\n",
    "dim_employees = employees_df.select(\n",
    "    \"EmployeeID\",     # Unique employee identifier\n",
    "    \"EmployeeName\"    # Employee code (e.g., E1, E2, ...)\n",
    ").dropDuplicates([\"EmployeeID\"])\n",
    "\n",
    "# Optional: sort for clarity\n",
    "dim_employees = dim_employees.orderBy(\"EmployeeID\")\n",
    "\n",
    "# Track dropped rows (if any)\n",
    "dropped = employees_df.select(\"EmployeeID\").distinct().count() - dim_employees.count()\n",
    "print(f\"🧹 dim_employees → {dropped} duplicate rows dropped based on EmployeeID\")\n",
    "\n",
    "# ✅ Preview\n",
    "dim_employees.printSchema()\n",
    "dim_employees.show(5, truncate=False)\n",
    "print(f\"✅ dim_employees created with {dim_employees.count()} unique employees.\")"
   ]
  },
  {
   "cell_type": "markdown",
   "metadata": {
    "application/vnd.databricks.v1+cell": {
     "cellMetadata": {},
     "inputWidgets": {},
     "nuid": "15844e01-f26b-40d0-94fb-86afe36a0b35",
     "showTitle": false,
     "tableResultSettingsMap": {},
     "title": ""
    }
   },
   "source": [
    "### 4.4 – 🚚 Create Dimension Table: Shipping Methods\n",
    "\n",
    "The `dim_shipping_methods` table catalogs all shipping methods available in the dataset. It is derived from the `fact_sales_df` by selecting unique combinations of `ShippingMethodID` and `ShippingMethod`.\n",
    "\n",
    "This dimension supports analysis on logistics performance, preferences, and cost comparisons across different delivery methods.\n",
    "\n",
    "| Attribute         | Type    | Description                              |\n",
    "|-------------------|---------|------------------------------------------|\n",
    "| ShippingMethodID  | int     | Unique identifier for the shipping method|\n",
    "| ShippingMethod    | string  | Name or description of the method used   |"
   ]
  },
  {
   "cell_type": "code",
   "execution_count": 0,
   "metadata": {
    "application/vnd.databricks.v1+cell": {
     "cellMetadata": {
      "byteLimit": 2048000,
      "rowLimit": 10000
     },
     "inputWidgets": {},
     "nuid": "6382a420-d941-4095-b6c3-434854176844",
     "showTitle": false,
     "tableResultSettingsMap": {},
     "title": ""
    }
   },
   "outputs": [
    {
     "output_type": "stream",
     "name": "stdout",
     "output_type": "stream",
     "text": [
      "🧹 dim_shipping_methods → 0 duplicate rows dropped based on ShippingMethodID\nroot\n |-- ShippingMethodID: integer (nullable = true)\n |-- ShippingMethod: string (nullable = true)\n\n+----------------+--------------+\n|ShippingMethodID|ShippingMethod|\n+----------------+--------------+\n|1               |Ex Works      |\n|3               |Container     |\n+----------------+--------------+\n\n✅ dim_shipping_methods created with 2 unique entries.\n"
     ]
    }
   ],
   "source": [
    "# -----------------------------------------------------------\n",
    "# 🚚 Create dim_shipping_methods from fact_sales_df\n",
    "# -----------------------------------------------------------\n",
    "dim_shipping_methods = fact_sales_df.select(\n",
    "    \"ShippingMethodID\",   # Unique identifier\n",
    "    \"ShippingMethod\"      # Correct name of the column\n",
    ").dropDuplicates([\"ShippingMethodID\"])\n",
    "\n",
    "# Optional: sort for clarity\n",
    "dim_shipping_methods = dim_shipping_methods.orderBy(\"ShippingMethodID\")\n",
    "\n",
    "# Track dropped rows (if any)\n",
    "dropped = fact_sales_df.select(\"ShippingMethodID\").distinct().count() - dim_shipping_methods.count()\n",
    "print(f\"🧹 dim_shipping_methods → {dropped} duplicate rows dropped based on ShippingMethodID\")\n",
    "\n",
    "# ✅ Preview\n",
    "dim_shipping_methods.printSchema()\n",
    "dim_shipping_methods.show(5, truncate=False)\n",
    "print(f\"✅ dim_shipping_methods created with {dim_shipping_methods.count()} unique entries.\")"
   ]
  },
  {
   "cell_type": "markdown",
   "metadata": {
    "application/vnd.databricks.v1+cell": {
     "cellMetadata": {},
     "inputWidgets": {},
     "nuid": "6c7e88c3-0692-4791-a0bd-5d50b1f73eda",
     "showTitle": false,
     "tableResultSettingsMap": {},
     "title": ""
    }
   },
   "source": [
    "### 4.5 – 💳 Create Dimension Table: Payments\n",
    "\n",
    "The `dim_payments` table stores detailed records of payment transactions associated with customer orders. Extracted from the original `payments_df`, it ensures each entry is uniquely identified and includes relevant metadata for payment analysis.\n",
    "\n",
    "| Attribute        | Type     | Description                                      |\n",
    "|------------------|----------|--------------------------------------------------|\n",
    "| PaymentID        | int      | Unique identifier for the payment                |\n",
    "| OrderID          | int      | Foreign key linking to the sales fact table      |\n",
    "| PaymentMethodID  | int      | Payment Method identifyer                        |\n",
    "| PaymentDate      | date     | The date the payment was recorded                |\n",
    "| PaymentAmount    | float    | Total amount paid for the transaction (USD)      |"
   ]
  },
  {
   "cell_type": "code",
   "execution_count": 0,
   "metadata": {
    "application/vnd.databricks.v1+cell": {
     "cellMetadata": {
      "byteLimit": 2048000,
      "rowLimit": 10000
     },
     "inputWidgets": {},
     "nuid": "691235c2-d69e-4ca9-87c7-71495933fd09",
     "showTitle": false,
     "tableResultSettingsMap": {},
     "title": ""
    }
   },
   "outputs": [
    {
     "output_type": "stream",
     "name": "stdout",
     "output_type": "stream",
     "text": [
      "🧹 dim_payments → 0 duplicate rows dropped based on PaymentID\nroot\n |-- PaymentID: integer (nullable = true)\n |-- OrderID: integer (nullable = true)\n |-- PaymentMethodID: integer (nullable = true)\n |-- PaymentDate: date (nullable = true)\n |-- PaymentAmount: string (nullable = true)\n\n+---------+-------+---------------+-----------+-------------+\n|PaymentID|OrderID|PaymentMethodID|PaymentDate|PaymentAmount|\n+---------+-------+---------------+-----------+-------------+\n|1        |2      |1              |2003-07-10 |603.50       |\n|2        |4      |1              |2003-07-12 |1,288.00     |\n|4        |5      |1              |2003-07-15 |1,800.00     |\n|5        |6      |1              |2003-07-14 |389.50       |\n|6        |7      |1              |2003-07-15 |1,479.00     |\n+---------+-------+---------------+-----------+-------------+\nonly showing top 5 rows\n\n✅ dim_payments created with 684 unique entries.\n"
     ]
    }
   ],
   "source": [
    "# -----------------------------------------------------------\n",
    "# 💳 Create dim_payments from payments_df\n",
    "# -----------------------------------------------------------\n",
    "dim_payments = payments_df.select(\n",
    "    \"PaymentID\",          # Unique identifier for the payment\n",
    "    \"OrderID\",            # FK to fact_sales (or used for joins)\n",
    "    \"PaymentMethodID\",    # FK to dim_payment_methods\n",
    "    \"PaymentDate\",        # When the payment was made\n",
    "    \"PaymentAmount\"       # How much was paid\n",
    ").dropDuplicates([\"PaymentID\"])\n",
    "\n",
    "# Optional: sort for clarity\n",
    "dim_payments = dim_payments.orderBy(\"PaymentID\")\n",
    "\n",
    "# Track dropped rows (if any)\n",
    "dropped = payments_df.select(\"PaymentID\").distinct().count() - dim_payments.count()\n",
    "print(f\"🧹 dim_payments → {dropped} duplicate rows dropped based on PaymentID\")\n",
    "\n",
    "# ✅ Preview\n",
    "dim_payments.printSchema()\n",
    "dim_payments.show(5, truncate=False)\n",
    "print(f\"✅ dim_payments created with {dim_payments.count()} unique entries.\")"
   ]
  },
  {
   "cell_type": "markdown",
   "metadata": {
    "application/vnd.databricks.v1+cell": {
     "cellMetadata": {},
     "inputWidgets": {},
     "nuid": "0b8fbdbf-cbab-4e6b-b1c2-b3f30125392e",
     "showTitle": false,
     "tableResultSettingsMap": {},
     "title": ""
    }
   },
   "source": [
    "### 4.6 – 📅 Create Dimension Table: Date\n",
    "\n",
    "The `dim_date` table serves as a calendar dimension that allows for rich time-based analysis, such as tracking sales by **month**, **weekday**, or **quarter**. It enables consistent filtering and grouping across fact tables by replacing raw date fields with descriptive foreign key relationships.\n",
    "\n",
    "In this project, we extract all unique `OrderDate` and `ShipDate` values from the fact table, combine them into a single date key column, and enrich each date with temporal attributes. This setup supports advanced trend analysis such as **seasonality**, **weekday patterns**, or **shipping delays**.\n",
    "\n",
    "Both `OrderDate` and `ShipDate` remain in the `fact_sales` table and act as **foreign keys** referencing `dim_date.DateKey`.\n",
    "\n",
    "| Attribute     | Type     | Description                                      |\n",
    "|---------------|----------|--------------------------------------------------|\n",
    "| DateKey       | date     | Unique calendar date referenced in fact table    |\n",
    "| Year          | integer      | Calendar year of the date                        |\n",
    "| Month         | integer      | Numeric month (1–12)                             |\n",
    "| Day           | integer      | Day of the month (1–31)                          |\n",
    "| Quarter       | integer      | Calendar quarter (1–4)                           |\n",
    "| WeekOfYear    | integer      | ISO week number of the year                      |\n",
    "| DayOfWeek     | integer      | Numeric day of week (1=Sunday, 7=Saturday)       |\n",
    "| WeekdayName   | string   | Name of the day (e.g., Monday, Tuesday)          |\n",
    "\n",
    "> 📌 This dimension enhances flexibility in temporal reporting and aligns the sales pipeline around a unified time reference structure."
   ]
  },
  {
   "cell_type": "code",
   "execution_count": 0,
   "metadata": {
    "application/vnd.databricks.v1+cell": {
     "cellMetadata": {
      "byteLimit": 2048000,
      "rowLimit": 10000
     },
     "inputWidgets": {},
     "nuid": "33d2cf2a-e08f-4cea-aac2-d6e75a746665",
     "showTitle": false,
     "tableResultSettingsMap": {},
     "title": ""
    }
   },
   "outputs": [
    {
     "output_type": "stream",
     "name": "stdout",
     "output_type": "stream",
     "text": [
      "root\n |-- DateKey: date (nullable = true)\n |-- Year: integer (nullable = true)\n |-- Month: integer (nullable = true)\n |-- Day: integer (nullable = true)\n |-- Quarter: integer (nullable = true)\n |-- WeekOfYear: integer (nullable = true)\n |-- DayOfWeek: integer (nullable = true)\n |-- WeekdayName: string (nullable = true)\n\n+----------+----+-----+---+-------+----------+---------+-----------+\n|DateKey   |Year|Month|Day|Quarter|WeekOfYear|DayOfWeek|WeekdayName|\n+----------+----+-----+---+-------+----------+---------+-----------+\n|2001-10-11|2001|10   |11 |4      |41        |5        |Thursday   |\n|2001-10-20|2001|10   |20 |4      |42        |7        |Saturday   |\n|2002-05-16|2002|5    |16 |2      |20        |5        |Thursday   |\n|2002-10-02|2002|10   |2  |4      |40        |4        |Wednesday  |\n|2003-06-19|2003|6    |19 |2      |25        |5        |Thursday   |\n+----------+----+-----+---+-------+----------+---------+-----------+\nonly showing top 5 rows\n\n✅ dim_date created with 757 unique dates.\n"
     ]
    }
   ],
   "source": [
    "# -----------------------------------------------\n",
    "# 📅 Extract unique dates from OrderDate and ShipDate\n",
    "# -----------------------------------------------\n",
    "order_dates = fact_sales_df.select(col(\"OrderDate\").alias(\"DateKey\")).distinct()\n",
    "ship_dates = fact_sales_df.select(col(\"ShipDate\").alias(\"DateKey\")).distinct()\n",
    "\n",
    "# Combine and deduplicate\n",
    "dim_date = order_dates.union(ship_dates).distinct()\n",
    "\n",
    "# -----------------------------------------------\n",
    "# 📅 Add enriched date attributes\n",
    "# -----------------------------------------------\n",
    "dim_date = dim_date.withColumn(\"Year\", year(\"DateKey\")) \\\n",
    "                   .withColumn(\"Month\", month(\"DateKey\")) \\\n",
    "                   .withColumn(\"Day\", dayofmonth(\"DateKey\")) \\\n",
    "                   .withColumn(\"Quarter\", quarter(\"DateKey\")) \\\n",
    "                   .withColumn(\"WeekOfYear\", weekofyear(\"DateKey\")) \\\n",
    "                   .withColumn(\"DayOfWeek\", dayofweek(\"DateKey\")) \\\n",
    "                   .withColumn(\"WeekdayName\", date_format(\"DateKey\", \"EEEE\")) \\\n",
    "                   .orderBy(\"DateKey\")\n",
    "\n",
    "# ✅ Preview\n",
    "dim_date.printSchema()\n",
    "dim_date.show(5, truncate=False)\n",
    "print(f\"✅ dim_date created with {dim_date.count()} unique dates.\")\n"
   ]
  },
  {
   "cell_type": "markdown",
   "metadata": {
    "application/vnd.databricks.v1+cell": {
     "cellMetadata": {},
     "inputWidgets": {},
     "nuid": "c55d4001-2ff2-4dce-8815-0a2efe43dbc7",
     "showTitle": false,
     "tableResultSettingsMap": {},
     "title": ""
    }
   },
   "source": [
    "### 4.7 – 🧾 Create Final `fact_sales` Table\n",
    "\n",
    "At this stage, we finalize the star schema by trimming down the enriched `fact_sales_df` to retain only the fields required for analysis. These include:\n",
    "\n",
    "- **Foreign keys** linking to each dimension table\n",
    "- **Quantitative metrics** such as quantity sold, sales price, and freight charge\n",
    "- **Date keys** (order and ship) for time-based aggregation\n",
    "\n",
    "We also perform a final cleanup step: ensuring that all rows in `fact_sales` have valid `ProductID`s with non-null names and categories. This removes incomplete or orphaned sales entries that would distort product-level insights.\n",
    "\n",
    "---\n",
    "\n",
    "#### ✅ Final Schema: `fact_sales`\n",
    "\n",
    "| Column             | Type     | Description                                |\n",
    "|--------------------|----------|--------------------------------------------|\n",
    "| `OrderID`          | integer  | Unique identifier for the order (PK)       |\n",
    "| `CustomerID`       | integer  | FK to `dim_customers`                      |\n",
    "| `ProductID`        | integer  | FK to `dim_products`                       |\n",
    "| `EmployeeID`       | integer  | FK to `dim_employees`                      |\n",
    "| `ShippingMethodID` | integer  | FK to `dim_shipping_methods`               |\n",
    "| `PaymentMethodID`  | integer  | FK to `dim_payment_methods`                |\n",
    "| `OrderDateKey`     | date     | FK to `dim_date` (order placed)            |\n",
    "| `ShipDateKey`      | date     | FK to `dim_date` (order shipped)           |\n",
    "| `QuantitySold`     | integer  | Number of items sold in the order          |\n",
    "| `UnitSalesPrice`   | double   | Price per item sold                        |\n",
    "| `FreightCharge`    | double   | Shipping charge applied to the order       |\n",
    "\n",
    "---\n",
    "\n",
    "This clean, optimized fact table is ready for querying using Spark SQL and supports multidimensional analysis across customers, products, employees, regions, and time."
   ]
  },
  {
   "cell_type": "code",
   "execution_count": 0,
   "metadata": {
    "application/vnd.databricks.v1+cell": {
     "cellMetadata": {
      "byteLimit": 2048000,
      "rowLimit": 10000
     },
     "inputWidgets": {},
     "nuid": "11c35574-32fc-4777-9ed7-3be02e204c9a",
     "showTitle": false,
     "tableResultSettingsMap": {},
     "title": ""
    }
   },
   "outputs": [
    {
     "output_type": "stream",
     "name": "stdout",
     "output_type": "stream",
     "text": [
      "🧹 Cleaned fact_sales → Dropped 218 rows (0.20%) due to missing products in dim_products\nroot\n |-- ProductID: integer (nullable = true)\n |-- OrderID: integer (nullable = true)\n |-- CustomerID: integer (nullable = true)\n |-- EmployeeID: integer (nullable = true)\n |-- ShippingMethodID: integer (nullable = true)\n |-- PaymentMethodID: integer (nullable = true)\n |-- OrderDateKey: date (nullable = true)\n |-- ShipDateKey: date (nullable = true)\n |-- QuantitySold: integer (nullable = true)\n |-- UnitSalesPrice: double (nullable = true)\n |-- FreightCharge: double (nullable = true)\n\n+---------+-------+----------+----------+----------------+---------------+------------+-----------+------------+--------------+-------------+\n|ProductID|OrderID|CustomerID|EmployeeID|ShippingMethodID|PaymentMethodID|OrderDateKey|ShipDateKey|QuantitySold|UnitSalesPrice|FreightCharge|\n+---------+-------+----------+----------+----------------+---------------+------------+-----------+------------+--------------+-------------+\n|1        |2437   |82        |8         |1               |null           |2006-04-04  |2006-04-04 |3           |12.3          |31.0         |\n|1        |2411   |219       |14        |1               |null           |2006-03-30  |2006-03-30 |0           |10.1          |0.0          |\n|1        |2392   |243       |14        |1               |null           |2006-03-23  |2006-03-23 |1           |12.3          |0.0          |\n|1        |2252   |63        |8         |1               |null           |2006-01-17  |2006-01-17 |4           |12.3          |31.0         |\n|1        |2240   |233       |8         |1               |null           |2006-01-10  |2006-01-10 |5           |10.6          |31.0         |\n+---------+-------+----------+----------+----------------+---------------+------------+-----------+------------+--------------+-------------+\nonly showing top 5 rows\n\n✅ Final fact_sales table created with 106423 rows.\n"
     ]
    }
   ],
   "source": [
    "# -----------------------------------------------------------\n",
    "# ✂️ Select only necessary fields for the fact_sales table\n",
    "# -----------------------------------------------------------\n",
    "fact_sales = fact_sales_df.select(\n",
    "    \"OrderID\",           # Unique order identifier\n",
    "    \"CustomerID\",        # FK to dim_customers\n",
    "    \"ProductID\",         # FK to dim_products\n",
    "    \"EmployeeID\",        # FK to dim_employees\n",
    "    \"ShippingMethodID\",  # FK to dim_shipping_methods\n",
    "    \"PaymentMethodID\",   # FK to dim_payment_methods\n",
    "    col(\"OrderDate\").alias(\"OrderDateKey\"),  # FK to dim_date\n",
    "    col(\"ShipDate\").alias(\"ShipDateKey\"),    # FK to dim_date\n",
    "    \"QuantitySold\",      # Sales quantity\n",
    "    \"UnitSalesPrice\",    # Unit price sold\n",
    "    \"FreightCharge\"      # Shipping cost\n",
    ")\n",
    "\n",
    "# ✂️ Drop rows from fact_sales that no longer have a matching product in dim_products\n",
    "valid_product_ids = dim_products.filter(\n",
    "    (col(\"ProductName\").isNotNull()) & (col(\"Category\").isNotNull())\n",
    ").select(\"ProductID\").distinct()\n",
    "\n",
    "initial = fact_sales.count()\n",
    "fact_sales = fact_sales.join(valid_product_ids, on=\"ProductID\", how=\"inner\")\n",
    "final = fact_sales.count()\n",
    "\n",
    "print(f\"🧹 Cleaned fact_sales → Dropped {initial - final} rows ({(initial - final)/initial:.2%}) due to missing products in dim_products\")\n",
    "\n",
    "# ✅ Preview the cleaned fact table\n",
    "fact_sales.printSchema()\n",
    "fact_sales.show(5, truncate=False)\n",
    "print(f\"✅ Final fact_sales table created with {fact_sales.count()} rows.\")"
   ]
  },
  {
   "cell_type": "markdown",
   "metadata": {
    "application/vnd.databricks.v1+cell": {
     "cellMetadata": {},
     "inputWidgets": {},
     "nuid": "50dd10ee-22bd-47c2-baf0-1c63e02c3910",
     "showTitle": false,
     "tableResultSettingsMap": {},
     "title": ""
    }
   },
   "source": [
    "### ⭐ Star Schema Completed\n",
    "\n",
    "With the creation of the final `fact_sales` table and all supporting dimension tables, our star schema is now fully constructed and ready for analysis.\n",
    "\n",
    "The structure includes:\n",
    "- A clean central fact table containing only keys and measurable facts\n",
    "- Fully normalized dimension tables providing semantic context for customers, products, employees, shipping methods, payment types, and dates\n",
    "\n",
    "This schema is now optimized for running efficient queries, powering dashboards, and generating business insights."
   ]
  },
  {
   "cell_type": "markdown",
   "metadata": {
    "application/vnd.databricks.v1+cell": {
     "cellMetadata": {},
     "inputWidgets": {},
     "nuid": "fde74754-18b1-48b5-81ef-429e5ff4fb80",
     "showTitle": false,
     "tableResultSettingsMap": {},
     "title": ""
    }
   },
   "source": [
    "##5. – 📊 Business Questions & Strategic Insights\n",
    "\n",
    "With the star schema fully modeled and cleaned, we now enter the **analytical phase** of the project. This section is dedicated to uncovering patterns and opportunities through structured SQL queries built on top of our curated data model.\n",
    "\n",
    "In this section, we will:\n",
    "- Pose key business questions that this dataset can help answer\n",
    "- Use SQL queries over our star schema to extract meaningful insights\n",
    "- Support future decision-making based on patterns in sales, customers, time, and operations\n",
    "\n",
    "Each question will be preceded by a short explanation and followed by the corresponding SQL query and result.\n",
    "\n",
    "---\n",
    "\n",
    "### Areas of Analysis:\n",
    "\n",
    "- Sales and payments  \n",
    "- Product performance  \n",
    "- Regional trends  \n",
    "- Customer segments  \n",
    "- Key accounts  \n",
    "- Employee contribution  \n",
    "- Time-based trends  \n",
    "- Shipping operations\n",
    "\n",
    "---\n",
    "\n",
    "### Methodology Notes:\n",
    "\n",
    "- Our **primary revenue metric** is calculated directly from the sales data:  \n",
    "  `Revenue = QuantitySold * UnitSalesPrice`\n",
    "\n",
    "- The payments dataset is only partially complete (~28% of orders include payment records), so it is **not used as the main financial source**. Instead, it supports analysis where relevant and noted.\n",
    "\n",
    "---\n",
    "\n",
    "### Subsections:\n",
    "\n",
    "- **5.1 – 🧾 Sales Orders vs. Paid Orders**\n",
    "- **5.2 – 🧍 Revenue by Product Gender**\n",
    "- **5.3 – 🩲 Revenue by Product Category**\n",
    "- **5.4 – 🌍 Regional Revenue Breakdown — Top 10 Cities by Total Revenue**\n",
    "- **5.5 – 🔍 Revenue by Lead Source**\n",
    "- **5.6 – 🧩 Revenue by Customer Class**\n",
    "- **5.7 – 🔁 Revenue by Customer Status (Active vs. Discontinued)**\n",
    "- **5.8 – 🏆 Top 10 Customers – Performance Deep Dive**\n",
    "- **5.9 – 🧑‍💼 Employee Performance Analysis**\n",
    "- **5.10 – 📆 Revenue Trend Over Time**\n",
    "- **5.11 – 💰 Average Order Value (AOV) by Customer Class**\n",
    "- **5.12 – 🔁 Revenue by Customer Loyalty**\n",
    "- **5.13 – 🚚 Shipping Method Overview**\n",
    "\n",
    "> 💡 Each subsection explores a business challenge or KPI, presents the query logic, and delivers commentary on the output."
   ]
  },
  {
   "cell_type": "markdown",
   "metadata": {
    "application/vnd.databricks.v1+cell": {
     "cellMetadata": {},
     "inputWidgets": {},
     "nuid": "5e7a9cea-3154-4d10-a638-222eca1da3e5",
     "showTitle": false,
     "tableResultSettingsMap": {},
     "title": ""
    }
   },
   "source": [
    "### 5.0 – 🧠 Registering Temp Views for SQL Queries\n",
    "\n",
    "Before we begin exploring the business questions, we register each dimension and fact table as a **temporary view** using `createOrReplaceTempView()`. This allows us to write SQL queries directly on top of Spark DataFrames using the `spark.sql()` interface.\n",
    "\n",
    "The following views are now available for analysis:\n",
    "\n",
    "- `fact_sales`\n",
    "- `dim_customers`\n",
    "- `dim_products`\n",
    "- `dim_employees`\n",
    "- `dim_shipping_methods`\n",
    "- `dim_payments`\n",
    "- `dim_date`\n",
    "\n",
    "> This step bridges the gap between PySpark and SQL, enabling clean, readable queries throughout the insights section."
   ]
  },
  {
   "cell_type": "code",
   "execution_count": 0,
   "metadata": {
    "application/vnd.databricks.v1+cell": {
     "cellMetadata": {
      "byteLimit": 2048000,
      "rowLimit": 10000
     },
     "inputWidgets": {},
     "nuid": "d54781a8-a3a9-402e-9c90-618aab68b535",
     "showTitle": false,
     "tableResultSettingsMap": {},
     "title": ""
    }
   },
   "outputs": [],
   "source": [
    "fact_sales.createOrReplaceTempView(\"fact_sales\")\n",
    "dim_customers.createOrReplaceTempView(\"dim_customers\")\n",
    "dim_products.createOrReplaceTempView(\"dim_products\")\n",
    "dim_employees.createOrReplaceTempView(\"dim_employees\")\n",
    "dim_shipping_methods.createOrReplaceTempView(\"dim_shipping_methods\")\n",
    "dim_payments.createOrReplaceTempView(\"dim_payments\")\n",
    "dim_date.createOrReplaceTempView(\"dim_date\")"
   ]
  },
  {
   "cell_type": "markdown",
   "metadata": {
    "application/vnd.databricks.v1+cell": {
     "cellMetadata": {},
     "inputWidgets": {},
     "nuid": "a2b69617-402e-4492-ae6f-2481a3fcdfb2",
     "showTitle": false,
     "tableResultSettingsMap": {},
     "title": ""
    }
   },
   "source": [
    "###5.1 🧾 Sales Orders vs. Paid Orders\n",
    "\n",
    "| Metric             | Count |\n",
    "|--------------------|-------|\n",
    "| Total Sales Orders | 2,261 |\n",
    "| Paid Orders        | 648   |\n",
    "\n",
    "While payment data is available in the dataset, **only 648 out of 2,261 sales orders have corresponding payment records** — representing less than 29% of all transactions. This gap suggests either **missing data** or that some payments were recorded outside the scope of this dataset.\n",
    "\n",
    "> ✅ **Conclusion**: For analytical consistency and completeness, **revenue will be calculated using the sales records** (`QuantitySold × UnitSalesPrice`) rather than relying on payment data.\n",
    "\n",
    "This approach ensures we can account for **100% of recorded sales**, providing a more accurate and holistic view of business performance."
   ]
  },
  {
   "cell_type": "code",
   "execution_count": 0,
   "metadata": {
    "application/vnd.databricks.v1+cell": {
     "cellMetadata": {
      "byteLimit": 2048000,
      "implicitDf": true,
      "rowLimit": 10000
     },
     "inputWidgets": {},
     "nuid": "c943d758-fca8-4af2-9d3b-ccb707e1675a",
     "showTitle": false,
     "tableResultSettingsMap": {},
     "title": ""
    }
   },
   "outputs": [
    {
     "output_type": "display_data",
     "data": {
      "text/html": [
       "<style scoped>\n",
       "  .table-result-container {\n",
       "    max-height: 300px;\n",
       "    overflow: auto;\n",
       "  }\n",
       "  table, th, td {\n",
       "    border: 1px solid black;\n",
       "    border-collapse: collapse;\n",
       "  }\n",
       "  th, td {\n",
       "    padding: 5px;\n",
       "  }\n",
       "  th {\n",
       "    text-align: left;\n",
       "  }\n",
       "</style><div class='table-result-container'><table class='table-result'><thead style='background-color: white'><tr><th>TotalSalesOrders</th><th>PaidOrders</th></tr></thead><tbody><tr><td>2261</td><td>648</td></tr></tbody></table></div>"
      ]
     },
     "metadata": {
      "application/vnd.databricks.v1+output": {
       "addedWidgets": {},
       "aggData": [],
       "aggError": "",
       "aggOverflow": false,
       "aggSchema": [],
       "aggSeriesLimitReached": false,
       "aggType": "",
       "arguments": {},
       "columnCustomDisplayInfos": {},
       "data": [
        [
         2261,
         648
        ]
       ],
       "datasetInfos": [],
       "dbfsResultPath": null,
       "isJsonSchema": true,
       "metadata": {},
       "overflow": false,
       "plotOptions": {
        "customPlotOptions": {},
        "displayType": "table",
        "pivotAggregation": null,
        "pivotColumns": null,
        "xColumns": null,
        "yColumns": null
       },
       "removedWidgets": [],
       "schema": [
        {
         "metadata": "{}",
         "name": "TotalSalesOrders",
         "type": "\"long\""
        },
        {
         "metadata": "{}",
         "name": "PaidOrders",
         "type": "\"long\""
        }
       ],
       "type": "table"
      }
     },
     "output_type": "display_data"
    }
   ],
   "source": [
    "%sql\n",
    "-- 🧾 Count of Total Sales Orders vs. Paid Orders\n",
    "SELECT\n",
    "  COUNT(DISTINCT f.OrderID) AS TotalSalesOrders,\n",
    "  COUNT(DISTINCT p.OrderID) AS PaidOrders\n",
    "FROM fact_sales f\n",
    "LEFT JOIN dim_payments p ON f.OrderID = p.OrderID;"
   ]
  },
  {
   "cell_type": "markdown",
   "metadata": {
    "application/vnd.databricks.v1+cell": {
     "cellMetadata": {},
     "inputWidgets": {},
     "nuid": "5b18dff5-9b93-48c8-a64b-9bf91b7f0ce7",
     "showTitle": false,
     "tableResultSettingsMap": {},
     "title": ""
    }
   },
   "source": [
    "### 5.2 - 🧍 Revenue by Product Gender\n",
    "\n",
    "This analysis reveals how product sales are distributed across gendered product lines.\n",
    "\n",
    "| Gender                | Total Revenue (USD) | % of Total Revenue |\n",
    "|------------------------|--------------------|---------------------|\n",
    "| Women's Panties        | 3,190,048.55       | 78.38%              |\n",
    "| Men's Briefs           |   282,155.82       | 6.93%               |\n",
    "| Girls' Panties         |   230,337.50       | 5.66%               |\n",
    "| Men's Undershirts      |   146,654.90       | 3.60%               |\n",
    "| Boys' Briefs           |    78,415.40       | 1.93%               |\n",
    "| Women's Undershirts    |    62,103.50       | 1.53%               |\n",
    "| Girls' Undershirts     |    42,553.00       | 1.05%               |\n",
    "| Children's Socks       |    14,043.60       | 0.35%               |\n",
    "| Boys' Undershirts      |    11,545.20       | 0.28%               |\n",
    "| Men's Socks            |     7,162.70       | 0.18%               |\n",
    "| Women's Socks          |     5,036.50       | 0.12%               |\n",
    "\n",
    "- The business is **highly specialized in female underwear**, particularly **Women’s Panties**, which alone make up nearly 80% of total revenue.\n",
    "- Other product categories contribute marginally, with **men’s and children’s lines showing limited market traction**.\n",
    "- There is **room to explore men’s products**, but any expansion should be tested gradually and supported by data.\n",
    "- **Sock and undershirt categories**, while not significant in revenue, still play a role in the broader **brand perception**.\n",
    "\n",
    "> 📌 **Insight**: These complementary items — like socks and undershirts — **reinforce the brand's image of intimacy, comfort, and product completeness**. They help shape the narrative around quality and trust, supporting the main performers and offering customers a fuller lifestyle experience."
   ]
  },
  {
   "cell_type": "code",
   "execution_count": 0,
   "metadata": {
    "application/vnd.databricks.v1+cell": {
     "cellMetadata": {
      "byteLimit": 2048000,
      "implicitDf": true,
      "rowLimit": 10000
     },
     "inputWidgets": {},
     "nuid": "18e0cc3e-06e8-410b-9c36-f72cbf0837fe",
     "showTitle": false,
     "tableResultSettingsMap": {},
     "title": ""
    }
   },
   "outputs": [
    {
     "output_type": "display_data",
     "data": {
      "text/html": [
       "<style scoped>\n",
       "  .table-result-container {\n",
       "    max-height: 300px;\n",
       "    overflow: auto;\n",
       "  }\n",
       "  table, th, td {\n",
       "    border: 1px solid black;\n",
       "    border-collapse: collapse;\n",
       "  }\n",
       "  th, td {\n",
       "    padding: 5px;\n",
       "  }\n",
       "  th {\n",
       "    text-align: left;\n",
       "  }\n",
       "</style><div class='table-result-container'><table class='table-result'><thead style='background-color: white'><tr><th>Gender</th><th>TotalRevenue</th><th>RevenuePercentage</th></tr></thead><tbody><tr><td>Women's Panties</td><td>3190048.55</td><td>78.38</td></tr><tr><td>Men's Briefs</td><td>282155.82</td><td>6.93</td></tr><tr><td>Girls' Panties</td><td>230337.5</td><td>5.66</td></tr><tr><td>Men's Undershirts</td><td>146654.9</td><td>3.6</td></tr><tr><td>Boys' Briefs</td><td>78415.4</td><td>1.93</td></tr><tr><td>Women's Undershirts</td><td>62103.5</td><td>1.53</td></tr><tr><td>Girls' Undershirts</td><td>42553.0</td><td>1.05</td></tr><tr><td>Children's Socks</td><td>14043.6</td><td>0.35</td></tr><tr><td>Boys' Undershirts</td><td>11545.2</td><td>0.28</td></tr><tr><td>Men's Socks</td><td>7162.7</td><td>0.18</td></tr><tr><td>Women's Socks</td><td>5036.5</td><td>0.12</td></tr></tbody></table></div>"
      ]
     },
     "metadata": {
      "application/vnd.databricks.v1+output": {
       "addedWidgets": {},
       "aggData": [],
       "aggError": "",
       "aggOverflow": false,
       "aggSchema": [],
       "aggSeriesLimitReached": false,
       "aggType": "",
       "arguments": {},
       "columnCustomDisplayInfos": {},
       "data": [
        [
         "Women's Panties",
         3190048.55,
         78.38
        ],
        [
         "Men's Briefs",
         282155.82,
         6.93
        ],
        [
         "Girls' Panties",
         230337.5,
         5.66
        ],
        [
         "Men's Undershirts",
         146654.9,
         3.6
        ],
        [
         "Boys' Briefs",
         78415.4,
         1.93
        ],
        [
         "Women's Undershirts",
         62103.5,
         1.53
        ],
        [
         "Girls' Undershirts",
         42553.0,
         1.05
        ],
        [
         "Children's Socks",
         14043.6,
         0.35
        ],
        [
         "Boys' Undershirts",
         11545.2,
         0.28
        ],
        [
         "Men's Socks",
         7162.7,
         0.18
        ],
        [
         "Women's Socks",
         5036.5,
         0.12
        ]
       ],
       "datasetInfos": [],
       "dbfsResultPath": null,
       "isJsonSchema": true,
       "metadata": {},
       "overflow": false,
       "plotOptions": {
        "customPlotOptions": {},
        "displayType": "table",
        "pivotAggregation": null,
        "pivotColumns": null,
        "xColumns": null,
        "yColumns": null
       },
       "removedWidgets": [],
       "schema": [
        {
         "metadata": "{}",
         "name": "Gender",
         "type": "\"string\""
        },
        {
         "metadata": "{}",
         "name": "TotalRevenue",
         "type": "\"double\""
        },
        {
         "metadata": "{}",
         "name": "RevenuePercentage",
         "type": "\"double\""
        }
       ],
       "type": "table"
      }
     },
     "output_type": "display_data"
    }
   ],
   "source": [
    "%sql\n",
    "-- 🧍 Revenue by Product Gender\n",
    "SELECT \n",
    "  p.Gender,\n",
    "  ROUND(SUM(f.QuantitySold * f.UnitSalesPrice), 2) AS TotalRevenue,\n",
    "  ROUND(\n",
    "    100 * SUM(f.QuantitySold * f.UnitSalesPrice) / \n",
    "    SUM(SUM(f.QuantitySold * f.UnitSalesPrice)) OVER (),\n",
    "    2\n",
    "  ) AS RevenuePercentage\n",
    "FROM fact_sales f\n",
    "JOIN dim_products p ON f.ProductID = p.ProductID\n",
    "GROUP BY p.Gender\n",
    "ORDER BY TotalRevenue DESC;"
   ]
  },
  {
   "cell_type": "markdown",
   "metadata": {
    "application/vnd.databricks.v1+cell": {
     "cellMetadata": {},
     "inputWidgets": {},
     "nuid": "eb3de6f4-016f-40b8-b87a-605b5970ed9a",
     "showTitle": false,
     "tableResultSettingsMap": {},
     "title": ""
    }
   },
   "source": [
    "###5.3 - 🩲 Revenue by Product Category\n",
    "\n",
    "The analysis of total revenue by product category reveals a **clear specialization** in the company’s offering.\n",
    "\n",
    "| Category                 | Total Revenue (R$) | % of Total Revenue |\n",
    "|--------------------------|--------------------|---------------------|\n",
    "| **Briefs**               | 3,365,131.27       | 85.58%              |\n",
    "| Undershirts              |   262,931.50       | 6.69%               |\n",
    "| Thongs                   |   184,980.40       | 4.71%               |\n",
    "| Drawers                  |   160,898.10       | 4.09%               |\n",
    "| Boxers                   |    67,536.50       | 1.72%               |\n",
    "| Regular-Over the Calf    |    25,835.00       | 0.66%               |\n",
    "| Slips                    |     2,336.10       | 0.06%               |\n",
    "| Cuff-Over the Calf       |       407.80       | 0.01%               |\n",
    "\n",
    "- **Briefs represent over 85% of total revenue**, clearly establishing them as the company’s core product.\n",
    "- The remaining categories collectively contribute less than 15%, with some items (like socks and slips) barely registering in the overall picture.\n",
    "- This product mix highlights the brand’s strategic focus on essentials and mass-volume items, with limited diversification into niche apparel.\n",
    "\n",
    "> 📌 **Insight**: The company may consider doubling down on its most profitable segments while reassessing the ROI of maintaining minor product categories in inventory."
   ]
  },
  {
   "cell_type": "code",
   "execution_count": 0,
   "metadata": {
    "application/vnd.databricks.v1+cell": {
     "cellMetadata": {
      "byteLimit": 2048000,
      "implicitDf": true,
      "rowLimit": 10000
     },
     "inputWidgets": {},
     "nuid": "a729d06c-b916-461c-a343-66a221e79ee7",
     "showTitle": true,
     "tableResultSettingsMap": {},
     "title": ""
    }
   },
   "outputs": [
    {
     "output_type": "display_data",
     "data": {
      "text/html": [
       "<style scoped>\n",
       "  .table-result-container {\n",
       "    max-height: 300px;\n",
       "    overflow: auto;\n",
       "  }\n",
       "  table, th, td {\n",
       "    border: 1px solid black;\n",
       "    border-collapse: collapse;\n",
       "  }\n",
       "  th, td {\n",
       "    padding: 5px;\n",
       "  }\n",
       "  th {\n",
       "    text-align: left;\n",
       "  }\n",
       "</style><div class='table-result-container'><table class='table-result'><thead style='background-color: white'><tr><th>Category</th><th>TotalRevenue</th><th>RevenuePercentage</th></tr></thead><tbody><tr><td>Briefs</td><td>3365131.27</td><td>82.68</td></tr><tr><td>Undershirts</td><td>262931.5</td><td>6.46</td></tr><tr><td>Thongs</td><td>184980.4</td><td>4.54</td></tr><tr><td>Drawers</td><td>160898.1</td><td>3.95</td></tr><tr><td>Boxers</td><td>67536.5</td><td>1.66</td></tr><tr><td>Regular-Over the Calf</td><td>25835.0</td><td>0.63</td></tr><tr><td>Slips</td><td>2336.1</td><td>0.06</td></tr><tr><td>Cuff-Over the Calf</td><td>407.8</td><td>0.01</td></tr></tbody></table></div>"
      ]
     },
     "metadata": {
      "application/vnd.databricks.v1+output": {
       "addedWidgets": {},
       "aggData": [],
       "aggError": "",
       "aggOverflow": false,
       "aggSchema": [],
       "aggSeriesLimitReached": false,
       "aggType": "",
       "arguments": {},
       "columnCustomDisplayInfos": {},
       "data": [
        [
         "Briefs",
         3365131.27,
         82.68
        ],
        [
         "Undershirts",
         262931.5,
         6.46
        ],
        [
         "Thongs",
         184980.4,
         4.54
        ],
        [
         "Drawers",
         160898.1,
         3.95
        ],
        [
         "Boxers",
         67536.5,
         1.66
        ],
        [
         "Regular-Over the Calf",
         25835.0,
         0.63
        ],
        [
         "Slips",
         2336.1,
         0.06
        ],
        [
         "Cuff-Over the Calf",
         407.8,
         0.01
        ]
       ],
       "datasetInfos": [],
       "dbfsResultPath": null,
       "isJsonSchema": true,
       "metadata": {},
       "overflow": false,
       "plotOptions": {
        "customPlotOptions": {},
        "displayType": "table",
        "pivotAggregation": null,
        "pivotColumns": null,
        "xColumns": null,
        "yColumns": null
       },
       "removedWidgets": [],
       "schema": [
        {
         "metadata": "{}",
         "name": "Category",
         "type": "\"string\""
        },
        {
         "metadata": "{}",
         "name": "TotalRevenue",
         "type": "\"double\""
        },
        {
         "metadata": "{}",
         "name": "RevenuePercentage",
         "type": "\"double\""
        }
       ],
       "type": "table"
      }
     },
     "output_type": "display_data"
    },
    {
     "output_type": "display_data",
     "data": {
      "text/plain": [
       "Databricks visualization. Run in Databricks to view."
      ]
     },
     "metadata": {
      "application/vnd.databricks.v1.subcommand+json": {
       "baseErrorDetails": null,
       "bindings": {},
       "collapsed": false,
       "command": "%sql WITH q AS (SELECT \n  p.Category,\n  ROUND(SUM(f.QuantitySold * f.UnitSalesPrice), 2) AS TotalRevenue\nFROM fact_sales f\nJOIN dim_products p ON f.ProductID = p.ProductID\nGROUP BY p.Category\nORDER BY TotalRevenue DESC) SELECT `Category`,SUM(`TotalRevenue`) `column_a4b919b2125` FROM q GROUP BY `Category`",
       "commandTitle": "Visualization 1",
       "commandType": "auto",
       "commandVersion": 0,
       "commentThread": [],
       "commentsVisible": false,
       "contentSha256Hex": null,
       "customPlotOptions": {
        "redashChart": [
         {
          "key": "type",
          "value": "CHART"
         },
         {
          "key": "options",
          "value": {
           "alignYAxesAtZero": true,
           "coefficient": 1,
           "columnConfigurationMap": {
            "x": {
             "column": "Category",
             "id": "column_a4b919b2124"
            },
            "y": [
             {
              "column": "TotalRevenue",
              "id": "column_a4b919b2125",
              "transform": "SUM"
             }
            ]
           },
           "dateTimeFormat": "DD/MM/YYYY HH:mm",
           "direction": {
            "type": "counterclockwise"
           },
           "error_y": {
            "type": "data",
            "visible": true
           },
           "globalSeriesType": "column",
           "isAggregationOn": true,
           "legend": {
            "traceorder": "normal"
           },
           "missingValuesAsZero": true,
           "numberFormat": "0,0.[00000]",
           "percentFormat": "0[.]00%",
           "reverseX": false,
           "series": {
            "error_y": {
             "type": "data",
             "visible": true
            },
            "stacking": null
           },
           "seriesOptions": {
            "column_a4b919b2125": {
             "name": "TotalRevenue",
             "yAxis": 0
            }
           },
           "showDataLabels": false,
           "sizemode": "diameter",
           "sortX": false,
           "sortY": true,
           "swappedAxes": false,
           "textFormat": "",
           "useAggregationsUi": true,
           "valuesOptions": {},
           "version": 2,
           "xAxis": {
            "labels": {
             "enabled": true
            },
            "type": "-"
           },
           "yAxis": [
            {
             "type": "-"
            },
            {
             "opposite": true,
             "type": "-"
            }
           ]
          }
         }
        ]
       },
       "datasetPreviewNameToCmdIdMap": {},
       "diffDeletes": [],
       "diffInserts": [],
       "displayType": "redashChart",
       "error": null,
       "errorDetails": null,
       "errorSummary": null,
       "errorTraceType": null,
       "finishTime": 0,
       "globalVars": {},
       "guid": "",
       "height": "auto",
       "hideCommandCode": false,
       "hideCommandResult": false,
       "iPythonMetadata": null,
       "inputWidgets": {},
       "isLockedInExamMode": false,
       "latestUser": "a user",
       "latestUserId": null,
       "listResultMetadata": null,
       "metadata": {},
       "nuid": "f02dacfc-6cd1-40fa-b4cd-f14ca87a8730",
       "origId": 0,
       "parentHierarchy": [],
       "pivotAggregation": null,
       "pivotColumns": null,
       "position": 65.0,
       "resultDbfsErrorMessage": null,
       "resultDbfsStatus": "INLINED_IN_TREE",
       "results": null,
       "showCommandTitle": false,
       "startTime": 0,
       "state": "input",
       "streamStates": {},
       "subcommandOptions": {
        "queryPlan": {
         "groups": [
          {
           "column": "Category",
           "type": "column"
          }
         ],
         "selects": [
          {
           "column": "Category",
           "type": "column"
          },
          {
           "alias": "column_a4b919b2125",
           "args": [
            {
             "column": "TotalRevenue",
             "type": "column"
            }
           ],
           "function": "SUM",
           "type": "function"
          }
         ]
        }
       },
       "submitTime": 0,
       "subtype": "tableResultSubCmd.visualization",
       "tableResultIndex": 0,
       "tableResultSettingsMap": {},
       "useConsistentColors": false,
       "version": "CommandV1",
       "width": "auto",
       "workflows": [],
       "xColumns": null,
       "yColumns": null
      }
     },
     "output_type": "display_data"
    }
   ],
   "source": [
    "%sql\n",
    "-- 🩲 Revenue by Product Category + % of Total\n",
    "SELECT \n",
    "  p.Category,\n",
    "  ROUND(SUM(f.QuantitySold * f.UnitSalesPrice), 2) AS TotalRevenue,\n",
    "  ROUND(\n",
    "    100 * SUM(f.QuantitySold * f.UnitSalesPrice) / \n",
    "    SUM(SUM(f.QuantitySold * f.UnitSalesPrice)) OVER (), \n",
    "    2\n",
    "  ) AS RevenuePercentage\n",
    "FROM fact_sales f\n",
    "JOIN dim_products p ON f.ProductID = p.ProductID\n",
    "GROUP BY p.Category\n",
    "ORDER BY TotalRevenue DESC;"
   ]
  },
  {
   "cell_type": "markdown",
   "metadata": {
    "application/vnd.databricks.v1+cell": {
     "cellMetadata": {},
     "inputWidgets": {},
     "nuid": "ecebe18c-7b2f-4716-80bf-6462690ff2a3",
     "showTitle": false,
     "tableResultSettingsMap": {},
     "title": ""
    }
   },
   "source": [
    "###5.4 - 🌍 Regional Revenue Breakdown — Top 10 Cities by Total Revenue\n",
    "\n",
    "Understanding the geographic distribution of revenue helps the company identify where its most valuable customer bases are located and where additional market development might be worthwhile.\n",
    "\n",
    "| Region         | Total Revenue (USD) | Revenue (%) | Orders | Avg. Order Value (USD) | Unique Customers | Avg. Revenue/Customer (USD) |\n",
    "|----------------|----------------------|-------------|--------|-------------------------|-------------------|------------------------------|\n",
    "| Moscow         | 1,878,887.57         | 46.16       | 1412   | 1,330.66                | 62                | 30,304.64                    |\n",
    "| Yekaterinburgh |   310,255.90         | 7.62        | 99     | 3,133.90                | 4                 | 77,563.97                    |\n",
    "| Perm           |   260,324.20         | 6.40        | 48     | 5,423.42                | 5                 | 52,064.84                    |\n",
    "| Omsk           |   142,487.70         | 3.50        | 64     | 2,226.37                | 5                 | 28,497.54                    |\n",
    "| Kirov          |   124,397.60         | 3.06        | 23     | 5,408.59                | 1                 | 124,397.60                   |\n",
    "| Murmansk       |   124,074.20         | 3.05        | 20     | 6,203.71                | 3                 | 41,358.07                    |\n",
    "| Voronezh       |   112,347.30         | 2.76        | 63     | 1,783.29                | 4                 | 28,086.82                    |\n",
    "| Cherepovets    |   108,075.00         | 2.66        | 31     | 3,486.29                | 1                 | 108,075.00                   |\n",
    "| Surgut         |    80,063.10         | 1.97        | 10     | 8,006.31                | 2                 | 40,031.55                    |\n",
    "| Khabarovsk     |    78,917.50         | 1.94        | 36     | 2,192.15                | 6                 | 13,152.92                    |\n",
    "\n",
    "#### Key Takeaways\n",
    "\n",
    "- **Moscow alone accounts for over 45%** of the total revenue in the dataset.\n",
    "- Together, these top 10 cities account for **79.12%** of total revenue.\n",
    "- This strong regional skew suggests that operations, logistics, and customer acquisition strategies are centered in or around major metropolitan areas.\n",
    "- The remaining **20.88% of revenue is distributed across 70+ smaller cities**. This demonstrates a healthy level of market reach and brand presence nationwide. It indicates potential for further penetration in secondary markets, where growth might be more cost-effective than in already saturated major cities.\n",
    "\n",
    "#### Individual Region Insights\n",
    "\n",
    "- **Moscow** stands as a diversified and reliable revenue hub, with **62 unique customers** and over **1,400 orders**. Its **moderate average order value** shows depth in client size, not just a few major buyers.\n",
    "\n",
    "- **Yekaterinburgh** and **Perm** both generate strong revenue with just a **handful of clients**, which presents an opportunity to **nurture and retain high-value accounts**.\n",
    "\n",
    "- **Surgut** showcases a striking **$8,000+ average order value**, showing potential to expand sales from a very small base of customers.\n",
    "\n",
    "- **Kirov** and **Cherepovets** each rely on **one high-value client**. While lucrative, this introduces risk — these cities require careful monitoring or efforts to **diversify the client base**.\n",
    "\n",
    "> 📌 **Insight**: While Moscow anchors the business, regional cities like Yekaterinburgh, Perm, and Surgut offer opportunities to grow key accounts. The presence of single-client cities generating six-figure revenue shows that strategic expansion and retention plans in these areas could yield high returns with minimal operational overhead.\n"
   ]
  },
  {
   "cell_type": "code",
   "execution_count": 0,
   "metadata": {
    "application/vnd.databricks.v1+cell": {
     "cellMetadata": {
      "byteLimit": 2048000,
      "implicitDf": true,
      "rowLimit": 10000
     },
     "inputWidgets": {},
     "nuid": "338c4adb-a091-4e8f-ba0a-a509c86e7b66",
     "showTitle": false,
     "tableResultSettingsMap": {},
     "title": ""
    }
   },
   "outputs": [
    {
     "output_type": "display_data",
     "data": {
      "text/html": [
       "<style scoped>\n",
       "  .table-result-container {\n",
       "    max-height: 300px;\n",
       "    overflow: auto;\n",
       "  }\n",
       "  table, th, td {\n",
       "    border: 1px solid black;\n",
       "    border-collapse: collapse;\n",
       "  }\n",
       "  th, td {\n",
       "    padding: 5px;\n",
       "  }\n",
       "  th {\n",
       "    text-align: left;\n",
       "  }\n",
       "</style><div class='table-result-container'><table class='table-result'><thead style='background-color: white'><tr><th>Region</th><th>TotalRevenue</th><th>RevenuePercentage</th><th>TotalOrders</th><th>AvgOrderValue</th><th>UniqueCustomers</th><th>AvgRevenuePerCustomer</th></tr></thead><tbody><tr><td>Moscow</td><td>1878887.57</td><td>46.16</td><td>1412</td><td>1330.66</td><td>62</td><td>30304.64</td></tr><tr><td>Yekaterinburgh</td><td>310255.9</td><td>7.62</td><td>99</td><td>3133.9</td><td>4</td><td>77563.97</td></tr><tr><td>Perm</td><td>260324.2</td><td>6.4</td><td>48</td><td>5423.42</td><td>5</td><td>52064.84</td></tr><tr><td>Omsk</td><td>142487.7</td><td>3.5</td><td>64</td><td>2226.37</td><td>5</td><td>28497.54</td></tr><tr><td>Kirov</td><td>124397.6</td><td>3.06</td><td>23</td><td>5408.59</td><td>1</td><td>124397.6</td></tr><tr><td>Murmansk</td><td>124074.2</td><td>3.05</td><td>20</td><td>6203.71</td><td>3</td><td>41358.07</td></tr><tr><td>Voronezh</td><td>112347.3</td><td>2.76</td><td>63</td><td>1783.29</td><td>4</td><td>28086.82</td></tr><tr><td>Cherepovets</td><td>108075.0</td><td>2.66</td><td>31</td><td>3486.29</td><td>1</td><td>108075.0</td></tr><tr><td>Surgut</td><td>80063.1</td><td>1.97</td><td>10</td><td>8006.31</td><td>2</td><td>40031.55</td></tr><tr><td>Khabarovsk</td><td>78917.5</td><td>1.94</td><td>36</td><td>2192.15</td><td>6</td><td>13152.92</td></tr></tbody></table></div>"
      ]
     },
     "metadata": {
      "application/vnd.databricks.v1+output": {
       "addedWidgets": {},
       "aggData": [],
       "aggError": "",
       "aggOverflow": false,
       "aggSchema": [],
       "aggSeriesLimitReached": false,
       "aggType": "",
       "arguments": {},
       "columnCustomDisplayInfos": {},
       "data": [
        [
         "Moscow",
         1878887.57,
         46.16,
         1412,
         1330.66,
         62,
         30304.64
        ],
        [
         "Yekaterinburgh",
         310255.9,
         7.62,
         99,
         3133.9,
         4,
         77563.97
        ],
        [
         "Perm",
         260324.2,
         6.4,
         48,
         5423.42,
         5,
         52064.84
        ],
        [
         "Omsk",
         142487.7,
         3.5,
         64,
         2226.37,
         5,
         28497.54
        ],
        [
         "Kirov",
         124397.6,
         3.06,
         23,
         5408.59,
         1,
         124397.6
        ],
        [
         "Murmansk",
         124074.2,
         3.05,
         20,
         6203.71,
         3,
         41358.07
        ],
        [
         "Voronezh",
         112347.3,
         2.76,
         63,
         1783.29,
         4,
         28086.82
        ],
        [
         "Cherepovets",
         108075.0,
         2.66,
         31,
         3486.29,
         1,
         108075.0
        ],
        [
         "Surgut",
         80063.1,
         1.97,
         10,
         8006.31,
         2,
         40031.55
        ],
        [
         "Khabarovsk",
         78917.5,
         1.94,
         36,
         2192.15,
         6,
         13152.92
        ]
       ],
       "datasetInfos": [],
       "dbfsResultPath": null,
       "isJsonSchema": true,
       "metadata": {},
       "overflow": false,
       "plotOptions": {
        "customPlotOptions": {},
        "displayType": "table",
        "pivotAggregation": null,
        "pivotColumns": null,
        "xColumns": null,
        "yColumns": null
       },
       "removedWidgets": [],
       "schema": [
        {
         "metadata": "{}",
         "name": "Region",
         "type": "\"string\""
        },
        {
         "metadata": "{}",
         "name": "TotalRevenue",
         "type": "\"double\""
        },
        {
         "metadata": "{}",
         "name": "RevenuePercentage",
         "type": "\"double\""
        },
        {
         "metadata": "{}",
         "name": "TotalOrders",
         "type": "\"long\""
        },
        {
         "metadata": "{}",
         "name": "AvgOrderValue",
         "type": "\"double\""
        },
        {
         "metadata": "{}",
         "name": "UniqueCustomers",
         "type": "\"long\""
        },
        {
         "metadata": "{}",
         "name": "AvgRevenuePerCustomer",
         "type": "\"double\""
        }
       ],
       "type": "table"
      }
     },
     "output_type": "display_data"
    }
   ],
   "source": [
    "%sql\n",
    "-- 🌍 Top 10 Revenue-Generating Regions with Advanced Metrics\n",
    "SELECT \n",
    "  c.Region,\n",
    "  ROUND(SUM(f.QuantitySold * f.UnitSalesPrice), 2) AS TotalRevenue,\n",
    "  ROUND(\n",
    "    100 * SUM(f.QuantitySold * f.UnitSalesPrice) / \n",
    "    SUM(SUM(f.QuantitySold * f.UnitSalesPrice)) OVER (), \n",
    "    2\n",
    "  ) AS RevenuePercentage,\n",
    "  COUNT(DISTINCT f.OrderID) AS TotalOrders,\n",
    "  ROUND(SUM(f.QuantitySold * f.UnitSalesPrice) / COUNT(DISTINCT f.OrderID), 2) AS AvgOrderValue,\n",
    "  COUNT(DISTINCT f.CustomerID) AS UniqueCustomers,\n",
    "  ROUND(SUM(f.QuantitySold * f.UnitSalesPrice) / COUNT(DISTINCT f.CustomerID), 2) AS AvgRevenuePerCustomer\n",
    "\n",
    "FROM fact_sales f\n",
    "JOIN dim_customers c ON f.CustomerID = c.CustomerID\n",
    "GROUP BY c.Region\n",
    "ORDER BY TotalRevenue DESC\n",
    "LIMIT 10;"
   ]
  },
  {
   "cell_type": "markdown",
   "metadata": {
    "application/vnd.databricks.v1+cell": {
     "cellMetadata": {},
     "inputWidgets": {},
     "nuid": "168cb9c4-e26a-4b86-adf0-f784eb113472",
     "showTitle": false,
     "tableResultSettingsMap": {},
     "title": ""
    }
   },
   "source": [
    "###5.5 - 🔍 Revenue by Lead Source\n",
    "\n",
    "This analysis helps understand where the company’s customers are coming from and which acquisition channels are driving the most revenue.\n",
    "\n",
    "| Lead Source                                        | Total Revenue (USD) | % of Total Revenue |\n",
    "|----------------------------------------------------|--------------------|---------------------|\n",
    "| Referral by the Central Office                     | 2,482,829.15       | 61.00%              |\n",
    "| Advertisement in National Wholesale Magazine       |   784,164.80       | 19.27%              |\n",
    "| Sales Calls or Visits                              |   549,378.30       | 13.50%              |\n",
    "| Other                                              |   238,518.32       | 5.86%               |\n",
    "| *No information (null)*                            |     7,234.30       | 0.18%               |\n",
    "| Organic Search                                     |     3,497.70       | 0.09%               |\n",
    "| Trade Shows                                        |     3,340.60       | 0.08%               |\n",
    "| Referral by Third Parties                          |       953.20       | 0.02%               |\n",
    "| Advertisement in Regional Wholesaler Magazine      |       140.30       | 0.00%               |\n",
    "\n",
    "- The **vast majority of revenue (61%) comes from referrals by the Central Office**, suggesting a strong centralized B2B acquisition model.\n",
    "- **Magazine advertising and direct sales** efforts (calls and visits) also show strong returns, justifying continued investment in traditional B2B outreach.\n",
    "- However, **Organic Search accounts for only 0.09%** of revenue. Given the business’s scale, this indicates low brand awareness or poor digital presence.\n",
    "- Trade show performance is also negligible, suggesting either low participation or low conversion.\n",
    "- The presence of null values in ~0.18% of the data could be resolved to improve lead source tracking and attribution, but is not a priority due to its small percentage (this could possibly be fixed by identifying who made the sale and manually inputing the missing data).\n",
    "\n",
    "> 📌 **Insight**: The company has a highly effective centralized acquisition engine but is **missing opportunities in digital channels**. Building SEO, content marketing, or online visibility could open additional acquisition streams and reduce reliance on traditional methods."
   ]
  },
  {
   "cell_type": "code",
   "execution_count": 0,
   "metadata": {
    "application/vnd.databricks.v1+cell": {
     "cellMetadata": {
      "byteLimit": 2048000,
      "implicitDf": true,
      "rowLimit": 10000
     },
     "inputWidgets": {},
     "nuid": "815ae3f7-03fc-4c54-b807-5d49706ce403",
     "showTitle": false,
     "tableResultSettingsMap": {},
     "title": ""
    }
   },
   "outputs": [
    {
     "output_type": "display_data",
     "data": {
      "text/html": [
       "<style scoped>\n",
       "  .table-result-container {\n",
       "    max-height: 300px;\n",
       "    overflow: auto;\n",
       "  }\n",
       "  table, th, td {\n",
       "    border: 1px solid black;\n",
       "    border-collapse: collapse;\n",
       "  }\n",
       "  th, td {\n",
       "    padding: 5px;\n",
       "  }\n",
       "  th {\n",
       "    text-align: left;\n",
       "  }\n",
       "</style><div class='table-result-container'><table class='table-result'><thead style='background-color: white'><tr><th>LeadSource</th><th>TotalRevenue</th><th>RevenuePercentage</th></tr></thead><tbody><tr><td>Referral by the Central Office</td><td>2482829.15</td><td>61.0</td></tr><tr><td>Advertisement in National Wholesale Magazine</td><td>784164.8</td><td>19.27</td></tr><tr><td>Sales Calls or Visits</td><td>549378.3</td><td>13.5</td></tr><tr><td>Other</td><td>238518.32</td><td>5.86</td></tr><tr><td>null</td><td>7234.3</td><td>0.18</td></tr><tr><td>Organic Search</td><td>3497.7</td><td>0.09</td></tr><tr><td>Trade Shows</td><td>3340.6</td><td>0.08</td></tr><tr><td>Referral by Third Parties</td><td>953.2</td><td>0.02</td></tr><tr><td>Advertisement in Regional Wholesaler Magazine</td><td>140.3</td><td>0.0</td></tr></tbody></table></div>"
      ]
     },
     "metadata": {
      "application/vnd.databricks.v1+output": {
       "addedWidgets": {},
       "aggData": [],
       "aggError": "",
       "aggOverflow": false,
       "aggSchema": [],
       "aggSeriesLimitReached": false,
       "aggType": "",
       "arguments": {},
       "columnCustomDisplayInfos": {},
       "data": [
        [
         "Referral by the Central Office",
         2482829.15,
         61.0
        ],
        [
         "Advertisement in National Wholesale Magazine",
         784164.8,
         19.27
        ],
        [
         "Sales Calls or Visits",
         549378.3,
         13.5
        ],
        [
         "Other",
         238518.32,
         5.86
        ],
        [
         null,
         7234.3,
         0.18
        ],
        [
         "Organic Search",
         3497.7,
         0.09
        ],
        [
         "Trade Shows",
         3340.6,
         0.08
        ],
        [
         "Referral by Third Parties",
         953.2,
         0.02
        ],
        [
         "Advertisement in Regional Wholesaler Magazine",
         140.3,
         0.0
        ]
       ],
       "datasetInfos": [],
       "dbfsResultPath": null,
       "isJsonSchema": true,
       "metadata": {},
       "overflow": false,
       "plotOptions": {
        "customPlotOptions": {},
        "displayType": "table",
        "pivotAggregation": null,
        "pivotColumns": null,
        "xColumns": null,
        "yColumns": null
       },
       "removedWidgets": [],
       "schema": [
        {
         "metadata": "{}",
         "name": "LeadSource",
         "type": "\"string\""
        },
        {
         "metadata": "{}",
         "name": "TotalRevenue",
         "type": "\"double\""
        },
        {
         "metadata": "{}",
         "name": "RevenuePercentage",
         "type": "\"double\""
        }
       ],
       "type": "table"
      }
     },
     "output_type": "display_data"
    }
   ],
   "source": [
    "%sql\n",
    "-- 📣 Revenue by Lead Source\n",
    "SELECT \n",
    "  c.LeadSource,\n",
    "  ROUND(SUM(f.QuantitySold * f.UnitSalesPrice), 2) AS TotalRevenue,\n",
    "  ROUND(\n",
    "    100 * SUM(f.QuantitySold * f.UnitSalesPrice) / \n",
    "    SUM(SUM(f.QuantitySold * f.UnitSalesPrice)) OVER (), \n",
    "    2\n",
    "  ) AS RevenuePercentage\n",
    "FROM fact_sales f\n",
    "JOIN dim_customers c ON f.CustomerID = c.CustomerID\n",
    "GROUP BY c.LeadSource\n",
    "ORDER BY TotalRevenue DESC;"
   ]
  },
  {
   "cell_type": "markdown",
   "metadata": {
    "application/vnd.databricks.v1+cell": {
     "cellMetadata": {},
     "inputWidgets": {},
     "nuid": "3a6390ba-fa91-42ac-b554-d5acff7a638c",
     "showTitle": false,
     "tableResultSettingsMap": {},
     "title": ""
    }
   },
   "source": [
    "###5.6 - 🧩 Revenue by Customer Class\n",
    "\n",
    "This analysis confirms the company’s strong focus on B2B operations, with nearly all revenue originating from wholesalers.\n",
    "\n",
    "| Customer Class               | Total Revenue (USD) | % of Total Revenue |\n",
    "|------------------------------|--------------------|---------------------|\n",
    "| Large-Scale Wholesaler-1     | 2,523,498.00       | 62.00%              |\n",
    "| Small-Scale Wholesaler       | 1,111,037.80       | 27.30%              |\n",
    "| HyPermarket                  |   222,615.10       | 5.47%               |\n",
    "| Large-Scale Wholesaler-2     |   168,490.75       | 4.14%               |\n",
    "| Retailer                     |    39,295.30       | 0.97%               |\n",
    "| Consumer                     |     4,021.42       | 0.10%               |\n",
    "| Branch                       |     1,098.30       | 0.03%               |\n",
    "\n",
    "- Around **93% of all revenue comes from wholesale clients**, with minimal presence in retail or direct-to-consumer channels.\n",
    "- This reinforces the brand’s positioning as a **wholesaler-focused operation**, built on volume sales and business-to-business relationships.\n",
    "- The company could benefit from **segmenting large-scale wholesalers more precisely** (e.g., by size, location, or sales volume) to identify key accounts that deserve custom pricing, account management, or relationship-building.\n",
    "- The **HyPermarket segment** presents an opportunity to develop a tailored offering or partnership strategy given its standalone contribution.\n",
    "- Direct consumer expansion is **not currently advised**, as it could conflict with established B2B trust and distribution dynamics.\n",
    "\n",
    "> 📌 **Insight**: Focused relationship management and tiered service strategies for top wholesalers could improve retention and lifetime value. Customizing outreach for top accounts (especially HyPermarkets) may open up new growth opportunities within the same channel structure."
   ]
  },
  {
   "cell_type": "code",
   "execution_count": 0,
   "metadata": {
    "application/vnd.databricks.v1+cell": {
     "cellMetadata": {
      "byteLimit": 2048000,
      "implicitDf": true,
      "rowLimit": 10000
     },
     "inputWidgets": {},
     "nuid": "8c12731d-7053-49d2-a137-d4451886dbd6",
     "showTitle": false,
     "tableResultSettingsMap": {},
     "title": ""
    }
   },
   "outputs": [
    {
     "output_type": "display_data",
     "data": {
      "text/html": [
       "<style scoped>\n",
       "  .table-result-container {\n",
       "    max-height: 300px;\n",
       "    overflow: auto;\n",
       "  }\n",
       "  table, th, td {\n",
       "    border: 1px solid black;\n",
       "    border-collapse: collapse;\n",
       "  }\n",
       "  th, td {\n",
       "    padding: 5px;\n",
       "  }\n",
       "  th {\n",
       "    text-align: left;\n",
       "  }\n",
       "</style><div class='table-result-container'><table class='table-result'><thead style='background-color: white'><tr><th>CustomerClass</th><th>TotalRevenue</th><th>RevenuePercentage</th></tr></thead><tbody><tr><td>Large-Scale Wholesaler-1</td><td>2523498.0</td><td>62.0</td></tr><tr><td>Small-Scale Wholesaler</td><td>1111037.8</td><td>27.3</td></tr><tr><td>HyPermarket</td><td>222615.1</td><td>5.47</td></tr><tr><td>Large-Scale Wholesaler-2</td><td>168490.75</td><td>4.14</td></tr><tr><td>Retailer</td><td>39295.3</td><td>0.97</td></tr><tr><td>Consumer</td><td>4021.42</td><td>0.1</td></tr><tr><td>Branch</td><td>1098.3</td><td>0.03</td></tr></tbody></table></div>"
      ]
     },
     "metadata": {
      "application/vnd.databricks.v1+output": {
       "addedWidgets": {},
       "aggData": [],
       "aggError": "",
       "aggOverflow": false,
       "aggSchema": [],
       "aggSeriesLimitReached": false,
       "aggType": "",
       "arguments": {},
       "columnCustomDisplayInfos": {},
       "data": [
        [
         "Large-Scale Wholesaler-1",
         2523498.0,
         62.0
        ],
        [
         "Small-Scale Wholesaler",
         1111037.8,
         27.3
        ],
        [
         "HyPermarket",
         222615.1,
         5.47
        ],
        [
         "Large-Scale Wholesaler-2",
         168490.75,
         4.14
        ],
        [
         "Retailer",
         39295.3,
         0.97
        ],
        [
         "Consumer",
         4021.42,
         0.1
        ],
        [
         "Branch",
         1098.3,
         0.03
        ]
       ],
       "datasetInfos": [],
       "dbfsResultPath": null,
       "isJsonSchema": true,
       "metadata": {},
       "overflow": false,
       "plotOptions": {
        "customPlotOptions": {},
        "displayType": "table",
        "pivotAggregation": null,
        "pivotColumns": null,
        "xColumns": null,
        "yColumns": null
       },
       "removedWidgets": [],
       "schema": [
        {
         "metadata": "{}",
         "name": "CustomerClass",
         "type": "\"string\""
        },
        {
         "metadata": "{}",
         "name": "TotalRevenue",
         "type": "\"double\""
        },
        {
         "metadata": "{}",
         "name": "RevenuePercentage",
         "type": "\"double\""
        }
       ],
       "type": "table"
      }
     },
     "output_type": "display_data"
    }
   ],
   "source": [
    "%sql\n",
    "-- 🧩 Revenue by Customer Class\n",
    "SELECT \n",
    "  c.CustomerClass,\n",
    "  ROUND(SUM(f.QuantitySold * f.UnitSalesPrice), 2) AS TotalRevenue,\n",
    "  ROUND(\n",
    "    100 * SUM(f.QuantitySold * f.UnitSalesPrice) / \n",
    "    SUM(SUM(f.QuantitySold * f.UnitSalesPrice)) OVER (), \n",
    "    2\n",
    "  ) AS RevenuePercentage\n",
    "FROM fact_sales f\n",
    "JOIN dim_customers c ON f.CustomerID = c.CustomerID\n",
    "GROUP BY c.CustomerClass\n",
    "ORDER BY TotalRevenue DESC;"
   ]
  },
  {
   "cell_type": "markdown",
   "metadata": {
    "application/vnd.databricks.v1+cell": {
     "cellMetadata": {},
     "inputWidgets": {},
     "nuid": "1d7f6a2b-0cf5-4665-a022-a69e4645bd4a",
     "showTitle": false,
     "tableResultSettingsMap": {},
     "title": ""
    }
   },
   "source": [
    "###5.7 - 🔁 Revenue by Customer Status (Active vs. Discontinued)\n",
    "\n",
    "This metric shows the share of revenue generated by currently active customers versus those marked as discontinued.\n",
    "\n",
    "| Customer Status | Total Revenue (USD) | % of Total Revenue |\n",
    "|------------------|--------------------|---------------------|\n",
    "| Active           | 3,933,077.75       | 96.63%              |\n",
    "| Discontinued     |   136,978.92       | 3.37%               |\n",
    "\n",
    "- **Churn appears to be low**, with over 96% of revenue coming from active customers.\n",
    "- Discontinued accounts contributed only a small portion of past revenue, indicating strong ongoing customer relationships and account stability.\n",
    "- However, even a 3.37% churn rate could be meaningful depending on the **size or value of individual clients**.\n",
    "- These inactive clients may still represent **low-effort recovery opportunities**. Re-engagement campaigns, surveys, or personalized promotions could help understand their disengagement and potentially recover lost revenue or even prevent other active customers from churning."
   ]
  },
  {
   "cell_type": "code",
   "execution_count": 0,
   "metadata": {
    "application/vnd.databricks.v1+cell": {
     "cellMetadata": {
      "byteLimit": 2048000,
      "implicitDf": true,
      "rowLimit": 10000
     },
     "inputWidgets": {},
     "nuid": "1efde254-8616-421e-8bbb-1a6d428ced2c",
     "showTitle": false,
     "tableResultSettingsMap": {},
     "title": ""
    }
   },
   "outputs": [
    {
     "output_type": "display_data",
     "data": {
      "text/html": [
       "<style scoped>\n",
       "  .table-result-container {\n",
       "    max-height: 300px;\n",
       "    overflow: auto;\n",
       "  }\n",
       "  table, th, td {\n",
       "    border: 1px solid black;\n",
       "    border-collapse: collapse;\n",
       "  }\n",
       "  th, td {\n",
       "    padding: 5px;\n",
       "  }\n",
       "  th {\n",
       "    text-align: left;\n",
       "  }\n",
       "</style><div class='table-result-container'><table class='table-result'><thead style='background-color: white'><tr><th>CustomerStatus</th><th>TotalRevenue</th><th>RevenuePercentage</th></tr></thead><tbody><tr><td>Active</td><td>3933077.75</td><td>96.63</td></tr><tr><td>Discontinued</td><td>136978.92</td><td>3.37</td></tr></tbody></table></div>"
      ]
     },
     "metadata": {
      "application/vnd.databricks.v1+output": {
       "addedWidgets": {},
       "aggData": [],
       "aggError": "",
       "aggOverflow": false,
       "aggSchema": [],
       "aggSeriesLimitReached": false,
       "aggType": "",
       "arguments": {},
       "columnCustomDisplayInfos": {},
       "data": [
        [
         "Active",
         3933077.75,
         96.63
        ],
        [
         "Discontinued",
         136978.92,
         3.37
        ]
       ],
       "datasetInfos": [],
       "dbfsResultPath": null,
       "isJsonSchema": true,
       "metadata": {},
       "overflow": false,
       "plotOptions": {
        "customPlotOptions": {},
        "displayType": "table",
        "pivotAggregation": null,
        "pivotColumns": null,
        "xColumns": null,
        "yColumns": null
       },
       "removedWidgets": [],
       "schema": [
        {
         "metadata": "{}",
         "name": "CustomerStatus",
         "type": "\"string\""
        },
        {
         "metadata": "{}",
         "name": "TotalRevenue",
         "type": "\"double\""
        },
        {
         "metadata": "{}",
         "name": "RevenuePercentage",
         "type": "\"double\""
        }
       ],
       "type": "table"
      }
     },
     "output_type": "display_data"
    }
   ],
   "source": [
    "%sql\n",
    "-- 🔁 Revenue by Customer Status (Active vs. Discontinued)\n",
    "SELECT \n",
    "  CASE \n",
    "    WHEN c.Discontinued = 1 THEN 'Discontinued'\n",
    "    WHEN c.Discontinued = 0 THEN 'Active'\n",
    "    ELSE 'Unknown'\n",
    "  END AS CustomerStatus,\n",
    "  ROUND(SUM(f.QuantitySold * f.UnitSalesPrice), 2) AS TotalRevenue,\n",
    "  ROUND(\n",
    "    100 * SUM(f.QuantitySold * f.UnitSalesPrice) / \n",
    "    SUM(SUM(f.QuantitySold * f.UnitSalesPrice)) OVER (),\n",
    "    2\n",
    "  ) AS RevenuePercentage\n",
    "FROM fact_sales f\n",
    "JOIN dim_customers c ON f.CustomerID = c.CustomerID\n",
    "GROUP BY CustomerStatus\n",
    "ORDER BY TotalRevenue DESC;"
   ]
  },
  {
   "cell_type": "markdown",
   "metadata": {
    "application/vnd.databricks.v1+cell": {
     "cellMetadata": {},
     "inputWidgets": {},
     "nuid": "f65b8c65-96de-4346-a308-d92de395b2b5",
     "showTitle": false,
     "tableResultSettingsMap": {},
     "title": ""
    }
   },
   "source": [
    "###5.8 - 🏆 Top 10 Customers – Performance Deep Dive\n",
    "\n",
    "This table highlights the company's 10 most valuable customers, combining not only total revenue but also average order value, number of unique product categories purchased, and customer engagement levels. These metrics offer a comprehensive view of each client’s contribution to the business and help identify where to focus relationship-building, cross-selling strategies, and account development efforts for maximum ROI.\n",
    "\n",
    "| Customer Name | Total Revenue (USD) | Revenue % | Total Orders | Avg. Order Value (USD) | Unique Categories |\n",
    "|---------------|---------------------|-----------|---------------|--------------------------|--------------------|\n",
    "| C5            | 570,217.80          | 14.01%    | 130           | 4,386.29                | 5                  |\n",
    "| C2            | 384,881.90          | 9.46%     | 126           | 3,054.62                | 8                  |\n",
    "| C13           | 225,268.60          | 5.53%     | 37            | 6,088.34                | 5                  |\n",
    "| C209          | 222,615.10          | 5.47%     | 39            | 5,708.08                | 5                  |\n",
    "| C75           | 157,444.00          | 3.87%     | 46            | 3,422.70                | 7                  |\n",
    "| C24           | 134,352.90          | 3.30%     | 36            | 3,732.02                | 6                  |\n",
    "| C56           | 124,397.60          | 3.06%     | 23            | 5,408.59                | 7                  |\n",
    "| C40           | 117,903.10          | 2.90%     | 17            | 6,935.48                | 8                  |\n",
    "| C6            | 109,633.10          | 2.69%     | 50            | 2,192.66                | 3                  |\n",
    "| C136          | 108,075.00          | 2.66%     | 31            | 3,486.29                | 6                  |\n",
    "\n",
    "---\n",
    "\n",
    "### Key Insights:\n",
    "\n",
    "- The top 10 customers together account for **54% of total revenue**, with the top 2 alone contributing more than **23%**.\n",
    "- While these accounts clearly deserve special attention (e.g. strategic pricing, dedicated reps), the business still serves **over 200 clients**, who collectively make up nearly **46% of the revenue**.\n",
    "- This **balanced structure** indicates strong client diversification and reduced dependency on any single account.\n",
    "\n",
    "---\n",
    "\n",
    "### Customer Specific Inisghts:\n",
    "\n",
    "- **C5 and C2** stand out as **top revenue generators**, combining high order volumes with strong consistency, making them high-priority clients.\n",
    "- Customers like **C13**, **C209**, **C56**, and **C40** have **exceptional average order values** (above USD $5,000), suggesting strong potential for account-based marketing or VIP treatment.\n",
    "- **C40** in particular manages to purchase across 8 product categories with just 17 orders — a sign of high-value, intentional procurement.\n",
    "- **C6** shows steady engagement through frequent purchases, albeit with lower value per order — a candidate for volume discounts or product bundling strategies.\n",
    "- Clients engaging with a wide variety of product categories (like **C2**, **C75**, and **C40**) are ideal targets for **cross-selling** and product experimentation.\n",
    "\n",
    "> 📌 **Insight**: The company should maintain high-touch strategies for top accounts, while preserving strong service and communication across the full client base. This mix of depth and breadth reflects a resilient and well-managed B2B operation."
   ]
  },
  {
   "cell_type": "code",
   "execution_count": 0,
   "metadata": {
    "application/vnd.databricks.v1+cell": {
     "cellMetadata": {
      "byteLimit": 2048000,
      "implicitDf": true,
      "rowLimit": 10000
     },
     "inputWidgets": {},
     "nuid": "2895b9ea-3df3-44d4-b8a8-bbd43d3f7579",
     "showTitle": false,
     "tableResultSettingsMap": {},
     "title": ""
    }
   },
   "outputs": [
    {
     "output_type": "display_data",
     "data": {
      "text/html": [
       "<style scoped>\n",
       "  .table-result-container {\n",
       "    max-height: 300px;\n",
       "    overflow: auto;\n",
       "  }\n",
       "  table, th, td {\n",
       "    border: 1px solid black;\n",
       "    border-collapse: collapse;\n",
       "  }\n",
       "  th, td {\n",
       "    padding: 5px;\n",
       "  }\n",
       "  th {\n",
       "    text-align: left;\n",
       "  }\n",
       "</style><div class='table-result-container'><table class='table-result'><thead style='background-color: white'><tr><th>CustomerName</th><th>TotalRevenue</th><th>RevenuePercentage</th><th>TotalOrders</th><th>AvgOrderValue</th><th>UniqueCategories</th></tr></thead><tbody><tr><td>C5</td><td>570217.8</td><td>14.01</td><td>130</td><td>4386.29</td><td>5</td></tr><tr><td>C2</td><td>384881.9</td><td>9.46</td><td>126</td><td>3054.62</td><td>8</td></tr><tr><td>C13</td><td>225268.6</td><td>5.53</td><td>37</td><td>6088.34</td><td>5</td></tr><tr><td>C209</td><td>222615.1</td><td>5.47</td><td>39</td><td>5708.08</td><td>5</td></tr><tr><td>C75</td><td>157444.0</td><td>3.87</td><td>46</td><td>3422.7</td><td>7</td></tr><tr><td>C24</td><td>134352.9</td><td>3.3</td><td>36</td><td>3732.03</td><td>6</td></tr><tr><td>C56</td><td>124397.6</td><td>3.06</td><td>23</td><td>5408.59</td><td>7</td></tr><tr><td>C40</td><td>117903.1</td><td>2.9</td><td>17</td><td>6935.48</td><td>8</td></tr><tr><td>C6</td><td>109633.1</td><td>2.69</td><td>50</td><td>2192.66</td><td>3</td></tr><tr><td>C136</td><td>108075.0</td><td>2.66</td><td>31</td><td>3486.29</td><td>6</td></tr></tbody></table></div>"
      ]
     },
     "metadata": {
      "application/vnd.databricks.v1+output": {
       "addedWidgets": {},
       "aggData": [],
       "aggError": "",
       "aggOverflow": false,
       "aggSchema": [],
       "aggSeriesLimitReached": false,
       "aggType": "",
       "arguments": {},
       "columnCustomDisplayInfos": {},
       "data": [
        [
         "C5",
         570217.8,
         14.01,
         130,
         4386.29,
         5
        ],
        [
         "C2",
         384881.9,
         9.46,
         126,
         3054.62,
         8
        ],
        [
         "C13",
         225268.6,
         5.53,
         37,
         6088.34,
         5
        ],
        [
         "C209",
         222615.1,
         5.47,
         39,
         5708.08,
         5
        ],
        [
         "C75",
         157444.0,
         3.87,
         46,
         3422.7,
         7
        ],
        [
         "C24",
         134352.9,
         3.3,
         36,
         3732.03,
         6
        ],
        [
         "C56",
         124397.6,
         3.06,
         23,
         5408.59,
         7
        ],
        [
         "C40",
         117903.1,
         2.9,
         17,
         6935.48,
         8
        ],
        [
         "C6",
         109633.1,
         2.69,
         50,
         2192.66,
         3
        ],
        [
         "C136",
         108075.0,
         2.66,
         31,
         3486.29,
         6
        ]
       ],
       "datasetInfos": [],
       "dbfsResultPath": null,
       "isJsonSchema": true,
       "metadata": {},
       "overflow": false,
       "plotOptions": {
        "customPlotOptions": {},
        "displayType": "table",
        "pivotAggregation": null,
        "pivotColumns": null,
        "xColumns": null,
        "yColumns": null
       },
       "removedWidgets": [],
       "schema": [
        {
         "metadata": "{}",
         "name": "CustomerName",
         "type": "\"string\""
        },
        {
         "metadata": "{}",
         "name": "TotalRevenue",
         "type": "\"double\""
        },
        {
         "metadata": "{}",
         "name": "RevenuePercentage",
         "type": "\"double\""
        },
        {
         "metadata": "{}",
         "name": "TotalOrders",
         "type": "\"long\""
        },
        {
         "metadata": "{}",
         "name": "AvgOrderValue",
         "type": "\"double\""
        },
        {
         "metadata": "{}",
         "name": "UniqueCategories",
         "type": "\"long\""
        }
       ],
       "type": "table"
      }
     },
     "output_type": "display_data"
    }
   ],
   "source": [
    "%sql\n",
    "-- 🧑‍💼 Customer Performance Deep Dive\n",
    "-- Combines revenue, order volume, AOV, and category diversity per customer\n",
    "\n",
    "SELECT \n",
    "  c.CustomerName,\n",
    "  ROUND(SUM(f.QuantitySold * f.UnitSalesPrice), 2) AS TotalRevenue,\n",
    "  ROUND(SUM(f.QuantitySold * f.UnitSalesPrice) / (SELECT SUM(QuantitySold * UnitSalesPrice) FROM fact_sales) * 100, 2) AS RevenuePercentage,\n",
    "  COUNT(DISTINCT f.OrderID) AS TotalOrders,\n",
    "  ROUND(SUM(f.QuantitySold * f.UnitSalesPrice) / COUNT(DISTINCT f.OrderID), 2) AS AvgOrderValue,\n",
    "  COUNT(DISTINCT p.Category) AS UniqueCategories\n",
    "\n",
    "FROM fact_sales f\n",
    "JOIN dim_customers c ON f.CustomerID = c.CustomerID\n",
    "JOIN dim_products p ON f.ProductID = p.ProductID\n",
    "\n",
    "GROUP BY c.CustomerName\n",
    "ORDER BY TotalRevenue DESC\n",
    "LIMIT 10;"
   ]
  },
  {
   "cell_type": "markdown",
   "metadata": {
    "application/vnd.databricks.v1+cell": {
     "cellMetadata": {},
     "inputWidgets": {},
     "nuid": "32525aaf-d544-4833-a51f-30fed1f890a4",
     "showTitle": false,
     "tableResultSettingsMap": {},
     "title": ""
    }
   },
   "source": [
    "###5.9 - 🧑‍💼 Employee Performance Analysis\n",
    "\n",
    "This comprehensive view summarizes each employee’s contribution across multiple dimensions: total revenue, revenue share, number of orders, average order value (AOV), and unique customers handled.\n",
    "\n",
    "> **Note:** The original employee dataset includes 15 employees, but only 10 appear in this analysis. This suggests that **5 employees either haven’t logged sales** or are engaged in **non-sales roles** (e.g., logistics, purchasing, operations). This helps narrow focus to only active sales performers.\n",
    "\n",
    "---\n",
    "\n",
    "#### 📊 Employee Sales Performance Table\n",
    "\n",
    "| EmployeeName | TotalRevenue (USD) | RevenuePercentage (%) | TotalOrders | RevenuePerOrder (USD) | UniqueCustomers |\n",
    "|--------------|--------------------|------------------------|-------------|------------------------|------------------|\n",
    "| E5           | 1,914,747.70       | 47.04                  | 1,056       | 1,813.21               | 153              |\n",
    "| E7           | 569,722.80         | 14.00                  | 228         | 2,498.78               | 77               |\n",
    "| E2           | 551,670.37         | 13.55                  | 387         | 1,425.50               | 56               |\n",
    "| E1           | 490,210.50         | 12.04                  | 293         | 1,673.07               | 83               |\n",
    "| E13          | 333,873.00         | 8.20                   | 172         | 1,941.12               | 57               |\n",
    "| E11          | 100,734.70         | 2.48                   | 62          | 1,624.75               | 34               |\n",
    "| E6           | 32,340.20          | 0.79                   | 26          | 1,243.85               | 17               |\n",
    "| E14          | 31,787.60          | 0.78                   | 19          | 1,673.03               | 15               |\n",
    "| E15          | 28,778.30          | 0.71                   | 11          | 2,616.21               | 7                |\n",
    "| E12          | 16,191.50          | 0.40                   | 7           | 2,313.07               | 6                |\n",
    "\n",
    "---\n",
    "\n",
    "#### 🔍 Key Highlights:\n",
    "\n",
    "- **Employee 5** is the company’s top performer by a wide margin, accounting for **47.04% of total revenue (USD 1,914,747.70)**, the **highest number of orders (1,056)**, and the **largest customer base (153 clients)**. While their AOV isn't the highest, their scale makes them a strategic asset. This employee could **mentor others** or lead internal workshops to share best practices.\n",
    "\n",
    "- **Employee 7** ranks second in total revenue but stands out with a **very high AOV of USD 2,498.78**. This suggests specialization in **larger or more premium deals**, which could inform strategies for targeting high-value segments.\n",
    "\n",
    "- **Employee 2** handles more orders than Employee 7 but has a lower AOV (USD 1,425.50). With fewer unique clients, they show signs of **strong repeat business** — suggesting room to **expand client base** while maintaining retention.\n",
    "\n",
    "- **Employees 1 and 13** show **balanced and consistent performance** across all metrics. While their total revenue is lower than the top 3, their **solid AOV and customer reach** demonstrate they are dependable, scalable contributors.\n",
    "\n",
    "- **Bottom 5 employees (11, 6, 14, 15, 12)** have lower overall impact. They likely need more support, have **limited client assignments**, or are **new to the sales role**. While their volume is low, several show healthy AOVs.\n",
    "\n",
    "- **Employees 15 and 12**, despite ranking lower in total orders and customer count, stand out with **exceptionally high AOVs** (USD 2,616.21 and USD 2,313.07 respectively). This could imply they are managing **select premium clients** or are **high-potential newcomers**.\n",
    "\n",
    "---\n",
    "\n",
    "#### 💡 Strategic Insight:\n",
    "\n",
    "This table allows management to segment sales employees based on performance and potential:\n",
    "\n",
    "- **Volume-driven sellers** (like E5 and E2) can be supported with tools to scale more efficiently.\n",
    "- **High-AOV employees** (like E7, E15, and E12) can be focused on **key accounts or premium offerings**.\n",
    "- **Underutilized employees** may need **training, reassignment, or mentoring**.\n",
    "- **Balanced performers** like E1 and E13 are ideal for **long-term scalable sales growth**.\n",
    "\n",
    "This multi-metric analysis provides a strong base for **data-driven talent management and sales enablement strategies**.\n",
    "\n",
    "---"
   ]
  },
  {
   "cell_type": "code",
   "execution_count": 0,
   "metadata": {
    "application/vnd.databricks.v1+cell": {
     "cellMetadata": {
      "byteLimit": 2048000,
      "implicitDf": true,
      "rowLimit": 10000
     },
     "inputWidgets": {},
     "nuid": "66d91e97-3d18-4dd1-a71f-ae48a6846949",
     "showTitle": false,
     "tableResultSettingsMap": {},
     "title": ""
    }
   },
   "outputs": [
    {
     "output_type": "display_data",
     "data": {
      "text/html": [
       "<style scoped>\n",
       "  .table-result-container {\n",
       "    max-height: 300px;\n",
       "    overflow: auto;\n",
       "  }\n",
       "  table, th, td {\n",
       "    border: 1px solid black;\n",
       "    border-collapse: collapse;\n",
       "  }\n",
       "  th, td {\n",
       "    padding: 5px;\n",
       "  }\n",
       "  th {\n",
       "    text-align: left;\n",
       "  }\n",
       "</style><div class='table-result-container'><table class='table-result'><thead style='background-color: white'><tr><th>EmployeeName</th><th>TotalRevenue</th><th>RevenuePercentage</th><th>TotalOrders</th><th>RevenuePerOrder</th><th>UniqueCustomers</th></tr></thead><tbody><tr><td>\u0000\u0000E\u00005\u0000\u0000</td><td>1914747.7</td><td>47.04</td><td>1056</td><td>1813.21</td><td>153</td></tr><tr><td>\u0000\u0000E\u00007\u0000\u0000</td><td>569722.8</td><td>14.0</td><td>228</td><td>2498.78</td><td>77</td></tr><tr><td>\u0000\u0000E\u00002\u0000\u0000</td><td>551670.37</td><td>13.55</td><td>387</td><td>1425.5</td><td>56</td></tr><tr><td>\u0000\u0000E\u00001\u0000\u0000</td><td>490210.5</td><td>12.04</td><td>293</td><td>1673.07</td><td>83</td></tr><tr><td>\u0000\u0000E\u00001\u00003\u0000\u0000</td><td>333873.0</td><td>8.2</td><td>172</td><td>1941.12</td><td>57</td></tr><tr><td>\u0000\u0000E\u00001\u00001\u0000\u0000</td><td>100734.7</td><td>2.48</td><td>62</td><td>1624.75</td><td>34</td></tr><tr><td>\u0000\u0000E\u00006\u0000\u0000</td><td>32340.2</td><td>0.79</td><td>26</td><td>1243.85</td><td>17</td></tr><tr><td>\u0000\u0000E\u00001\u00004\u0000\u0000</td><td>31787.6</td><td>0.78</td><td>19</td><td>1673.03</td><td>15</td></tr><tr><td>\u0000\u0000E\u00001\u00005\u0000\u0000</td><td>28778.3</td><td>0.71</td><td>11</td><td>2616.21</td><td>7</td></tr><tr><td>\u0000\u0000E\u00001\u00002\u0000\u0000</td><td>16191.5</td><td>0.4</td><td>7</td><td>2313.07</td><td>6</td></tr></tbody></table></div>"
      ]
     },
     "metadata": {
      "application/vnd.databricks.v1+output": {
       "addedWidgets": {},
       "aggData": [],
       "aggError": "",
       "aggOverflow": false,
       "aggSchema": [],
       "aggSeriesLimitReached": false,
       "aggType": "",
       "arguments": {},
       "columnCustomDisplayInfos": {},
       "data": [
        [
         "\u0000\u0000E\u00005\u0000\u0000",
         1914747.7,
         47.04,
         1056,
         1813.21,
         153
        ],
        [
         "\u0000\u0000E\u00007\u0000\u0000",
         569722.8,
         14.0,
         228,
         2498.78,
         77
        ],
        [
         "\u0000\u0000E\u00002\u0000\u0000",
         551670.37,
         13.55,
         387,
         1425.5,
         56
        ],
        [
         "\u0000\u0000E\u00001\u0000\u0000",
         490210.5,
         12.04,
         293,
         1673.07,
         83
        ],
        [
         "\u0000\u0000E\u00001\u00003\u0000\u0000",
         333873.0,
         8.2,
         172,
         1941.12,
         57
        ],
        [
         "\u0000\u0000E\u00001\u00001\u0000\u0000",
         100734.7,
         2.48,
         62,
         1624.75,
         34
        ],
        [
         "\u0000\u0000E\u00006\u0000\u0000",
         32340.2,
         0.79,
         26,
         1243.85,
         17
        ],
        [
         "\u0000\u0000E\u00001\u00004\u0000\u0000",
         31787.6,
         0.78,
         19,
         1673.03,
         15
        ],
        [
         "\u0000\u0000E\u00001\u00005\u0000\u0000",
         28778.3,
         0.71,
         11,
         2616.21,
         7
        ],
        [
         "\u0000\u0000E\u00001\u00002\u0000\u0000",
         16191.5,
         0.4,
         7,
         2313.07,
         6
        ]
       ],
       "datasetInfos": [],
       "dbfsResultPath": null,
       "isJsonSchema": true,
       "metadata": {},
       "overflow": false,
       "plotOptions": {
        "customPlotOptions": {},
        "displayType": "table",
        "pivotAggregation": null,
        "pivotColumns": null,
        "xColumns": null,
        "yColumns": null
       },
       "removedWidgets": [],
       "schema": [
        {
         "metadata": "{}",
         "name": "EmployeeName",
         "type": "\"string\""
        },
        {
         "metadata": "{}",
         "name": "TotalRevenue",
         "type": "\"double\""
        },
        {
         "metadata": "{}",
         "name": "RevenuePercentage",
         "type": "\"double\""
        },
        {
         "metadata": "{}",
         "name": "TotalOrders",
         "type": "\"long\""
        },
        {
         "metadata": "{}",
         "name": "RevenuePerOrder",
         "type": "\"double\""
        },
        {
         "metadata": "{}",
         "name": "UniqueCustomers",
         "type": "\"long\""
        }
       ],
       "type": "table"
      }
     },
     "output_type": "display_data"
    }
   ],
   "source": [
    "%sql\n",
    "-- 🧑‍💼 Wide Employee Dimension View:\n",
    "-- This query combines revenue performance, customer reach, and order efficiency \n",
    "-- for each employee, providing a complete picture of their impact on sales.\n",
    "\n",
    "SELECT \n",
    "  e.EmployeeName,\n",
    "  \n",
    "  -- 📦 Revenue\n",
    "  ROUND(SUM(f.QuantitySold * f.UnitSalesPrice), 2) AS TotalRevenue,\n",
    "  \n",
    "  -- 📊 Revenue share across all employees\n",
    "  ROUND(\n",
    "    100 * SUM(f.QuantitySold * f.UnitSalesPrice) / \n",
    "    SUM(SUM(f.QuantitySold * f.UnitSalesPrice)) OVER (), \n",
    "    2\n",
    "  ) AS RevenuePercentage,\n",
    "\n",
    "  -- 🧾 Total unique orders handled\n",
    "  COUNT(DISTINCT f.OrderID) AS TotalOrders,\n",
    "\n",
    "  -- 💰 Average Order Value (AOV)\n",
    "  ROUND(\n",
    "    SUM(f.QuantitySold * f.UnitSalesPrice) / COUNT(DISTINCT f.OrderID),\n",
    "    2\n",
    "  ) AS RevenuePerOrder,\n",
    "\n",
    "  -- 🤝 Number of different customers served\n",
    "  COUNT(DISTINCT f.CustomerID) AS UniqueCustomers\n",
    "\n",
    "FROM fact_sales f\n",
    "JOIN dim_employees e ON f.EmployeeID = e.EmployeeID\n",
    "GROUP BY e.EmployeeName\n",
    "ORDER BY RevenuePercentage DESC;"
   ]
  },
  {
   "cell_type": "markdown",
   "metadata": {
    "application/vnd.databricks.v1+cell": {
     "cellMetadata": {},
     "inputWidgets": {},
     "nuid": "2a81f646-788a-4bfe-a36d-3e53394836c2",
     "showTitle": false,
     "tableResultSettingsMap": {},
     "title": ""
    }
   },
   "source": [
    "###5.10 - 📆 Revenue Trend Over Time\n",
    "\n",
    "- The data covers a 3-year period (from mid-2003 to mid-2006).\n",
    "- While there’s no strong seasonal pattern, there’s a **general upward trajectory**, with **2006 showing higher revenue months**, peaking at over R$212K in April.\n",
    "- Order volume and revenue tend to rise together, indicating that **order frequency** is the key driver of growth (vs. higher average order value).\n",
    "- The business seems to be **stabilizing and growing modestly over time** but there are no major patterns in the time series.\n",
    "\n",
    "> 📌 **Note**: The trend is not very pronounced, so the real value may lie in exploring customer behavior, product strategies, or regional performance rather than time-based forecasting."
   ]
  },
  {
   "cell_type": "code",
   "execution_count": 0,
   "metadata": {
    "application/vnd.databricks.v1+cell": {
     "cellMetadata": {
      "byteLimit": 2048000,
      "implicitDf": true,
      "rowLimit": 10000
     },
     "inputWidgets": {},
     "nuid": "4e507a03-f9fc-4596-8524-846723e266fd",
     "showTitle": false,
     "tableResultSettingsMap": {},
     "title": ""
    }
   },
   "outputs": [
    {
     "output_type": "display_data",
     "data": {
      "text/html": [
       "<style scoped>\n",
       "  .table-result-container {\n",
       "    max-height: 300px;\n",
       "    overflow: auto;\n",
       "  }\n",
       "  table, th, td {\n",
       "    border: 1px solid black;\n",
       "    border-collapse: collapse;\n",
       "  }\n",
       "  th, td {\n",
       "    padding: 5px;\n",
       "  }\n",
       "  th {\n",
       "    text-align: left;\n",
       "  }\n",
       "</style><div class='table-result-container'><table class='table-result'><thead style='background-color: white'><tr><th>Month</th><th>TotalRevenue</th><th>TotalOrders</th></tr></thead><tbody><tr><td>2003-07</td><td>55627.3</td><td>36</td></tr><tr><td>2003-08</td><td>114025.6</td><td>72</td></tr><tr><td>2003-09</td><td>52547.75</td><td>49</td></tr><tr><td>2003-10</td><td>91976.7</td><td>78</td></tr><tr><td>2003-11</td><td>60076.22</td><td>65</td></tr><tr><td>2003-12</td><td>76363.6</td><td>75</td></tr><tr><td>2004-01</td><td>90237.5</td><td>70</td></tr><tr><td>2004-02</td><td>127283.5</td><td>84</td></tr><tr><td>2004-03</td><td>131775.5</td><td>77</td></tr><tr><td>2004-04</td><td>184751.1</td><td>63</td></tr><tr><td>2004-05</td><td>109209.9</td><td>59</td></tr><tr><td>2004-06</td><td>154857.8</td><td>81</td></tr><tr><td>2004-07</td><td>145015.8</td><td>83</td></tr><tr><td>2004-08</td><td>130981.1</td><td>86</td></tr><tr><td>2004-09</td><td>80704.0</td><td>57</td></tr><tr><td>2004-10</td><td>90880.0</td><td>58</td></tr><tr><td>2004-11</td><td>103714.6</td><td>76</td></tr><tr><td>2004-12</td><td>141884.6</td><td>63</td></tr><tr><td>2005-01</td><td>86929.0</td><td>57</td></tr><tr><td>2005-02</td><td>150074.8</td><td>79</td></tr><tr><td>2005-03</td><td>91070.7</td><td>52</td></tr><tr><td>2005-04</td><td>100941.3</td><td>46</td></tr><tr><td>2005-05</td><td>131434.1</td><td>55</td></tr><tr><td>2005-06</td><td>173197.2</td><td>68</td></tr><tr><td>2005-07</td><td>151225.1</td><td>70</td></tr><tr><td>2005-08</td><td>179586.0</td><td>112</td></tr><tr><td>2005-09</td><td>137089.4</td><td>90</td></tr><tr><td>2005-10</td><td>101556.3</td><td>68</td></tr><tr><td>2005-11</td><td>100800.9</td><td>57</td></tr><tr><td>2005-12</td><td>106911.4</td><td>54</td></tr><tr><td>2006-01</td><td>105126.0</td><td>33</td></tr><tr><td>2006-02</td><td>126552.9</td><td>57</td></tr><tr><td>2006-03</td><td>173438.1</td><td>74</td></tr><tr><td>2006-04</td><td>212210.9</td><td>57</td></tr></tbody></table></div>"
      ]
     },
     "metadata": {
      "application/vnd.databricks.v1+output": {
       "addedWidgets": {},
       "aggData": [],
       "aggError": "",
       "aggOverflow": false,
       "aggSchema": [],
       "aggSeriesLimitReached": false,
       "aggType": "",
       "arguments": {},
       "columnCustomDisplayInfos": {},
       "data": [
        [
         "2003-07",
         55627.3,
         36
        ],
        [
         "2003-08",
         114025.6,
         72
        ],
        [
         "2003-09",
         52547.75,
         49
        ],
        [
         "2003-10",
         91976.7,
         78
        ],
        [
         "2003-11",
         60076.22,
         65
        ],
        [
         "2003-12",
         76363.6,
         75
        ],
        [
         "2004-01",
         90237.5,
         70
        ],
        [
         "2004-02",
         127283.5,
         84
        ],
        [
         "2004-03",
         131775.5,
         77
        ],
        [
         "2004-04",
         184751.1,
         63
        ],
        [
         "2004-05",
         109209.9,
         59
        ],
        [
         "2004-06",
         154857.8,
         81
        ],
        [
         "2004-07",
         145015.8,
         83
        ],
        [
         "2004-08",
         130981.1,
         86
        ],
        [
         "2004-09",
         80704.0,
         57
        ],
        [
         "2004-10",
         90880.0,
         58
        ],
        [
         "2004-11",
         103714.6,
         76
        ],
        [
         "2004-12",
         141884.6,
         63
        ],
        [
         "2005-01",
         86929.0,
         57
        ],
        [
         "2005-02",
         150074.8,
         79
        ],
        [
         "2005-03",
         91070.7,
         52
        ],
        [
         "2005-04",
         100941.3,
         46
        ],
        [
         "2005-05",
         131434.1,
         55
        ],
        [
         "2005-06",
         173197.2,
         68
        ],
        [
         "2005-07",
         151225.1,
         70
        ],
        [
         "2005-08",
         179586.0,
         112
        ],
        [
         "2005-09",
         137089.4,
         90
        ],
        [
         "2005-10",
         101556.3,
         68
        ],
        [
         "2005-11",
         100800.9,
         57
        ],
        [
         "2005-12",
         106911.4,
         54
        ],
        [
         "2006-01",
         105126.0,
         33
        ],
        [
         "2006-02",
         126552.9,
         57
        ],
        [
         "2006-03",
         173438.1,
         74
        ],
        [
         "2006-04",
         212210.9,
         57
        ]
       ],
       "datasetInfos": [],
       "dbfsResultPath": null,
       "isJsonSchema": true,
       "metadata": {},
       "overflow": false,
       "plotOptions": {
        "customPlotOptions": {},
        "displayType": "table",
        "pivotAggregation": null,
        "pivotColumns": null,
        "xColumns": null,
        "yColumns": null
       },
       "removedWidgets": [],
       "schema": [
        {
         "metadata": "{}",
         "name": "Month",
         "type": "\"string\""
        },
        {
         "metadata": "{}",
         "name": "TotalRevenue",
         "type": "\"double\""
        },
        {
         "metadata": "{}",
         "name": "TotalOrders",
         "type": "\"long\""
        }
       ],
       "type": "table"
      }
     },
     "output_type": "display_data"
    },
    {
     "output_type": "display_data",
     "data": {
      "text/plain": [
       "Databricks visualization. Run in Databricks to view."
      ]
     },
     "metadata": {
      "application/vnd.databricks.v1.subcommand+json": {
       "baseErrorDetails": null,
       "bindings": {},
       "collapsed": false,
       "command": "%sql WITH q AS (SELECT \n  DATE_FORMAT(f.OrderDateKey, 'yyyy-MM') AS Month,\n  ROUND(SUM(f.QuantitySold * f.UnitSalesPrice), 2) AS TotalRevenue,\n  COUNT(DISTINCT f.OrderID) AS TotalOrders\nFROM fact_sales f\nGROUP BY DATE_FORMAT(f.OrderDateKey, 'yyyy-MM')\nORDER BY Month) SELECT `Month`,SUM(`TotalRevenue`) `column_a4b919b2155` FROM q GROUP BY `Month`",
       "commandTitle": "time x total revenue",
       "commandType": "auto",
       "commandVersion": 0,
       "commentThread": [],
       "commentsVisible": false,
       "contentSha256Hex": null,
       "customPlotOptions": {
        "redashChart": [
         {
          "key": "type",
          "value": "CHART"
         },
         {
          "key": "options",
          "value": {
           "alignYAxesAtZero": true,
           "coefficient": 1,
           "columnConfigurationMap": {
            "x": {
             "column": "Month",
             "id": "column_a4b919b2153"
            },
            "y": [
             {
              "column": "TotalRevenue",
              "id": "column_a4b919b2155",
              "transform": "SUM"
             }
            ]
           },
           "dateTimeFormat": "DD/MM/YYYY HH:mm",
           "direction": {
            "type": "counterclockwise"
           },
           "error_y": {
            "type": "data",
            "visible": true
           },
           "globalSeriesType": "column",
           "isAggregationOn": true,
           "legend": {
            "traceorder": "normal"
           },
           "missingValuesAsZero": true,
           "numBins": 10,
           "numberFormat": "0,0.[00000]",
           "percentFormat": "0[.]00%",
           "series": {
            "error_y": {
             "type": "data",
             "visible": true
            },
            "stacking": null
           },
           "seriesOptions": {
            "column_a4b919b2148": {
             "name": "TotalOrders",
             "type": "column",
             "yAxis": 0
            },
            "column_a4b919b2155": {
             "type": "column",
             "yAxis": 0
            },
            "column_a4b919b2158": {
             "type": "column",
             "yAxis": 0
            }
           },
           "showDataLabels": false,
           "sizemode": "diameter",
           "sortX": true,
           "sortY": true,
           "swappedAxes": false,
           "textFormat": "",
           "useAggregationsUi": true,
           "valuesOptions": {},
           "version": 2,
           "xAxis": {
            "labels": {
             "enabled": true
            },
            "type": "datetime"
           },
           "yAxis": [
            {
             "type": "-"
            },
            {
             "opposite": true,
             "type": "-"
            }
           ]
          }
         }
        ]
       },
       "datasetPreviewNameToCmdIdMap": {},
       "diffDeletes": [],
       "diffInserts": [],
       "displayType": "redashChart",
       "error": null,
       "errorDetails": null,
       "errorSummary": null,
       "errorTraceType": null,
       "finishTime": 0,
       "globalVars": {},
       "guid": "",
       "height": "auto",
       "hideCommandCode": false,
       "hideCommandResult": false,
       "iPythonMetadata": null,
       "inputWidgets": {},
       "isLockedInExamMode": false,
       "latestUser": "a user",
       "latestUserId": null,
       "listResultMetadata": null,
       "metadata": {},
       "nuid": "1733f217-65c5-4715-8594-82f15d8d370f",
       "origId": 0,
       "parentHierarchy": [],
       "pivotAggregation": null,
       "pivotColumns": null,
       "position": 65.4990234375,
       "resultDbfsErrorMessage": null,
       "resultDbfsStatus": "INLINED_IN_TREE",
       "results": null,
       "showCommandTitle": false,
       "startTime": 0,
       "state": "input",
       "streamStates": {},
       "subcommandOptions": {
        "queryPlan": {
         "groups": [
          {
           "column": "Month",
           "type": "column"
          }
         ],
         "selects": [
          {
           "column": "Month",
           "type": "column"
          },
          {
           "alias": "column_a4b919b2155",
           "args": [
            {
             "column": "TotalRevenue",
             "type": "column"
            }
           ],
           "function": "SUM",
           "type": "function"
          }
         ]
        }
       },
       "submitTime": 0,
       "subtype": "tableResultSubCmd.visualization",
       "tableResultIndex": 0,
       "tableResultSettingsMap": {},
       "useConsistentColors": false,
       "version": "CommandV1",
       "width": "auto",
       "workflows": [],
       "xColumns": null,
       "yColumns": null
      }
     },
     "output_type": "display_data"
    },
    {
     "output_type": "display_data",
     "data": {
      "text/plain": [
       "Databricks visualization. Run in Databricks to view."
      ]
     },
     "metadata": {
      "application/vnd.databricks.v1.subcommand+json": {
       "baseErrorDetails": null,
       "bindings": {},
       "collapsed": false,
       "command": "%sql WITH q AS (SELECT \n  DATE_FORMAT(f.OrderDateKey, 'yyyy-MM') AS Month,\n  ROUND(SUM(f.QuantitySold * f.UnitSalesPrice), 2) AS TotalRevenue,\n  COUNT(DISTINCT f.OrderID) AS TotalOrders\nFROM fact_sales f\nGROUP BY DATE_FORMAT(f.OrderDateKey, 'yyyy-MM')\nORDER BY Month) SELECT `Month`,SUM(`TotalOrders`) `column_a4b919b2163` FROM q GROUP BY `Month`",
       "commandTitle": "time x total orders",
       "commandType": "auto",
       "commandVersion": 0,
       "commentThread": [],
       "commentsVisible": false,
       "contentSha256Hex": null,
       "customPlotOptions": {
        "redashChart": [
         {
          "key": "type",
          "value": "CHART"
         },
         {
          "key": "options",
          "value": {
           "alignYAxesAtZero": true,
           "coefficient": 1,
           "columnConfigurationMap": {
            "x": {
             "column": "Month",
             "id": "column_a4b919b2168"
            },
            "y": [
             {
              "column": "TotalOrders",
              "id": "column_a4b919b2163",
              "transform": "SUM"
             }
            ]
           },
           "dateTimeFormat": "DD/MM/YYYY HH:mm",
           "direction": {
            "type": "counterclockwise"
           },
           "error_y": {
            "type": "data",
            "visible": true
           },
           "globalSeriesType": "column",
           "isAggregationOn": true,
           "legend": {
            "traceorder": "normal"
           },
           "missingValuesAsZero": true,
           "numberFormat": "0,0.[00000]",
           "percentFormat": "0[.]00%",
           "reverseX": false,
           "series": {
            "error_y": {
             "type": "data",
             "visible": true
            },
            "stacking": null
           },
           "seriesOptions": {
            "column_a4b919b2163": {
             "color": "#604FE9",
             "name": "TotalOrders",
             "type": "column",
             "yAxis": 0
            }
           },
           "showDataLabels": false,
           "sizemode": "diameter",
           "sortX": true,
           "sortY": true,
           "swappedAxes": false,
           "textFormat": "",
           "useAggregationsUi": true,
           "valuesOptions": {},
           "version": 2,
           "xAxis": {
            "labels": {
             "enabled": true
            },
            "type": "-"
           },
           "yAxis": [
            {
             "type": "-"
            },
            {
             "opposite": true,
             "type": "-"
            }
           ]
          }
         }
        ]
       },
       "datasetPreviewNameToCmdIdMap": {},
       "diffDeletes": [],
       "diffInserts": [],
       "displayType": "redashChart",
       "error": null,
       "errorDetails": null,
       "errorSummary": null,
       "errorTraceType": null,
       "finishTime": 0,
       "globalVars": {},
       "guid": "",
       "height": "auto",
       "hideCommandCode": false,
       "hideCommandResult": false,
       "iPythonMetadata": null,
       "inputWidgets": {},
       "isLockedInExamMode": false,
       "latestUser": "a user",
       "latestUserId": null,
       "listResultMetadata": null,
       "metadata": {},
       "nuid": "0f0a6dc8-816e-4563-992a-6634e5137e7b",
       "origId": 0,
       "parentHierarchy": [],
       "pivotAggregation": null,
       "pivotColumns": null,
       "position": 66.4990234375,
       "resultDbfsErrorMessage": null,
       "resultDbfsStatus": "INLINED_IN_TREE",
       "results": null,
       "showCommandTitle": false,
       "startTime": 0,
       "state": "input",
       "streamStates": {},
       "subcommandOptions": {
        "queryPlan": {
         "groups": [
          {
           "column": "Month",
           "type": "column"
          }
         ],
         "selects": [
          {
           "column": "Month",
           "type": "column"
          },
          {
           "alias": "column_a4b919b2163",
           "args": [
            {
             "column": "TotalOrders",
             "type": "column"
            }
           ],
           "function": "SUM",
           "type": "function"
          }
         ]
        }
       },
       "submitTime": 0,
       "subtype": "tableResultSubCmd.visualization",
       "tableResultIndex": 0,
       "tableResultSettingsMap": {},
       "useConsistentColors": false,
       "version": "CommandV1",
       "width": "auto",
       "workflows": [],
       "xColumns": null,
       "yColumns": null
      }
     },
     "output_type": "display_data"
    }
   ],
   "source": [
    "%sql\n",
    "-- 📈 Monthly Revenue Trend\n",
    "SELECT \n",
    "  DATE_FORMAT(f.OrderDateKey, 'yyyy-MM') AS Month,\n",
    "  ROUND(SUM(f.QuantitySold * f.UnitSalesPrice), 2) AS TotalRevenue,\n",
    "  COUNT(DISTINCT f.OrderID) AS TotalOrders\n",
    "FROM fact_sales f\n",
    "GROUP BY DATE_FORMAT(f.OrderDateKey, 'yyyy-MM')\n",
    "ORDER BY Month;"
   ]
  },
  {
   "cell_type": "markdown",
   "metadata": {
    "application/vnd.databricks.v1+cell": {
     "cellMetadata": {},
     "inputWidgets": {},
     "nuid": "25f4b9a7-9212-4ac3-a4d7-0535396e6395",
     "showTitle": false,
     "tableResultSettingsMap": {},
     "title": ""
    }
   },
   "source": [
    "###5.11 - 💰 Average Order Value (AOV) by Customer Class\n",
    "\n",
    "This analysis highlights how much each customer class spends per order on average, helping identify which segments offer higher ticket sizes and possibly higher margins.\n",
    "\n",
    "| Customer Class             | Avg Order Value (USD) | Total Orders | Total Revenue (USD) |\n",
    "|----------------------------|----------------------|--------------|---------------------|\n",
    "| HyPermarket                | 5,708.08             | 39           | 222,615.10          |\n",
    "| Large-Scale Wholesaler-1   | 2,466.76             | 1,023        | 2,523,498.00        |\n",
    "| Small-Scale Wholesaler     | 2,334.11             | 476          | 1,111,037.80        |\n",
    "| Large-Scale Wholesaler-2   | 423.34               | 398          | 168,490.75          |\n",
    "| Retailer                   | 280.68               | 140          | 39,295.30           |\n",
    "| Branch                     | 274.58               | 4            | 1,098.30            |\n",
    "| Consumer                   | 22.22                | 181          | 4,021.42            |\n",
    "\n",
    "- **HyPermarkets stand out as the highest-value buyers per transaction**, more than **2x the AOV of major wholesalers**. This validates earlier insights that this segment is worth targeting with tailored offers or strategic partnerships.\n",
    "- **Large-Scale Wholesaler-1** clients place high-value and high-volume orders, forming the core of the business.\n",
    "- AOV drops off significantly in **Wholesaler-2**, Retailer, and Consumer classes — reinforcing that these are less profitable per transaction.\n",
    "- The **Consumer class has the lowest AOV by far (22.22USD)**, further supporting the decision to **avoid retail expansion** and focus on the more lucrative B2B market.\n",
    "\n",
    "> 📌 **Insight**: HyPermarkets are both high-value and low-frequency — ideal for strategic account development. Meanwhile, optimizing pricing or order incentives for Wholesaler-2 and Retailers could help improve margins in those segments."
   ]
  },
  {
   "cell_type": "code",
   "execution_count": 0,
   "metadata": {
    "application/vnd.databricks.v1+cell": {
     "cellMetadata": {
      "byteLimit": 2048000,
      "implicitDf": true,
      "rowLimit": 10000
     },
     "inputWidgets": {},
     "nuid": "d1b90961-f4f8-4327-a60c-ea3cf2ba075d",
     "showTitle": false,
     "tableResultSettingsMap": {},
     "title": ""
    }
   },
   "outputs": [
    {
     "output_type": "display_data",
     "data": {
      "text/html": [
       "<style scoped>\n",
       "  .table-result-container {\n",
       "    max-height: 300px;\n",
       "    overflow: auto;\n",
       "  }\n",
       "  table, th, td {\n",
       "    border: 1px solid black;\n",
       "    border-collapse: collapse;\n",
       "  }\n",
       "  th, td {\n",
       "    padding: 5px;\n",
       "  }\n",
       "  th {\n",
       "    text-align: left;\n",
       "  }\n",
       "</style><div class='table-result-container'><table class='table-result'><thead style='background-color: white'><tr><th>CustomerClass</th><th>AvgOrderValue</th><th>TotalOrders</th><th>TotalRevenue</th></tr></thead><tbody><tr><td>HyPermarket</td><td>5708.08</td><td>39</td><td>222615.1</td></tr><tr><td>Large-Scale Wholesaler-1</td><td>2466.76</td><td>1023</td><td>2523498.0</td></tr><tr><td>Small-Scale Wholesaler</td><td>2334.11</td><td>476</td><td>1111037.8</td></tr><tr><td>Large-Scale Wholesaler-2</td><td>423.34</td><td>398</td><td>168490.75</td></tr><tr><td>Retailer</td><td>280.68</td><td>140</td><td>39295.3</td></tr><tr><td>Branch</td><td>274.58</td><td>4</td><td>1098.3</td></tr><tr><td>Consumer</td><td>22.22</td><td>181</td><td>4021.42</td></tr></tbody></table></div>"
      ]
     },
     "metadata": {
      "application/vnd.databricks.v1+output": {
       "addedWidgets": {},
       "aggData": [],
       "aggError": "",
       "aggOverflow": false,
       "aggSchema": [],
       "aggSeriesLimitReached": false,
       "aggType": "",
       "arguments": {},
       "columnCustomDisplayInfos": {},
       "data": [
        [
         "HyPermarket",
         5708.08,
         39,
         222615.1
        ],
        [
         "Large-Scale Wholesaler-1",
         2466.76,
         1023,
         2523498.0
        ],
        [
         "Small-Scale Wholesaler",
         2334.11,
         476,
         1111037.8
        ],
        [
         "Large-Scale Wholesaler-2",
         423.34,
         398,
         168490.75
        ],
        [
         "Retailer",
         280.68,
         140,
         39295.3
        ],
        [
         "Branch",
         274.58,
         4,
         1098.3
        ],
        [
         "Consumer",
         22.22,
         181,
         4021.42
        ]
       ],
       "datasetInfos": [],
       "dbfsResultPath": null,
       "isJsonSchema": true,
       "metadata": {},
       "overflow": false,
       "plotOptions": {
        "customPlotOptions": {},
        "displayType": "table",
        "pivotAggregation": null,
        "pivotColumns": null,
        "xColumns": null,
        "yColumns": null
       },
       "removedWidgets": [],
       "schema": [
        {
         "metadata": "{}",
         "name": "CustomerClass",
         "type": "\"string\""
        },
        {
         "metadata": "{}",
         "name": "AvgOrderValue",
         "type": "\"double\""
        },
        {
         "metadata": "{}",
         "name": "TotalOrders",
         "type": "\"long\""
        },
        {
         "metadata": "{}",
         "name": "TotalRevenue",
         "type": "\"double\""
        }
       ],
       "type": "table"
      }
     },
     "output_type": "display_data"
    }
   ],
   "source": [
    "%sql\n",
    "-- 💰 Average Order Value by Customer Class\n",
    "SELECT \n",
    "  c.CustomerClass,\n",
    "  ROUND(SUM(f.QuantitySold * f.UnitSalesPrice) / COUNT(DISTINCT f.OrderID), 2) AS AvgOrderValue,\n",
    "  COUNT(DISTINCT f.OrderID) AS TotalOrders,\n",
    "  ROUND(SUM(f.QuantitySold * f.UnitSalesPrice), 2) AS TotalRevenue\n",
    "FROM fact_sales f\n",
    "JOIN dim_customers c ON f.CustomerID = c.CustomerID\n",
    "GROUP BY c.CustomerClass\n",
    "ORDER BY AvgOrderValue DESC;"
   ]
  },
  {
   "cell_type": "markdown",
   "metadata": {
    "application/vnd.databricks.v1+cell": {
     "cellMetadata": {},
     "inputWidgets": {},
     "nuid": "18b9460c-4d90-452f-8213-09fb7f2c40b2",
     "showTitle": false,
     "tableResultSettingsMap": {},
     "title": ""
    }
   },
   "source": [
    "###5.12 - 🔁 Revenue by Customer Loyalty\n",
    "\n",
    "This analysis compares how much revenue comes from repeat customers versus one-time buyers.\n",
    "\n",
    "| Customer Type     | Total Revenue (USD) | % of Total Revenue |\n",
    "|-------------------|--------------------|---------------------|\n",
    "| Repeat Customer   | 4,013,391.57       | 98.61%              |\n",
    "| One-Time Customer |    56,665.10       | 1.39%               |\n",
    "\n",
    "- The business is overwhelmingly driven by **repeat customers**, which is expected for a B2B wholesaler operation.\n",
    "- This reinforces earlier insights that **customer retention is strong**, and that most clients place multiple orders over time.\n",
    "- While there's little value in focusing on one-timers, **the low churn and repeat pattern show high satisfaction and loyalty** among clients.\n",
    "\n",
    "> 📌 **Insight**: A retention-driven sales model is already in place — meaning efforts can shift toward optimizing top-tier client relationships, not just acquiring new customers."
   ]
  },
  {
   "cell_type": "code",
   "execution_count": 0,
   "metadata": {
    "application/vnd.databricks.v1+cell": {
     "cellMetadata": {
      "byteLimit": 2048000,
      "implicitDf": true,
      "rowLimit": 10000
     },
     "inputWidgets": {},
     "nuid": "ba7cab75-9065-448f-bff4-701c2ade3ace",
     "showTitle": false,
     "tableResultSettingsMap": {},
     "title": ""
    }
   },
   "outputs": [
    {
     "output_type": "display_data",
     "data": {
      "text/html": [
       "<style scoped>\n",
       "  .table-result-container {\n",
       "    max-height: 300px;\n",
       "    overflow: auto;\n",
       "  }\n",
       "  table, th, td {\n",
       "    border: 1px solid black;\n",
       "    border-collapse: collapse;\n",
       "  }\n",
       "  th, td {\n",
       "    padding: 5px;\n",
       "  }\n",
       "  th {\n",
       "    text-align: left;\n",
       "  }\n",
       "</style><div class='table-result-container'><table class='table-result'><thead style='background-color: white'><tr><th>CustomerType</th><th>TotalRevenue</th><th>RevenuePercentage</th></tr></thead><tbody><tr><td>Repeat Customer</td><td>4013391.57</td><td>98.61</td></tr><tr><td>One-Time Customer</td><td>56665.1</td><td>1.39</td></tr></tbody></table></div>"
      ]
     },
     "metadata": {
      "application/vnd.databricks.v1+output": {
       "addedWidgets": {},
       "aggData": [],
       "aggError": "",
       "aggOverflow": false,
       "aggSchema": [],
       "aggSeriesLimitReached": false,
       "aggType": "",
       "arguments": {},
       "columnCustomDisplayInfos": {},
       "data": [
        [
         "Repeat Customer",
         4013391.57,
         98.61
        ],
        [
         "One-Time Customer",
         56665.1,
         1.39
        ]
       ],
       "datasetInfos": [],
       "dbfsResultPath": null,
       "isJsonSchema": true,
       "metadata": {},
       "overflow": false,
       "plotOptions": {
        "customPlotOptions": {},
        "displayType": "table",
        "pivotAggregation": null,
        "pivotColumns": null,
        "xColumns": null,
        "yColumns": null
       },
       "removedWidgets": [],
       "schema": [
        {
         "metadata": "{}",
         "name": "CustomerType",
         "type": "\"string\""
        },
        {
         "metadata": "{}",
         "name": "TotalRevenue",
         "type": "\"double\""
        },
        {
         "metadata": "{}",
         "name": "RevenuePercentage",
         "type": "\"double\""
        }
       ],
       "type": "table"
      }
     },
     "output_type": "display_data"
    }
   ],
   "source": [
    "%sql\n",
    "-- 🔁 Repeat vs. One-Time Buyers\n",
    "WITH customer_order_counts AS (\n",
    "  SELECT \n",
    "    CustomerID,\n",
    "    COUNT(DISTINCT OrderID) AS TotalOrders\n",
    "  FROM fact_sales\n",
    "  GROUP BY CustomerID\n",
    ")\n",
    "\n",
    "SELECT \n",
    "  CASE \n",
    "    WHEN c.TotalOrders > 1 THEN 'Repeat Customer'\n",
    "    ELSE 'One-Time Customer'\n",
    "  END AS CustomerType,\n",
    "  ROUND(SUM(f.QuantitySold * f.UnitSalesPrice), 2) AS TotalRevenue,\n",
    "  ROUND(\n",
    "    100 * SUM(f.QuantitySold * f.UnitSalesPrice) / \n",
    "    SUM(SUM(f.QuantitySold * f.UnitSalesPrice)) OVER (), \n",
    "    2\n",
    "  ) AS RevenuePercentage\n",
    "FROM fact_sales f\n",
    "JOIN customer_order_counts c ON f.CustomerID = c.CustomerID\n",
    "GROUP BY CustomerType\n",
    "ORDER BY TotalRevenue DESC;"
   ]
  },
  {
   "cell_type": "markdown",
   "metadata": {
    "application/vnd.databricks.v1+cell": {
     "cellMetadata": {},
     "inputWidgets": {},
     "nuid": "db4cf965-fa54-4894-9453-3795360964d9",
     "showTitle": false,
     "tableResultSettingsMap": {},
     "title": ""
    }
   },
   "source": [
    "###5.13 - 🚚 Shipping Method Overview\n",
    "\n",
    "| Shipping Method | Total Orders Shipped | Total Revenue (USD) | Avg Order Value (USD) | Total Freight Charges (USD) | Avg Freight/Order (USD) |\n",
    "|------------------|----------------------|----------------------|------------------------|------------------------------|--------------------------|\n",
    "| Ex Works         | 106,392              | 4,069,603.07         | 38.25                  | 1,373,294.28                 | 12.91                    |\n",
    "| Container        | 31                   | 453.60               | 14.63                  | 0.00                         | 0.00                     |\n",
    "\n",
    "Despite being part of the dataset, the **Shipping Method field lacks granularity** and strategic diversity. Over **99% of orders** were processed using the `Ex Works` method, making it the only relevant entry for analytical purposes.\n",
    "\n",
    "While freight charges are present and can be analyzed, the **shipping method data itself is not rich or varied enough** to drive operational or strategic insights. This may indicate:\n",
    "- A consistent logistical policy across the business, or\n",
    "- A **limitation in data entry or tracking** practices related to this field.\n",
    "\n",
    "> 📌 **Insight**: The company may benefit from improving the granularity and consistency of its shipping method data to better support future logistics analysis or optimization projects."
   ]
  },
  {
   "cell_type": "code",
   "execution_count": 0,
   "metadata": {
    "application/vnd.databricks.v1+cell": {
     "cellMetadata": {
      "byteLimit": 2048000,
      "implicitDf": true,
      "rowLimit": 10000
     },
     "inputWidgets": {},
     "nuid": "5f36c58c-2ba3-4629-ae26-a78adc40bf18",
     "showTitle": false,
     "tableResultSettingsMap": {},
     "title": ""
    }
   },
   "outputs": [
    {
     "output_type": "display_data",
     "data": {
      "text/html": [
       "<style scoped>\n",
       "  .table-result-container {\n",
       "    max-height: 300px;\n",
       "    overflow: auto;\n",
       "  }\n",
       "  table, th, td {\n",
       "    border: 1px solid black;\n",
       "    border-collapse: collapse;\n",
       "  }\n",
       "  th, td {\n",
       "    padding: 5px;\n",
       "  }\n",
       "  th {\n",
       "    text-align: left;\n",
       "  }\n",
       "</style><div class='table-result-container'><table class='table-result'><thead style='background-color: white'><tr><th>ShippingMethod</th><th>TotalOrdersShipped</th><th>TotalRevenue</th><th>AvgOrderValue</th><th>TotalFreightCharges</th><th>AvgFreightChargePerOrder</th></tr></thead><tbody><tr><td>Ex Works</td><td>106392</td><td>4069603.07</td><td>38.25</td><td>1373294.28</td><td>12.91</td></tr><tr><td>Container</td><td>31</td><td>453.6</td><td>14.63</td><td>0.0</td><td>0.0</td></tr></tbody></table></div>"
      ]
     },
     "metadata": {
      "application/vnd.databricks.v1+output": {
       "addedWidgets": {},
       "aggData": [],
       "aggError": "",
       "aggOverflow": false,
       "aggSchema": [],
       "aggSeriesLimitReached": false,
       "aggType": "",
       "arguments": {},
       "columnCustomDisplayInfos": {},
       "data": [
        [
         "Ex Works",
         106392,
         4069603.07,
         38.25,
         1373294.28,
         12.91
        ],
        [
         "Container",
         31,
         453.6,
         14.63,
         0.0,
         0.0
        ]
       ],
       "datasetInfos": [],
       "dbfsResultPath": null,
       "isJsonSchema": true,
       "metadata": {},
       "overflow": false,
       "plotOptions": {
        "customPlotOptions": {},
        "displayType": "table",
        "pivotAggregation": null,
        "pivotColumns": null,
        "xColumns": null,
        "yColumns": null
       },
       "removedWidgets": [],
       "schema": [
        {
         "metadata": "{}",
         "name": "ShippingMethod",
         "type": "\"string\""
        },
        {
         "metadata": "{}",
         "name": "TotalOrdersShipped",
         "type": "\"long\""
        },
        {
         "metadata": "{}",
         "name": "TotalRevenue",
         "type": "\"double\""
        },
        {
         "metadata": "{}",
         "name": "AvgOrderValue",
         "type": "\"double\""
        },
        {
         "metadata": "{}",
         "name": "TotalFreightCharges",
         "type": "\"double\""
        },
        {
         "metadata": "{}",
         "name": "AvgFreightChargePerOrder",
         "type": "\"double\""
        }
       ],
       "type": "table"
      }
     },
     "output_type": "display_data"
    }
   ],
   "source": [
    "%sql\n",
    "-- 📦 Shipping Method Performance Overview\n",
    "SELECT \n",
    "  s.ShippingMethod,                                      -- Name of shipping method\n",
    "  COUNT(*) AS TotalOrdersShipped,                        -- Total number of orders using this method\n",
    "  ROUND(SUM(f.QuantitySold * f.UnitSalesPrice), 2) AS TotalRevenue,  -- Revenue from these orders\n",
    "  ROUND(AVG(f.QuantitySold * f.UnitSalesPrice), 2) AS AvgOrderValue, -- Average revenue per order\n",
    "  ROUND(SUM(f.FreightCharge), 2) AS TotalFreightCharges,             -- Total freight costs\n",
    "  ROUND(AVG(f.FreightCharge), 2) AS AvgFreightChargePerOrder         -- Average freight per order\n",
    "FROM fact_sales f\n",
    "JOIN dim_shipping_methods s ON f.ShippingMethodID = s.ShippingMethodID\n",
    "GROUP BY s.ShippingMethod\n",
    "ORDER BY TotalOrdersShipped DESC;"
   ]
  },
  {
   "cell_type": "markdown",
   "metadata": {
    "application/vnd.databricks.v1+cell": {
     "cellMetadata": {},
     "inputWidgets": {},
     "nuid": "0d7d2dac-b2b8-4354-8d60-d73701ecc560",
     "showTitle": false,
     "tableResultSettingsMap": {},
     "title": ""
    }
   },
   "source": [
    "##6. ✅ Final Considerations\n",
    "\n",
    "This project allowed for a deep exploration of the company’s sales data by building a star schema and conducting targeted business analysis using PySpark and SQL within the Databricks environment. Despite certain limitations in the raw data, the structure and strategy applied throughout the project delivered valuable insights across multiple dimensions of the business — from customers and products to employees and regional reach.\n",
    "\n",
    "---\n",
    "\n",
    "### 🏢 Business Takeaways\n",
    "\n",
    "The analysis clearly paints the picture of an established B2B operation with strong specialization, market presence, and customer diversity. Below are the key insights and patterns discovered:\n",
    "\n",
    "- **Category Specialization**:  \n",
    "  Over **85% of sales revenue** comes from briefs, with **78% coming specifically from women's panties**. This intense focus confirms a clear specialization in the female intimate apparel segment. However, the product portfolio includes items like men's briefs, undershirts, and even socks. While these generate relatively low revenue, they contribute to **brand depth**, positioning the company as an expert in full-scope intimate wear. These items enhance the brand's identity and emotional appeal — as long as their production aligns with actual demand, they provide strategic value beyond revenue.\n",
    "\n",
    "- **Customer Base**:  \n",
    "  The company serves **over 220 clients**, and while the **top 10 customers account for 54% of the revenue**, the remaining revenue is distributed across many smaller clients — showing strong **client diversification** and reducing dependency.  \n",
    "  Customers such as **C13, C209, C56, and C40** stood out for their **high average order value**, even if they placed fewer orders — suggesting they should be prioritized for relationship development or personalized account strategies.\n",
    "\n",
    "- **Customer Segmentation**:  \n",
    "  The company is almost entirely **wholesale-focused**, with minimal consumer presence. Segments such as **hypermarkets** and **large-scale wholesalers** drive the majority of the business. Better naming conventions and structured classifications (e.g., identifying hypermarkets or branches more clearly) would unlock stronger CRM strategies.\n",
    "\n",
    "- **Lead Source & Customer Acquisition**:  \n",
    "  Over **60% of revenue** comes from customers referred by the **central office**, and almost **20% from traditional advertising**. However, **organic search barely registers**, indicating a huge opportunity for **digital visibility and inbound marketing** to support brand growth.\n",
    "\n",
    "- **Geographic Reach**:  \n",
    "  The company has **strong presence in major metropolitan areas**, especially **Moscow**, which accounts for **46% of revenue**. Yet, it also sells to **70+ other cities**, and about **21% of the revenue comes from these smaller markets** — showing strong distribution and potential for regional expansion through cost-effective sales strategies.\n",
    "\n",
    "- **Employee Performance**:  \n",
    "  Employee E5 was identified as the company's top performer in both revenue and unique clients served. The bottom five employees handled fewer clients and orders, but some — like E15 and E12 — had **impressive revenue per order**, possibly indicating **recent hires or high-potential reps**. These insights can fuel sales coaching, compensation plans, and growth opportunities.\n",
    "\n",
    "- **Customer Behavior**:  \n",
    "  Nearly **99% of the revenue** comes from **repeat customers**, confirming strong retention and satisfaction. This suggests the business has a reliable and recurring demand base and reinforces its strength as a **B2B player**.\n",
    "\n",
    "- **Product Data**:  \n",
    "  While many products had generic or coded names (e.g., “B105”) and lacked useful attributes like color or size, there’s a clear opportunity to improve catalog quality for better **product performance analysis** and **trend tracking**.\n",
    "\n",
    "- **Revenue vs. Payment Discrepancy**:  \n",
    "  The project found that only **648 of 2,261 orders** had corresponding payment information. Because of this, the analysis was based on **order revenue** rather than **recorded payments**, which likely reflects more consistent and accurate business activity.\n",
    "\n",
    "---\n",
    "\n",
    "### 🔍 On Data Quality & Opportunities for Improvement\n",
    "\n",
    "Although key insights were obtained, several **data quality issues** were encountered:\n",
    "\n",
    "- **Missing Payment Info**: The payments dataset lacked complete coverage and contained inconsistencies in payment methods, making it unreliable for financial tracking.\n",
    "- **Shipping Method Granularity**: With only two available methods and minimal variation, shipping insights were limited. More detailed shipping records would allow optimization of logistics and cost management.\n",
    "- **Product Attributes**: The lack of color, consistent sizes, and descriptive product names made deeper product analysis difficult. A stronger product catalog would enhance reporting, personalization, and marketing strategies.\n",
    "- **Customer Classes & Identifiers**: Certain segments (e.g., Large-Scale Wholesaler, Large-Scale Wholesaler-1, Large-Scale Wholesaler-2) were not labeled clearly enough to support specific campaigns or outreach.\n",
    "- **Schema Suggestions**: Some datasets (e.g., inventory transactions, suppliers) were not used in the final fact table, but could support future **star schemas** for:\n",
    "  - **Inventory Management**\n",
    "  - **Supplier Performance**\n",
    "  - **Procurement Analysis**\n",
    "  - **Product Lifecycle Tracking**\n",
    "\n",
    "---\n",
    "\n",
    "### 🧪 Tools, Technologies, and Methodology\n",
    "\n",
    "This project was developed entirely within **Databricks Community Edition** using **Apache Spark**, **SQL**, and **Python (PySpark)**.\n",
    "\n",
    "- **Apache Spark** enabled **distributed data processing**, **schema inference**, and powerful **lazy evaluation**, making it ideal for large-scale joins, transformations, and analytical queries.\n",
    "- **Databricks Notebooks** allowed for an organized, version-controlled development environment, combining **code, output, and markdown-based storytelling** in a single interface.\n",
    "- **SQL Integration** was essential for executing complex queries over the star schema once the tables were registered as temporary views, providing **business-level insights**.\n",
    "- The project also involved detailed **data cleaning**, **schema normalization**, **foreign key tracing**, and **star schema modeling**, all foundational steps for building a scalable data warehouse.\n",
    "\n",
    "---\n",
    "\n",
    "### 🚀 Future Work\n",
    "\n",
    "Several next steps could continue to grow the value of this project:\n",
    "\n",
    "- **Develop additional star schemas** to support inventory, procurement, or marketing analytics.\n",
    "- **Integrate external benchmarking data** to compare pricing, performance, or product popularity with competitors.\n",
    "- **Implement dashboards or APIs** (e.g., Streamlit, Power BI) for interactive stakeholder access to insights.\n",
    "- **Automate pipelines** using tools like **Airflow**, **Delta Live Tables**, or **Make.com** for continuous data updates and real-time reporting.\n",
    "- Explore **machine learning models** for churn prediction, customer segmentation, or demand forecasting.\n",
    "\n",
    "---\n",
    "\n",
    "This project successfully brought structure to raw, fragmented data and turned it into actionable insights. The combination of data modeling, business logic, and analytical storytelling demonstrates how Spark-powered analytics can drive smarter decisions and deeper understanding across any retail or B2B-focused organization."
   ]
  }
 ],
 "metadata": {
  "application/vnd.databricks.v1+notebook": {
   "computePreferences": null,
   "dashboards": [],
   "environmentMetadata": {
    "base_environment": "",
    "environment_version": "1"
   },
   "inputWidgetPreferences": null,
   "language": "python",
   "notebookMetadata": {
    "mostRecentlyExecutedCommandWithImplicitDF": {
     "commandId": 4083571305993413,
     "dataframes": [
      "_sqldf"
     ]
    },
    "pythonIndentUnit": 4
   },
   "notebookName": "Underwear Wholesaler",
   "widgets": {}
  }
 },
 "nbformat": 4,
 "nbformat_minor": 0
}